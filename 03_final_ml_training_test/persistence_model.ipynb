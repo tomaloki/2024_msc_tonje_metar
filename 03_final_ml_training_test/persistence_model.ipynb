{
 "cells": [
  {
   "cell_type": "code",
   "execution_count": 17,
   "id": "d6c88834-9d0d-4581-a7ea-ab1d9dd9ec06",
   "metadata": {},
   "outputs": [],
   "source": [
    "import tensorflow as tf\n",
    "import pandas as pd\n",
    "import xarray as xr\n",
    "import pickle\n",
    "import numpy as np\n",
    "from sklearn.preprocessing import StandardScaler\n",
    "from sklearn.model_selection import train_test_split\n",
    "from sklearn.linear_model import RidgeCV, LassoCV, Ridge, Lasso\n",
    "import matplotlib.pyplot as plt\n",
    "from sklearn.metrics import mean_squared_error, accuracy_score, precision_score, recall_score, f1_score, mean_absolute_error,confusion_matrix, classification_report, roc_curve, auc\n",
    "import seaborn as sns\n",
    "from sklearn.utils import resample\n",
    "from sklearn.neural_network import MLPClassifier\n",
    "import keras\n",
    "#from tensorflow.keras.wrappers.scikit_learn import KerasClassifier\n",
    "\n",
    "\n",
    "\n",
    "\n",
    "# Deep learning model\n",
    "from tensorflow.keras.layers import Input, Dense, Reshape, Concatenate, Embedding, Dropout, Flatten\n",
    "from tensorflow.keras.models import Model, load_model, Sequential\n",
    "from keras.callbacks import EarlyStopping\n",
    "from sklearn.model_selection import GridSearchCV\n",
    "from keras.regularizers import l1\n",
    "from keras.layers import BatchNormalization\n",
    "from scikeras.wrappers import KerasClassifier, KerasRegressor\n",
    "import keras.backend as K\n"
   ]
  },
  {
   "cell_type": "code",
   "execution_count": 18,
   "id": "f296e6eb-1121-42e0-970c-02e0767552a6",
   "metadata": {},
   "outputs": [],
   "source": [
    "parameter_data = pd.read_csv('../02_machine_learning/parameter_data_lead_time_also_FZ.csv')\n",
    "parameter_data.drop(columns=['airport_id'], inplace=True)\n",
    "parameter_data['airport_id'] = pd.factorize(parameter_data['airport'])[0]"
   ]
  },
  {
   "cell_type": "code",
   "execution_count": 19,
   "id": "6cb256d4-d046-45d3-a311-7db21089cfeb",
   "metadata": {},
   "outputs": [],
   "source": [
    "# Train test split\n",
    "X_train, X_test = train_test_split(parameter_data, test_size = 0.2, random_state=9)"
   ]
  },
  {
   "cell_type": "markdown",
   "id": "200c90d5-7530-4db8-b434-86d2b1f89bd1",
   "metadata": {},
   "source": [
    "### Downsampling the occurrences of FALSE for contain_FZ"
   ]
  },
  {
   "cell_type": "code",
   "execution_count": 20,
   "id": "0875e231-be25-4cc6-8ff4-dcba9b925816",
   "metadata": {},
   "outputs": [
    {
     "name": "stdout",
     "output_type": "stream",
     "text": [
      "Size of minority: (440007, 127)\n",
      "Size of minority: (4243, 127)\n",
      "Size of downsampled majority: (4400, 127)\n"
     ]
    }
   ],
   "source": [
    "downsampling_percentage = 0.01\n",
    "\n",
    "fz_majority = X_train[X_train['contain_FZ'] == False]\n",
    "fz_minority = X_train[X_train['contain_FZ'] == True]\n",
    "\n",
    "print(f'Size of minority: {fz_majority.shape}')\n",
    "print(f'Size of minority: {fz_minority.shape}')\n",
    "\n",
    "majority_size = int(len(fz_majority) * downsampling_percentage)\n",
    "\n",
    "#Downsample the majority class to match the minority class\n",
    "downsampled_majority = resample(fz_majority, replace=False, n_samples=majority_size, random_state=42)\n",
    "print(f'Size of downsampled majority: {downsampled_majority.shape}')\n",
    "\n",
    "#Combine the downsampled majority class with the original minority class\n",
    "downsampled_X_train = pd.concat([downsampled_majority, fz_minority])"
   ]
  },
  {
   "cell_type": "code",
   "execution_count": 21,
   "id": "e6ded5da-9518-4cc4-b7d2-dde8a6b640b0",
   "metadata": {},
   "outputs": [
    {
     "name": "stdout",
     "output_type": "stream",
     "text": [
      "Size of majority in test dataset: (109993, 127)\n",
      "Size of minority in test dataset: (1070, 127)\n"
     ]
    }
   ],
   "source": [
    "fz_majority_test = X_test[X_test['contain_FZ'] == False]\n",
    "fz_minority_test = X_test[X_test['contain_FZ'] == True]\n",
    "print(f'Size of majority in test dataset: {fz_majority_test.shape}')\n",
    "print(f'Size of minority in test dataset: {fz_minority_test.shape}')"
   ]
  },
  {
   "cell_type": "code",
   "execution_count": 15,
   "id": "1481810d-0a95-4a97-a706-0b9fe8615e7c",
   "metadata": {},
   "outputs": [],
   "source": [
    "X_train_downsampled = downsampled_X_train.drop(['contain_FZ'], axis=1)\n",
    "y_train = downsampled_X_train['contain_FZ']\n",
    "y_test = X_test['contain_FZ']\n",
    "X_test = X_test.drop(['contain_FZ'], axis=1)"
   ]
  },
  {
   "cell_type": "markdown",
   "id": "49567e00-3692-4ddc-95ed-1708ab811ee5",
   "metadata": {},
   "source": [
    "## F1-score "
   ]
  },
  {
   "cell_type": "code",
   "execution_count": 22,
   "id": "fb11654f-fcd9-467b-989e-3f766f19bc81",
   "metadata": {},
   "outputs": [],
   "source": [
    "def f1_score_calc(y_true, y_pred): #taken from old keras source code\n",
    "    true_positives = K.sum(K.round(K.clip(y_true * y_pred, 0, 1)))\n",
    "    possible_positives = K.sum(K.round(K.clip(y_true, 0, 1)))\n",
    "    predicted_positives = K.sum(K.round(K.clip(y_pred, 0, 1)))\n",
    "    precision = true_positives / (predicted_positives + K.epsilon())\n",
    "    recall = true_positives / (possible_positives + K.epsilon())\n",
    "    f1_val = 2*(precision*recall)/(precision+recall+K.epsilon())\n",
    "    return f1_val"
   ]
  },
  {
   "cell_type": "markdown",
   "id": "55668e07-047f-4dcc-a830-4e64a2f98b30",
   "metadata": {},
   "source": [
    "## Standardize features"
   ]
  },
  {
   "cell_type": "code",
   "execution_count": 24,
   "id": "73737fbb-9d1e-4ffe-b13a-ece168c848aa",
   "metadata": {},
   "outputs": [],
   "source": [
    "data_params = ['air_temperature_0m', 'air_temperature_2m', 'relative_humidity_2m', 'x_wind_10m', 'y_wind_10m', 'fog_area_fraction', 'surface_air_pressure', \n",
    "               'air_pressure_at_sea_level', 'precipitation_amount_calculated',\n",
    "              'air_temperature_pl_850', 'x_wind_pl_850', 'y_wind_pl_850', 'air_temperature_pl_925', 'x_wind_pl_925', 'y_wind_pl_925',\n",
    "              'liquid_water_content_of_surface_snow']"
   ]
  },
  {
   "cell_type": "code",
   "execution_count": 25,
   "id": "b0b90fe7-e010-4493-8414-c9c658aee6c3",
   "metadata": {},
   "outputs": [],
   "source": [
    "scaler = StandardScaler()\n",
    "\n",
    "X_train_downsampled[data_params] = scaler.fit_transform(X_train_downsampled[data_params])\n",
    "X_test[data_params] = scaler.transform(X_test[data_params])"
   ]
  },
  {
   "cell_type": "markdown",
   "id": "b7cc3463-70bc-4ff3-947a-96ebaf4d740e",
   "metadata": {},
   "source": [
    "## Embedding layer for airport id"
   ]
  },
  {
   "cell_type": "code",
   "execution_count": 26,
   "id": "0fc3eb44-553a-4b5b-8a69-08639afb1b51",
   "metadata": {},
   "outputs": [
    {
     "name": "stdout",
     "output_type": "stream",
     "text": [
      "Number of airports: 54\n"
     ]
    }
   ],
   "source": [
    "num_airports = len(parameter_data['airport_id'].unique())\n",
    "print(f'Number of airports: {num_airports}')\n",
    "input_aid = Input(shape=(1,))\n",
    "output_dim = 20\n",
    "\n",
    "embedding_layer = Embedding(input_dim=num_airports, output_dim=output_dim, name=\"embedding_airport\")(input_aid)\n",
    "flatten_airports = Flatten()(embedding_layer)\n",
    "\n",
    "emb_cat = Reshape(target_shape=(output_dim,))(flatten_airports)"
   ]
  },
  {
   "cell_type": "markdown",
   "id": "287ecea2-b7f9-4832-b548-ee4d8c83193d",
   "metadata": {},
   "source": [
    "## Model:ANN"
   ]
  },
  {
   "cell_type": "code",
   "execution_count": 27,
   "id": "8e3b79e8-120b-4fc6-8b8f-0eb36b92676b",
   "metadata": {},
   "outputs": [],
   "source": [
    "l1_lambda = 0.002\n",
    "\n",
    "#param_features_dim = Input(shape=(16,))\n",
    "\n",
    "# Concatenate embedded categorical airport feature with param features\n",
    "concat = Concatenate()([emb_cat])\n",
    "\n",
    "dense_layer_1 = Dense(units=64, kernel_initializer='he_uniform', kernel_regularizer=l1(l1_lambda), activation='relu')(concat)\n",
    "batch_norm_1 = BatchNormalization()(dense_layer_1)\n",
    "#dropout_1 = Dropout(0.2)(batch_norm_1)\n",
    "\n",
    "dense_layer_2 = Dense(units=64, kernel_initializer='he_uniform', kernel_regularizer=l1(l1_lambda),activation='relu')(batch_norm_1)\n",
    "batch_norm_2 = BatchNormalization()(dense_layer_2)\n",
    "\n",
    "dense_layer_3 = Dense(units=64, kernel_initializer='he_uniform', kernel_regularizer=l1(l1_lambda),activation='relu')(batch_norm_2)\n",
    "batch_norm_3 = BatchNormalization()(dense_layer_3)\n",
    "\n",
    "\n",
    "#dense_layer_4 = Dense(units=64, kernel_initializer='he_uniform', kernel_regularizer=l1(l1_lambda),activation='relu')(batch_norm_3)\n",
    "#batch_norm_4 = BatchNormalization()(dense_layer_4)\n",
    "\n",
    "#dense_layer_4 = Dense(units=32, kernel_initializer='he_uniform', kernel_regularizer=l1(l1_lambda),activation='relu')(dense_layer_3)\n",
    "\n",
    "#batch_norm_2 = BatchNormalization()(dense_layer_3)\n",
    "\n",
    "#dense_layer_3 = Dense(units=64, kernel_initializer='he_uniform', kernel_regularizer=l1(l1_lambda), activation='relu')(batch_norm_2)\n",
    "#batch_norm_3 = BatchNormalization()(dense_layer_3)\n",
    "\n",
    "#dense_layer_4 = Dense(units=32, kernel_initializer='he_uniform', kernel_regularizer=l1(l1_lambda), activation='relu')(batch_norm_3)\n",
    "#batch_norm_4 = BatchNormalization()(dense_layer_4)\n",
    "\n",
    "# Output Layer\n",
    "output_layer = Dense(units=1, activation='sigmoid')(batch_norm_3)\n",
    "model = Model(inputs=[input_aid], outputs=output_layer)"
   ]
  },
  {
   "cell_type": "code",
   "execution_count": 28,
   "id": "97ee4437-2464-4bed-a015-b2d45e4ccc84",
   "metadata": {},
   "outputs": [
    {
     "name": "stdout",
     "output_type": "stream",
     "text": [
      "Model: \"model\"\n",
      "_________________________________________________________________\n",
      " Layer (type)                Output Shape              Param #   \n",
      "=================================================================\n",
      " input_1 (InputLayer)        [(None, 1)]               0         \n",
      "                                                                 \n",
      " embedding_airport (Embeddi  (None, 1, 20)             1080      \n",
      " ng)                                                             \n",
      "                                                                 \n",
      " flatten (Flatten)           (None, 20)                0         \n",
      "                                                                 \n",
      " reshape (Reshape)           (None, 20)                0         \n",
      "                                                                 \n",
      " concatenate (Concatenate)   (None, 20)                0         \n",
      "                                                                 \n",
      " dense (Dense)               (None, 64)                1344      \n",
      "                                                                 \n",
      " batch_normalization (Batch  (None, 64)                256       \n",
      " Normalization)                                                  \n",
      "                                                                 \n",
      " dense_1 (Dense)             (None, 64)                4160      \n",
      "                                                                 \n",
      " batch_normalization_1 (Bat  (None, 64)                256       \n",
      " chNormalization)                                                \n",
      "                                                                 \n",
      " dense_2 (Dense)             (None, 64)                4160      \n",
      "                                                                 \n",
      " batch_normalization_2 (Bat  (None, 64)                256       \n",
      " chNormalization)                                                \n",
      "                                                                 \n",
      " dense_3 (Dense)             (None, 1)                 65        \n",
      "                                                                 \n",
      "=================================================================\n",
      "Total params: 11577 (45.22 KB)\n",
      "Trainable params: 11193 (43.72 KB)\n",
      "Non-trainable params: 384 (1.50 KB)\n",
      "_________________________________________________________________\n"
     ]
    }
   ],
   "source": [
    "model.summary()"
   ]
  },
  {
   "cell_type": "code",
   "execution_count": 29,
   "id": "c0aecdd1-927c-40f7-8464-bf45c9c36964",
   "metadata": {},
   "outputs": [],
   "source": [
    "# Compile the model\n",
    "ml_optimizer = keras.optimizers.Adam(learning_rate=0.001)\n",
    "model.compile(loss='binary_crossentropy', optimizer=ml_optimizer, metrics=[f1_score_calc])"
   ]
  },
  {
   "cell_type": "code",
   "execution_count": 30,
   "id": "51a57978-5f98-45f1-8cea-ffdb6e04c5c2",
   "metadata": {},
   "outputs": [],
   "source": [
    "# Define early stopping\n",
    "early_stopping = EarlyStopping(monitor='val_loss', patience=10, restore_best_weights=True)"
   ]
  },
  {
   "cell_type": "code",
   "execution_count": 31,
   "id": "de91f0f6-55c5-47c4-abe7-c743d30839d6",
   "metadata": {},
   "outputs": [
    {
     "name": "stdout",
     "output_type": "stream",
     "text": [
      "Epoch 1/100\n"
     ]
    },
    {
     "name": "stderr",
     "output_type": "stream",
     "text": [
      "/home/tonjek/.local/lib/python3.9/site-packages/keras/src/engine/data_adapter.py:1808: FutureWarning: The behavior of `series[i:j]` with an integer-dtype index is deprecated. In a future version, this will be treated as *label-based* indexing, consistent with e.g. `series[i]` lookups. To retain the old behavior, use `series.iloc[i:j]`. To get the future behavior, use `series.loc[i:j]`.\n",
      "  return t[start:end]\n"
     ]
    },
    {
     "name": "stdout",
     "output_type": "stream",
     "text": [
      "217/217 [==============================] - 2s 2ms/step - loss: 3.3886 - f1_score_calc: 0.5494 - val_loss: 3.5312 - val_f1_score_calc: 0.0000e+00\n",
      "Epoch 2/100\n",
      "217/217 [==============================] - 0s 2ms/step - loss: 2.7012 - f1_score_calc: 0.5451 - val_loss: 2.7777 - val_f1_score_calc: 0.3244\n",
      "Epoch 3/100\n",
      "217/217 [==============================] - 0s 1ms/step - loss: 2.1983 - f1_score_calc: 0.5340 - val_loss: 2.3050 - val_f1_score_calc: 0.5716\n",
      "Epoch 4/100\n",
      "217/217 [==============================] - 0s 1ms/step - loss: 1.8280 - f1_score_calc: 0.5421 - val_loss: 1.9645 - val_f1_score_calc: 0.5535\n",
      "Epoch 5/100\n",
      "217/217 [==============================] - 0s 1ms/step - loss: 1.5330 - f1_score_calc: 0.5445 - val_loss: 1.7048 - val_f1_score_calc: 0.5492\n",
      "Epoch 6/100\n",
      "217/217 [==============================] - 0s 1ms/step - loss: 1.3096 - f1_score_calc: 0.5432 - val_loss: 1.5038 - val_f1_score_calc: 0.5332\n",
      "Epoch 7/100\n",
      "217/217 [==============================] - 0s 1ms/step - loss: 1.1521 - f1_score_calc: 0.5347 - val_loss: 1.3626 - val_f1_score_calc: 0.5064\n",
      "Epoch 8/100\n",
      "217/217 [==============================] - 0s 1ms/step - loss: 1.0168 - f1_score_calc: 0.5199 - val_loss: 1.2214 - val_f1_score_calc: 0.4512\n",
      "Epoch 9/100\n",
      "217/217 [==============================] - 0s 1ms/step - loss: 0.9142 - f1_score_calc: 0.5083 - val_loss: 1.2125 - val_f1_score_calc: 0.5397\n",
      "Epoch 10/100\n",
      "217/217 [==============================] - 0s 1ms/step - loss: 0.8331 - f1_score_calc: 0.5124 - val_loss: 1.1273 - val_f1_score_calc: 0.5096\n",
      "Epoch 11/100\n",
      "217/217 [==============================] - 0s 1ms/step - loss: 0.7677 - f1_score_calc: 0.5137 - val_loss: 1.0095 - val_f1_score_calc: 0.5005\n",
      "Epoch 12/100\n",
      "217/217 [==============================] - 0s 2ms/step - loss: 0.7140 - f1_score_calc: 0.5045 - val_loss: 0.9282 - val_f1_score_calc: 0.4546\n",
      "Epoch 13/100\n",
      "217/217 [==============================] - 0s 2ms/step - loss: 0.6789 - f1_score_calc: 0.5114 - val_loss: 0.8810 - val_f1_score_calc: 0.5064\n",
      "Epoch 14/100\n",
      "217/217 [==============================] - 0s 2ms/step - loss: 0.6467 - f1_score_calc: 0.5127 - val_loss: 0.9329 - val_f1_score_calc: 0.5064\n",
      "Epoch 15/100\n",
      "217/217 [==============================] - 0s 2ms/step - loss: 0.6202 - f1_score_calc: 0.5384 - val_loss: 0.8787 - val_f1_score_calc: 0.6087\n",
      "Epoch 16/100\n",
      "217/217 [==============================] - 0s 2ms/step - loss: 0.6019 - f1_score_calc: 0.5275 - val_loss: 0.8391 - val_f1_score_calc: 0.5746\n",
      "Epoch 17/100\n",
      "217/217 [==============================] - 0s 2ms/step - loss: 0.5831 - f1_score_calc: 0.5432 - val_loss: 0.8329 - val_f1_score_calc: 0.5332\n",
      "Epoch 18/100\n",
      "217/217 [==============================] - 0s 2ms/step - loss: 0.5727 - f1_score_calc: 0.5496 - val_loss: 0.8594 - val_f1_score_calc: 0.5064\n",
      "Epoch 19/100\n",
      "217/217 [==============================] - 0s 2ms/step - loss: 0.5591 - f1_score_calc: 0.5450 - val_loss: 0.9416 - val_f1_score_calc: 0.5064\n",
      "Epoch 20/100\n",
      "217/217 [==============================] - 0s 2ms/step - loss: 0.5532 - f1_score_calc: 0.5558 - val_loss: 0.9632 - val_f1_score_calc: 0.5064\n",
      "Epoch 21/100\n",
      "217/217 [==============================] - 0s 2ms/step - loss: 0.5450 - f1_score_calc: 0.5483 - val_loss: 0.7889 - val_f1_score_calc: 0.6051\n",
      "Epoch 22/100\n",
      "217/217 [==============================] - 0s 1ms/step - loss: 0.5435 - f1_score_calc: 0.5549 - val_loss: 0.8618 - val_f1_score_calc: 0.5652\n",
      "Epoch 23/100\n",
      "217/217 [==============================] - 0s 1ms/step - loss: 0.5408 - f1_score_calc: 0.5502 - val_loss: 0.8083 - val_f1_score_calc: 0.5064\n",
      "Epoch 24/100\n",
      "217/217 [==============================] - 0s 1ms/step - loss: 0.5383 - f1_score_calc: 0.5268 - val_loss: 0.8628 - val_f1_score_calc: 0.5064\n",
      "Epoch 25/100\n",
      "217/217 [==============================] - 0s 1ms/step - loss: 0.5394 - f1_score_calc: 0.5301 - val_loss: 0.7920 - val_f1_score_calc: 0.6477\n",
      "Epoch 26/100\n",
      "217/217 [==============================] - 0s 1ms/step - loss: 0.5386 - f1_score_calc: 0.5501 - val_loss: 0.8286 - val_f1_score_calc: 0.5513\n",
      "Epoch 27/100\n",
      "217/217 [==============================] - 0s 1ms/step - loss: 0.5370 - f1_score_calc: 0.5449 - val_loss: 0.8274 - val_f1_score_calc: 0.5064\n",
      "Epoch 28/100\n",
      "217/217 [==============================] - 0s 1ms/step - loss: 0.5363 - f1_score_calc: 0.5358 - val_loss: 0.7768 - val_f1_score_calc: 0.7450\n",
      "Epoch 29/100\n",
      "217/217 [==============================] - 0s 1ms/step - loss: 0.5319 - f1_score_calc: 0.5566 - val_loss: 0.8513 - val_f1_score_calc: 0.5064\n",
      "Epoch 30/100\n",
      "217/217 [==============================] - 0s 1ms/step - loss: 0.5322 - f1_score_calc: 0.5385 - val_loss: 0.8412 - val_f1_score_calc: 0.5332\n",
      "Epoch 31/100\n",
      "217/217 [==============================] - 0s 1ms/step - loss: 0.5400 - f1_score_calc: 0.5488 - val_loss: 0.7505 - val_f1_score_calc: 0.7786\n",
      "Epoch 32/100\n",
      "217/217 [==============================] - 0s 2ms/step - loss: 0.5384 - f1_score_calc: 0.5532 - val_loss: 0.8835 - val_f1_score_calc: 0.5064\n",
      "Epoch 33/100\n",
      "217/217 [==============================] - 0s 2ms/step - loss: 0.5353 - f1_score_calc: 0.5636 - val_loss: 0.8740 - val_f1_score_calc: 0.5332\n",
      "Epoch 34/100\n",
      "217/217 [==============================] - 0s 2ms/step - loss: 0.5324 - f1_score_calc: 0.5503 - val_loss: 0.7592 - val_f1_score_calc: 0.6758\n",
      "Epoch 35/100\n",
      "217/217 [==============================] - 0s 2ms/step - loss: 0.5315 - f1_score_calc: 0.5528 - val_loss: 0.7858 - val_f1_score_calc: 0.7643\n",
      "Epoch 36/100\n",
      "217/217 [==============================] - 0s 2ms/step - loss: 0.5339 - f1_score_calc: 0.5517 - val_loss: 0.8167 - val_f1_score_calc: 0.5332\n",
      "Epoch 37/100\n",
      "217/217 [==============================] - 0s 1ms/step - loss: 0.5350 - f1_score_calc: 0.5443 - val_loss: 0.8394 - val_f1_score_calc: 0.5332\n",
      "Epoch 38/100\n",
      "217/217 [==============================] - 0s 1ms/step - loss: 0.5336 - f1_score_calc: 0.5594 - val_loss: 0.8393 - val_f1_score_calc: 0.5332\n",
      "Epoch 39/100\n",
      "217/217 [==============================] - 0s 2ms/step - loss: 0.5311 - f1_score_calc: 0.5521 - val_loss: 0.7843 - val_f1_score_calc: 0.5332\n",
      "Epoch 40/100\n",
      "217/217 [==============================] - 0s 2ms/step - loss: 0.5334 - f1_score_calc: 0.5450 - val_loss: 0.7714 - val_f1_score_calc: 0.7417\n",
      "Epoch 41/100\n",
      "217/217 [==============================] - 0s 2ms/step - loss: 0.5322 - f1_score_calc: 0.5463 - val_loss: 0.8896 - val_f1_score_calc: 0.5064\n"
     ]
    }
   ],
   "source": [
    "history = model.fit([X_train_downsampled['airport_id']], y_train, epochs=100, batch_size=32, shuffle=True, validation_split=0.2, verbose=1, callbacks=early_stopping)"
   ]
  },
  {
   "cell_type": "code",
   "execution_count": 32,
   "id": "d332a170-76d2-4a97-8075-1723f253b7f2",
   "metadata": {},
   "outputs": [
    {
     "data": {
      "image/png": "[encoded data removed]",
      "text/plain": [
       "<Figure size 640x480 with 1 Axes>"
      ]
     },
     "metadata": {},
     "output_type": "display_data"
    }
   ],
   "source": [
    "history = pd.DataFrame(history.history)\n",
    "cmap_loss_val = sns.color_palette('viridis', 2)\n",
    "\n",
    "\n",
    "plt.plot(history.loc[:, ['loss']], color=cmap_loss_val[0], label='Training loss')\n",
    "plt.plot(history.loc[:, ['val_loss']], color=cmap_loss_val[1], label='Validation loss')\n",
    "plt.title('Training and Validation loss: Persistence Model, 1% of Majority Class')\n",
    "plt.xlabel('Epochs')\n",
    "plt.ylabel('Loss')\n",
    "plt.legend(loc=\"best\")\n",
    "plt.grid(True)\n",
    "\n",
    "plt.savefig('training_validation_loss.png')\n",
    "plt.show()"
   ]
  },
  {
   "cell_type": "markdown",
   "id": "08551137-75a4-4d83-868e-f2b9f46be79c",
   "metadata": {},
   "source": [
    "## Prediction"
   ]
  },
  {
   "cell_type": "code",
   "execution_count": 33,
   "id": "c08d07d6-a2b6-42bc-b564-6172a35c60ce",
   "metadata": {},
   "outputs": [
    {
     "name": "stdout",
     "output_type": "stream",
     "text": [
      "3471/3471 [==============================] - 2s 611us/step\n"
     ]
    }
   ],
   "source": [
    "# Make predictions\n",
    "y_pred = model.predict([X_test['airport_id']])"
   ]
  },
  {
   "cell_type": "code",
   "execution_count": 34,
   "id": "ae4ec3ef-860e-404d-8a02-d0ec8b56ba48",
   "metadata": {},
   "outputs": [
    {
     "name": "stdout",
     "output_type": "stream",
     "text": [
      "              precision    recall  f1-score   support\n",
      "\n",
      "       False       1.00      0.70      0.82    109993\n",
      "        True       0.02      0.74      0.05      1070\n",
      "\n",
      "    accuracy                           0.70    111063\n",
      "   macro avg       0.51      0.72      0.43    111063\n",
      "weighted avg       0.99      0.70      0.82    111063\n",
      "\n"
     ]
    }
   ],
   "source": [
    "y_pred_val = (y_pred > 0.4)\n",
    "print(classification_report(y_test, y_pred_val))"
   ]
  },
  {
   "cell_type": "code",
   "execution_count": 35,
   "id": "8fb04d83-e5c7-44bb-857a-f0a57bd7c7b8",
   "metadata": {},
   "outputs": [],
   "source": [
    "conf_matrix = confusion_matrix(y_test, y_pred_val)"
   ]
  },
  {
   "cell_type": "code",
   "execution_count": 36,
   "id": "5a29da5d-8997-4ee6-a35b-8658178e1e3d",
   "metadata": {},
   "outputs": [
    {
     "data": {
      "text/plain": [
       "array([[77209, 32784],\n",
       "       [  276,   794]])"
      ]
     },
     "execution_count": 36,
     "metadata": {},
     "output_type": "execute_result"
    }
   ],
   "source": [
    "conf_matrix"
   ]
  },
  {
   "cell_type": "code",
   "execution_count": 37,
   "id": "9a2a2163-e15b-488f-ab3f-263747b62b6d",
   "metadata": {},
   "outputs": [],
   "source": [
    "from sklearn.metrics import f1_score\n",
    "\n",
    "f1 = f1_score(y_test, y_pred_val)"
   ]
  },
  {
   "cell_type": "code",
   "execution_count": 38,
   "id": "7ad90f7a-f5c9-457f-9b6d-2262b09c988f",
   "metadata": {},
   "outputs": [
    {
     "data": {
      "text/plain": [
       "0.04583237127684137"
      ]
     },
     "execution_count": 38,
     "metadata": {},
     "output_type": "execute_result"
    }
   ],
   "source": [
    "f1"
   ]
  },
  {
   "cell_type": "markdown",
   "id": "8ceb55eb-ed57-4457-a9ee-dd38f791ee3f",
   "metadata": {},
   "source": [
    "## ROC AUC"
   ]
  },
  {
   "cell_type": "code",
   "execution_count": 39,
   "id": "0b4094df-a7b7-4fa1-8470-2f509620ad1f",
   "metadata": {},
   "outputs": [
    {
     "data": {
      "image/png": "[encoded data removed]",
      "text/plain": [
       "<Figure size 800x600 with 1 Axes>"
      ]
     },
     "metadata": {},
     "output_type": "display_data"
    }
   ],
   "source": [
    "\n",
    "# Calculate fpr, tpr, thresholds\n",
    "fpr, tpr, thresholds = roc_curve(y_test, y_pred)\n",
    "\n",
    "# Calculate AUC\n",
    "roc_auc = auc(fpr, tpr)\n",
    "\n",
    "# Plot ROC curve\n",
    "plt.figure(figsize=(8, 6))\n",
    "plt.plot(fpr, tpr, color='blue', lw=2, label=f'ROC curve (AUC = {roc_auc:.2f})')\n",
    "plt.plot([0, 1], [0, 1], color='gray', linestyle='--')\n",
    "plt.xlim([0.0, 1.0])\n",
    "plt.ylim([0.0, 1.05])\n",
    "plt.xlabel('False Positive Rate')\n",
    "plt.ylabel('True Positive Rate')\n",
    "plt.title('ROC Curve: Persistence Model, 1% of Majority Class')\n",
    "plt.legend(loc=\"lower right\")\n",
    "plt.grid(True)\n",
    "plt.savefig('rocauc_persistence.png')\n",
    "plt.show()"
   ]
  },
  {
   "cell_type": "code",
   "execution_count": 1,
   "id": "bfe1ce4e-b66a-48a6-96c2-ec1c33ef93a9",
   "metadata": {},
   "outputs": [],
   "source": [
    "# Save y_pred as numpy\n",
    "#np.save('y_pred_persistence.npy', y_pred)\n",
    "\n",
    "# Save corresponding y_test\n",
    "#np.save('y_test_persistence', y_test)"
   ]
  },
  {
   "cell_type": "markdown",
   "id": "42204b8f-b22f-41a7-8b72-4b59c7320993",
   "metadata": {},
   "source": [
    "# Analyzation of data\n",
    "The code from here and forward is for analyzation purposes. "
   ]
  },
  {
   "cell_type": "code",
   "execution_count": 40,
   "id": "229a9a04-e05a-448b-aece-343a7b7f3a43",
   "metadata": {},
   "outputs": [],
   "source": [
    "y_pred = y_pred.flatten()"
   ]
  },
  {
   "cell_type": "code",
   "execution_count": 41,
   "id": "491aa1c2-ff18-42b4-807c-4d26461f68f5",
   "metadata": {},
   "outputs": [],
   "source": [
    "comparison_df = pd.DataFrame({'Actual': y_test, 'Predicted': y_pred, 'Time': X_test['time'], 'Metar': X_test['metar']})"
   ]
  },
  {
   "cell_type": "code",
   "execution_count": 42,
   "id": "492b38dd-0f8d-4b34-8f9a-e33e9eb231b5",
   "metadata": {},
   "outputs": [],
   "source": [
    "comparison_df.to_csv('comparison.csv', index=False)"
   ]
  },
  {
   "cell_type": "code",
   "execution_count": 43,
   "id": "ac745ae7-a9bd-4513-ab72-885d756cf96c",
   "metadata": {},
   "outputs": [],
   "source": [
    "pd.set_option('display.max_colwidth', 3000)"
   ]
  },
  {
   "cell_type": "code",
   "execution_count": 44,
   "id": "1c33f2bb-396b-45c3-8028-0c065a006f78",
   "metadata": {},
   "outputs": [
    {
     "data": {
      "text/html": [
       "<div>\n",
       "<style scoped>\n",
       "    .dataframe tbody tr th:only-of-type {\n",
       "        vertical-align: middle;\n",
       "    }\n",
       "\n",
       "    .dataframe tbody tr th {\n",
       "        vertical-align: top;\n",
       "    }\n",
       "\n",
       "    .dataframe thead th {\n",
       "        text-align: right;\n",
       "    }\n",
       "</style>\n",
       "<table border=\"1\" class=\"dataframe\">\n",
       "  <thead>\n",
       "    <tr style=\"text-align: right;\">\n",
       "      <th></th>\n",
       "      <th>Actual</th>\n",
       "      <th>Predicted</th>\n",
       "      <th>Time</th>\n",
       "      <th>Metar</th>\n",
       "    </tr>\n",
       "  </thead>\n",
       "  <tbody>\n",
       "  </tbody>\n",
       "</table>\n",
       "</div>"
      ],
      "text/plain": [
       "Empty DataFrame\n",
       "Columns: [Actual, Predicted, Time, Metar]\n",
       "Index: []"
      ]
     },
     "execution_count": 44,
     "metadata": {},
     "output_type": "execute_result"
    }
   ],
   "source": [
    "comparison_df[comparison_df['Predicted'] > 0.95].head(50)"
   ]
  },
  {
   "cell_type": "code",
   "execution_count": 45,
   "id": "96e90958-dc9d-4abe-b4d7-5cd29ae44b46",
   "metadata": {},
   "outputs": [
    {
     "data": {
      "text/html": [
       "<div>\n",
       "<style scoped>\n",
       "    .dataframe tbody tr th:only-of-type {\n",
       "        vertical-align: middle;\n",
       "    }\n",
       "\n",
       "    .dataframe tbody tr th {\n",
       "        vertical-align: top;\n",
       "    }\n",
       "\n",
       "    .dataframe thead th {\n",
       "        text-align: right;\n",
       "    }\n",
       "</style>\n",
       "<table border=\"1\" class=\"dataframe\">\n",
       "  <thead>\n",
       "    <tr style=\"text-align: right;\">\n",
       "      <th></th>\n",
       "      <th>Actual</th>\n",
       "      <th>Predicted</th>\n",
       "      <th>Time</th>\n",
       "      <th>Metar</th>\n",
       "    </tr>\n",
       "  </thead>\n",
       "  <tbody>\n",
       "    <tr>\n",
       "      <th>177484</th>\n",
       "      <td>True</td>\n",
       "      <td>0.707845</td>\n",
       "      <td>2022-01-03 09:00:00</td>\n",
       "      <td>ENGM 030920Z 00000KT 0650 R19R/1000D R01R/1100N R19L/0650N R01L/0750N FZFG VV003 M03/M03 Q0987 TEMPO 0500 FZFG=</td>\n",
       "    </tr>\n",
       "    <tr>\n",
       "      <th>411876</th>\n",
       "      <td>True</td>\n",
       "      <td>0.533378</td>\n",
       "      <td>2023-03-13 22:00:00</td>\n",
       "      <td>ENRY 132150Z 33008KT 6000 -FZRA SCT004/// BKN008/// OVC029/// M00/M01 Q0969 REFZUP=</td>\n",
       "    </tr>\n",
       "    <tr>\n",
       "      <th>330844</th>\n",
       "      <td>True</td>\n",
       "      <td>0.809643</td>\n",
       "      <td>2023-11-18 14:00:00</td>\n",
       "      <td>ENNM 181350Z 07009KT 9999 OVC059/// M05/M06 Q1021 REFZRA=</td>\n",
       "    </tr>\n",
       "    <tr>\n",
       "      <th>125144</th>\n",
       "      <td>True</td>\n",
       "      <td>0.527121</td>\n",
       "      <td>2021-01-19 23:00:00</td>\n",
       "      <td>ENCN 192320Z 05010KT 9999 OVC006/// 00/M00 Q0996 REFZRA=</td>\n",
       "    </tr>\n",
       "    <tr>\n",
       "      <th>328576</th>\n",
       "      <td>True</td>\n",
       "      <td>0.809643</td>\n",
       "      <td>2023-03-08 02:00:00</td>\n",
       "      <td>ENNM 080220Z 10015KT 9999 -FZRA ////// M09/M14 Q0992=</td>\n",
       "    </tr>\n",
       "    <tr>\n",
       "      <th>19918</th>\n",
       "      <td>True</td>\n",
       "      <td>0.522082</td>\n",
       "      <td>2023-02-11 00:00:00</td>\n",
       "      <td>ENAN 102350Z 30027G38KT 1100 R14///// FZUP VV010 M03/M04 Q0995 RESN=</td>\n",
       "    </tr>\n",
       "    <tr>\n",
       "      <th>473629</th>\n",
       "      <td>True</td>\n",
       "      <td>0.543215</td>\n",
       "      <td>2023-11-23 03:00:00</td>\n",
       "      <td>ENSS 230320Z 16026KT 9999 BKN013/// OVC017/// M05/M07 Q0986 REFZDZ RMK WIND 0500FT 16024KT=</td>\n",
       "    </tr>\n",
       "    <tr>\n",
       "      <th>326922</th>\n",
       "      <td>True</td>\n",
       "      <td>0.809643</td>\n",
       "      <td>2022-12-25 22:00:00</td>\n",
       "      <td>ENNM 252150Z 10015KT 9999 BKN078 M01/M06 Q0999 REFZRA=</td>\n",
       "    </tr>\n",
       "    <tr>\n",
       "      <th>413141</th>\n",
       "      <td>True</td>\n",
       "      <td>0.533378</td>\n",
       "      <td>2023-11-02 03:00:00</td>\n",
       "      <td>ENRY 020320Z 04009KT 9999 -PL FEW005/// OVC010/// M01/M02 Q0997 REFZRA=</td>\n",
       "    </tr>\n",
       "    <tr>\n",
       "      <th>315121</th>\n",
       "      <td>True</td>\n",
       "      <td>0.344222</td>\n",
       "      <td>2022-11-09 02:00:00</td>\n",
       "      <td>ENNA 090150Z 21003KT 0250 R16/1600U R34/0900N FZFG VV003 M00/M01 Q1010 RMK WIND 1800FT 10007KT=</td>\n",
       "    </tr>\n",
       "    <tr>\n",
       "      <th>327564</th>\n",
       "      <td>True</td>\n",
       "      <td>0.809643</td>\n",
       "      <td>2023-01-21 21:00:00</td>\n",
       "      <td>ENNM 212050Z 08008KT 9999 OVC064/// M00/M02 Q1029 REFZRA=</td>\n",
       "    </tr>\n",
       "    <tr>\n",
       "      <th>334671</th>\n",
       "      <td>True</td>\n",
       "      <td>0.473268</td>\n",
       "      <td>2022-12-30 13:00:00</td>\n",
       "      <td>ENNO 301320Z 30003KT 0300 FZFG VV002 M02/M03 Q0995=</td>\n",
       "    </tr>\n",
       "    <tr>\n",
       "      <th>228352</th>\n",
       "      <td>True</td>\n",
       "      <td>0.094731</td>\n",
       "      <td>2023-02-28 06:00:00</td>\n",
       "      <td>ENHV 280550Z 33034G50KT 300V350 9999 -FZDZ SQ FEW022/// SCT038/// BKN057/// M01/M08 Q////=</td>\n",
       "    </tr>\n",
       "    <tr>\n",
       "      <th>215814</th>\n",
       "      <td>True</td>\n",
       "      <td>0.220865</td>\n",
       "      <td>2023-02-11 01:00:00</td>\n",
       "      <td>ENHK 110050Z 29025KT 9000 -SN FEW020/// SCT044/// M02/M07 Q0988 REFZDZ=</td>\n",
       "    </tr>\n",
       "    <tr>\n",
       "      <th>176463</th>\n",
       "      <td>True</td>\n",
       "      <td>0.707845</td>\n",
       "      <td>2021-11-18 22:00:00</td>\n",
       "      <td>ENGM 182220Z 00000KT 0500 R19R/0700N R01R/0600N R19L/0600N R01L/0600N FZFG VV002 M00/M00 Q1003=</td>\n",
       "    </tr>\n",
       "    <tr>\n",
       "      <th>436763</th>\n",
       "      <td>True</td>\n",
       "      <td>0.181253</td>\n",
       "      <td>2023-02-11 07:00:00</td>\n",
       "      <td>ENSH 110650Z 32011KT 250V360 9999 -FZDZ M01/M07 Q1005 RMK WIND 0150FT 31014KT=</td>\n",
       "    </tr>\n",
       "    <tr>\n",
       "      <th>181033</th>\n",
       "      <td>True</td>\n",
       "      <td>0.707845</td>\n",
       "      <td>2022-12-26 07:00:00</td>\n",
       "      <td>ENGM 260720Z 00000KT 2400 1000SE R19R/P2000N R01R/1200N R19L/P2000N R01L/P2000N FZFG SCT002 OVC005 M00/M00 Q1001 TEMPO 4000 -FZRA BR VV002=</td>\n",
       "    </tr>\n",
       "    <tr>\n",
       "      <th>185624</th>\n",
       "      <td>True</td>\n",
       "      <td>0.707845</td>\n",
       "      <td>2023-12-26 17:00:00</td>\n",
       "      <td>ENGM 261720Z 00000KT 0750 0250N R19R/0375N R01R/1400U R19L/0600D R01L/0900N FZFG VV001 M14/M15 Q0997 TEMPO 1200 BCFG=</td>\n",
       "    </tr>\n",
       "    <tr>\n",
       "      <th>389323</th>\n",
       "      <td>True</td>\n",
       "      <td>0.529380</td>\n",
       "      <td>2022-11-14 20:00:00</td>\n",
       "      <td>ENRO 142020Z 29002KT 0450 R31/1000 FZFG BKN001 OVC002 M04/M04 Q1020=</td>\n",
       "    </tr>\n",
       "    <tr>\n",
       "      <th>424989</th>\n",
       "      <td>True</td>\n",
       "      <td>0.508358</td>\n",
       "      <td>2021-12-30 11:00:00</td>\n",
       "      <td>ENSG 301120Z 05002KT 9999 3000SW -FZDZ FEW/// SCT003 BKN025 M01/M02 Q0988 RMK WIND 3806FT 27037KT=</td>\n",
       "    </tr>\n",
       "    <tr>\n",
       "      <th>9947</th>\n",
       "      <td>True</td>\n",
       "      <td>0.522082</td>\n",
       "      <td>2021-01-24 23:00:00</td>\n",
       "      <td>ENAN 242250Z 18008KT 9999 -FZDZ OVC020/// M07/M09 Q0997=</td>\n",
       "    </tr>\n",
       "    <tr>\n",
       "      <th>278669</th>\n",
       "      <td>True</td>\n",
       "      <td>0.266694</td>\n",
       "      <td>2023-02-11 17:00:00</td>\n",
       "      <td>ENMH 111650Z 33030G41KT 9999 -FZDZ FEW030/// SCT044/// 01/M04 Q0994=</td>\n",
       "    </tr>\n",
       "    <tr>\n",
       "      <th>330591</th>\n",
       "      <td>True</td>\n",
       "      <td>0.809643</td>\n",
       "      <td>2023-11-08 01:00:00</td>\n",
       "      <td>ENNM 080050Z 06008KT 9999 FEW090/// OVC118/// 01/M01 Q1002 REFZRA=</td>\n",
       "    </tr>\n",
       "    <tr>\n",
       "      <th>328455</th>\n",
       "      <td>True</td>\n",
       "      <td>0.809643</td>\n",
       "      <td>2023-03-03 01:00:00</td>\n",
       "      <td>ENNM 030050Z 23015KT 7000 -FZRA 01/M00 Q1016=</td>\n",
       "    </tr>\n",
       "    <tr>\n",
       "      <th>375238</th>\n",
       "      <td>True</td>\n",
       "      <td>0.277266</td>\n",
       "      <td>2022-12-04 14:00:00</td>\n",
       "      <td>ENRM 041420Z 14010KT 9999 FEW008 BKN012 M01/M03 Q1031 REFZDZ=</td>\n",
       "    </tr>\n",
       "    <tr>\n",
       "      <th>177047</th>\n",
       "      <td>True</td>\n",
       "      <td>0.707845</td>\n",
       "      <td>2021-12-14 07:00:00</td>\n",
       "      <td>ENGM 140720Z 20003KT 160V230 0600 R19R/0650N R01R/0700U R19L/0650N R01L/0800U FZFG VV002 M01/M01 Q1013 TEMPO 0400 FZFG VV001=</td>\n",
       "    </tr>\n",
       "    <tr>\n",
       "      <th>523911</th>\n",
       "      <td>True</td>\n",
       "      <td>0.202125</td>\n",
       "      <td>2022-01-21 22:00:00</td>\n",
       "      <td>ENVA 212150Z 12007KT 4500 -FZDZ VV015 M01/M01 Q1019 RMK WIND 670FT 16006KT=</td>\n",
       "    </tr>\n",
       "    <tr>\n",
       "      <th>120823</th>\n",
       "      <td>True</td>\n",
       "      <td>0.321833</td>\n",
       "      <td>2023-03-11 17:00:00</td>\n",
       "      <td>ENBV 111720Z 09013KT 9999 NCD M10/M15 Q0989 REFZDZ=</td>\n",
       "    </tr>\n",
       "    <tr>\n",
       "      <th>180992</th>\n",
       "      <td>True</td>\n",
       "      <td>0.707845</td>\n",
       "      <td>2022-12-24 08:00:00</td>\n",
       "      <td>ENGM 240820Z VRB01KT 0450 R19R/P2000N R01R/1200U R19L/1400U R01L/0450N FZFG VV002 M12/M14 Q1009 TEMPO 0600 FZFG=</td>\n",
       "    </tr>\n",
       "    <tr>\n",
       "      <th>403988</th>\n",
       "      <td>True</td>\n",
       "      <td>0.533378</td>\n",
       "      <td>2021-01-31 17:00:00</td>\n",
       "      <td>ENRY 311720Z 19002KT 0350NDV R12/P2000D R30/P2000N FZFG SCT000/// M08/M09 Q0998=</td>\n",
       "    </tr>\n",
       "    <tr>\n",
       "      <th>469962</th>\n",
       "      <td>True</td>\n",
       "      <td>0.543215</td>\n",
       "      <td>2023-02-01 03:00:00</td>\n",
       "      <td>ENSS 010250Z 07020KT 2600 M00/M01 Q0984 REFZRA RMK WIND 0500FT VRB09G25KT=</td>\n",
       "    </tr>\n",
       "    <tr>\n",
       "      <th>180994</th>\n",
       "      <td>True</td>\n",
       "      <td>0.707845</td>\n",
       "      <td>2022-12-24 10:00:00</td>\n",
       "      <td>ENGM 240950Z 00000KT 0350 R19R/1700D R01R/0450D R19L/0500D R01L/0500D FZFG VV002 M12/M14 Q1010 TEMPO 0600 FZFG=</td>\n",
       "    </tr>\n",
       "    <tr>\n",
       "      <th>540267</th>\n",
       "      <td>True</td>\n",
       "      <td>0.236811</td>\n",
       "      <td>2023-01-08 14:00:00</td>\n",
       "      <td>ENVD 081420Z 19024KT 3800 -FZRA NCD M07/M10 Q1021 REFZDZ=</td>\n",
       "    </tr>\n",
       "    <tr>\n",
       "      <th>112453</th>\n",
       "      <td>True</td>\n",
       "      <td>0.409058</td>\n",
       "      <td>2023-12-13 00:00:00</td>\n",
       "      <td>ENBS 130020Z 21022KT 9999 -FZRA VV003 M14/M16 Q1012 RESG=</td>\n",
       "    </tr>\n",
       "    <tr>\n",
       "      <th>536685</th>\n",
       "      <td>True</td>\n",
       "      <td>0.236811</td>\n",
       "      <td>2022-03-14 04:00:00</td>\n",
       "      <td>ENVD 140350Z 27013KT 0200 FZFG VV001 M02/M02 Q1023=</td>\n",
       "    </tr>\n",
       "    <tr>\n",
       "      <th>327597</th>\n",
       "      <td>True</td>\n",
       "      <td>0.809643</td>\n",
       "      <td>2023-01-23 06:00:00</td>\n",
       "      <td>ENNM 230620Z 06004KT 9999 -FZRADZ FEW022 BKN036 M02/M04 Q1025=</td>\n",
       "    </tr>\n",
       "    <tr>\n",
       "      <th>326899</th>\n",
       "      <td>True</td>\n",
       "      <td>0.809643</td>\n",
       "      <td>2022-12-24 17:00:00</td>\n",
       "      <td>ENNM 241720Z 21009KT 9999 FEW044 BKN057 M00/M04 Q1007 REFZRA=</td>\n",
       "    </tr>\n",
       "    <tr>\n",
       "      <th>21446</th>\n",
       "      <td>True</td>\n",
       "      <td>0.522082</td>\n",
       "      <td>2023-04-22 04:00:00</td>\n",
       "      <td>ENAN 220420Z 36018KT 9999 R14///// FZUP FEW031/// SCT053/// OVC066/// M01/M06 Q1016 RESN=</td>\n",
       "    </tr>\n",
       "    <tr>\n",
       "      <th>131154</th>\n",
       "      <td>True</td>\n",
       "      <td>0.527121</td>\n",
       "      <td>2023-01-18 19:00:00</td>\n",
       "      <td>ENCN 181920Z VRB01KT 0150 R03/0650N R21/0750N FZFG SCT020 M01/M01 Q0992=</td>\n",
       "    </tr>\n",
       "    <tr>\n",
       "      <th>327194</th>\n",
       "      <td>True</td>\n",
       "      <td>0.809643</td>\n",
       "      <td>2023-01-06 03:00:00</td>\n",
       "      <td>ENNM 060320Z 10016KT 070V130 9999 -FZRA NCD M04/M11 Q1015=</td>\n",
       "    </tr>\n",
       "    <tr>\n",
       "      <th>389151</th>\n",
       "      <td>True</td>\n",
       "      <td>0.529380</td>\n",
       "      <td>2022-11-06 06:00:00</td>\n",
       "      <td>ENRO 060550Z VRB02KT 0300 R31/0700 FZFG VV003 M01/M01 Q0998=</td>\n",
       "    </tr>\n",
       "    <tr>\n",
       "      <th>401394</th>\n",
       "      <td>True</td>\n",
       "      <td>0.552508</td>\n",
       "      <td>2023-04-23 03:00:00</td>\n",
       "      <td>ENRS 230250Z 35007KT 9999 -FZRASN FEW008/// SCT042/// M01/M03 Q1016=</td>\n",
       "    </tr>\n",
       "    <tr>\n",
       "      <th>329631</th>\n",
       "      <td>True</td>\n",
       "      <td>0.809643</td>\n",
       "      <td>2023-04-29 06:00:00</td>\n",
       "      <td>ENNM 290620Z 09009KT 9999 NCD 03/M02 Q1009 REFZRA=</td>\n",
       "    </tr>\n",
       "    <tr>\n",
       "      <th>330855</th>\n",
       "      <td>True</td>\n",
       "      <td>0.809643</td>\n",
       "      <td>2023-11-19 01:00:00</td>\n",
       "      <td>ENNM 190120Z 06014KT 9999 NCD M08/M09 Q1014 REFZRA=</td>\n",
       "    </tr>\n",
       "    <tr>\n",
       "      <th>330923</th>\n",
       "      <td>True</td>\n",
       "      <td>0.809643</td>\n",
       "      <td>2023-11-21 21:00:00</td>\n",
       "      <td>ENNM 212050Z 05013KT 9999 SCT177/// M08/M10 Q1019 REFZRA=</td>\n",
       "    </tr>\n",
       "    <tr>\n",
       "      <th>391373</th>\n",
       "      <td>True</td>\n",
       "      <td>0.529380</td>\n",
       "      <td>2023-02-09 02:00:00</td>\n",
       "      <td>ENRO 090220Z 18018G35KT 140V220 9999 -FZDZ OVC032/// 02/M03 Q0998 REFZRA=</td>\n",
       "    </tr>\n",
       "    <tr>\n",
       "      <th>136659</th>\n",
       "      <td>True</td>\n",
       "      <td>0.384413</td>\n",
       "      <td>2021-04-03 02:00:00</td>\n",
       "      <td>ENDU 030220Z 21005KT 170V250 9999 -FZRA BKN032/// OVC059/// M00/M04 Q1009 RESN RMK WIND 1100FT 21011KT WIND 2200FT 24019KT=</td>\n",
       "    </tr>\n",
       "    <tr>\n",
       "      <th>400492</th>\n",
       "      <td>True</td>\n",
       "      <td>0.552508</td>\n",
       "      <td>2023-03-06 11:00:00</td>\n",
       "      <td>ENRS 061120Z 01024KT 9999 FEW029/// SCT037/// M03/M10 Q0999 REFZRA=</td>\n",
       "    </tr>\n",
       "    <tr>\n",
       "      <th>29903</th>\n",
       "      <td>True</td>\n",
       "      <td>0.329895</td>\n",
       "      <td>2022-01-22 23:00:00</td>\n",
       "      <td>ENAT 222250Z 18016KT 9999 BKN082/// M03/M08 Q0990 RESHUP REFZUP RMK WIND 700FT 19034KT=</td>\n",
       "    </tr>\n",
       "    <tr>\n",
       "      <th>340015</th>\n",
       "      <td>True</td>\n",
       "      <td>0.113633</td>\n",
       "      <td>2021-12-29 10:00:00</td>\n",
       "      <td>ENOL 291020Z 13021KT 9999 VCSH FEW010 BKN030 M02/M04 Q0997 TEMPO -FZRA=</td>\n",
       "    </tr>\n",
       "  </tbody>\n",
       "</table>\n",
       "</div>"
      ],
      "text/plain": [
       "        Actual  Predicted                 Time  \\\n",
       "177484    True   0.707845  2022-01-03 09:00:00   \n",
       "411876    True   0.533378  2023-03-13 22:00:00   \n",
       "330844    True   0.809643  2023-11-18 14:00:00   \n",
       "125144    True   0.527121  2021-01-19 23:00:00   \n",
       "328576    True   0.809643  2023-03-08 02:00:00   \n",
       "19918     True   0.522082  2023-02-11 00:00:00   \n",
       "473629    True   0.543215  2023-11-23 03:00:00   \n",
       "326922    True   0.809643  2022-12-25 22:00:00   \n",
       "413141    True   0.533378  2023-11-02 03:00:00   \n",
       "315121    True   0.344222  2022-11-09 02:00:00   \n",
       "327564    True   0.809643  2023-01-21 21:00:00   \n",
       "334671    True   0.473268  2022-12-30 13:00:00   \n",
       "228352    True   0.094731  2023-02-28 06:00:00   \n",
       "215814    True   0.220865  2023-02-11 01:00:00   \n",
       "176463    True   0.707845  2021-11-18 22:00:00   \n",
       "436763    True   0.181253  2023-02-11 07:00:00   \n",
       "181033    True   0.707845  2022-12-26 07:00:00   \n",
       "185624    True   0.707845  2023-12-26 17:00:00   \n",
       "389323    True   0.529380  2022-11-14 20:00:00   \n",
       "424989    True   0.508358  2021-12-30 11:00:00   \n",
       "9947      True   0.522082  2021-01-24 23:00:00   \n",
       "278669    True   0.266694  2023-02-11 17:00:00   \n",
       "330591    True   0.809643  2023-11-08 01:00:00   \n",
       "328455    True   0.809643  2023-03-03 01:00:00   \n",
       "375238    True   0.277266  2022-12-04 14:00:00   \n",
       "177047    True   0.707845  2021-12-14 07:00:00   \n",
       "523911    True   0.202125  2022-01-21 22:00:00   \n",
       "120823    True   0.321833  2023-03-11 17:00:00   \n",
       "180992    True   0.707845  2022-12-24 08:00:00   \n",
       "403988    True   0.533378  2021-01-31 17:00:00   \n",
       "469962    True   0.543215  2023-02-01 03:00:00   \n",
       "180994    True   0.707845  2022-12-24 10:00:00   \n",
       "540267    True   0.236811  2023-01-08 14:00:00   \n",
       "112453    True   0.409058  2023-12-13 00:00:00   \n",
       "536685    True   0.236811  2022-03-14 04:00:00   \n",
       "327597    True   0.809643  2023-01-23 06:00:00   \n",
       "326899    True   0.809643  2022-12-24 17:00:00   \n",
       "21446     True   0.522082  2023-04-22 04:00:00   \n",
       "131154    True   0.527121  2023-01-18 19:00:00   \n",
       "327194    True   0.809643  2023-01-06 03:00:00   \n",
       "389151    True   0.529380  2022-11-06 06:00:00   \n",
       "401394    True   0.552508  2023-04-23 03:00:00   \n",
       "329631    True   0.809643  2023-04-29 06:00:00   \n",
       "330855    True   0.809643  2023-11-19 01:00:00   \n",
       "330923    True   0.809643  2023-11-21 21:00:00   \n",
       "391373    True   0.529380  2023-02-09 02:00:00   \n",
       "136659    True   0.384413  2021-04-03 02:00:00   \n",
       "400492    True   0.552508  2023-03-06 11:00:00   \n",
       "29903     True   0.329895  2022-01-22 23:00:00   \n",
       "340015    True   0.113633  2021-12-29 10:00:00   \n",
       "\n",
       "                                                                                                                                              Metar  \n",
       "177484                              ENGM 030920Z 00000KT 0650 R19R/1000D R01R/1100N R19L/0650N R01L/0750N FZFG VV003 M03/M03 Q0987 TEMPO 0500 FZFG=  \n",
       "411876                                                          ENRY 132150Z 33008KT 6000 -FZRA SCT004/// BKN008/// OVC029/// M00/M01 Q0969 REFZUP=  \n",
       "330844                                                                                    ENNM 181350Z 07009KT 9999 OVC059/// M05/M06 Q1021 REFZRA=  \n",
       "125144                                                                                     ENCN 192320Z 05010KT 9999 OVC006/// 00/M00 Q0996 REFZRA=  \n",
       "328576                                                                                        ENNM 080220Z 10015KT 9999 -FZRA ////// M09/M14 Q0992=  \n",
       "19918                                                                          ENAN 102350Z 30027G38KT 1100 R14///// FZUP VV010 M03/M04 Q0995 RESN=  \n",
       "473629                                                  ENSS 230320Z 16026KT 9999 BKN013/// OVC017/// M05/M07 Q0986 REFZDZ RMK WIND 0500FT 16024KT=  \n",
       "326922                                                                                       ENNM 252150Z 10015KT 9999 BKN078 M01/M06 Q0999 REFZRA=  \n",
       "413141                                                                      ENRY 020320Z 04009KT 9999 -PL FEW005/// OVC010/// M01/M02 Q0997 REFZRA=  \n",
       "315121                                              ENNA 090150Z 21003KT 0250 R16/1600U R34/0900N FZFG VV003 M00/M01 Q1010 RMK WIND 1800FT 10007KT=  \n",
       "327564                                                                                    ENNM 212050Z 08008KT 9999 OVC064/// M00/M02 Q1029 REFZRA=  \n",
       "334671                                                                                          ENNO 301320Z 30003KT 0300 FZFG VV002 M02/M03 Q0995=  \n",
       "228352                                                   ENHV 280550Z 33034G50KT 300V350 9999 -FZDZ SQ FEW022/// SCT038/// BKN057/// M01/M08 Q////=  \n",
       "215814                                                                      ENHK 110050Z 29025KT 9000 -SN FEW020/// SCT044/// M02/M07 Q0988 REFZDZ=  \n",
       "176463                                              ENGM 182220Z 00000KT 0500 R19R/0700N R01R/0600N R19L/0600N R01L/0600N FZFG VV002 M00/M00 Q1003=  \n",
       "436763                                                               ENSH 110650Z 32011KT 250V360 9999 -FZDZ M01/M07 Q1005 RMK WIND 0150FT 31014KT=  \n",
       "181033  ENGM 260720Z 00000KT 2400 1000SE R19R/P2000N R01R/1200N R19L/P2000N R01L/P2000N FZFG SCT002 OVC005 M00/M00 Q1001 TEMPO 4000 -FZRA BR VV002=  \n",
       "185624                        ENGM 261720Z 00000KT 0750 0250N R19R/0375N R01R/1400U R19L/0600D R01L/0900N FZFG VV001 M14/M15 Q0997 TEMPO 1200 BCFG=  \n",
       "389323                                                                         ENRO 142020Z 29002KT 0450 R31/1000 FZFG BKN001 OVC002 M04/M04 Q1020=  \n",
       "424989                                           ENSG 301120Z 05002KT 9999 3000SW -FZDZ FEW/// SCT003 BKN025 M01/M02 Q0988 RMK WIND 3806FT 27037KT=  \n",
       "9947                                                                                       ENAN 242250Z 18008KT 9999 -FZDZ OVC020/// M07/M09 Q0997=  \n",
       "278669                                                                         ENMH 111650Z 33030G41KT 9999 -FZDZ FEW030/// SCT044/// 01/M04 Q0994=  \n",
       "330591                                                                           ENNM 080050Z 06008KT 9999 FEW090/// OVC118/// 01/M01 Q1002 REFZRA=  \n",
       "328455                                                                                                ENNM 030050Z 23015KT 7000 -FZRA 01/M00 Q1016=  \n",
       "375238                                                                                ENRM 041420Z 14010KT 9999 FEW008 BKN012 M01/M03 Q1031 REFZDZ=  \n",
       "177047                ENGM 140720Z 20003KT 160V230 0600 R19R/0650N R01R/0700U R19L/0650N R01L/0800U FZFG VV002 M01/M01 Q1013 TEMPO 0400 FZFG VV001=  \n",
       "523911                                                                  ENVA 212150Z 12007KT 4500 -FZDZ VV015 M01/M01 Q1019 RMK WIND 670FT 16006KT=  \n",
       "120823                                                                                          ENBV 111720Z 09013KT 9999 NCD M10/M15 Q0989 REFZDZ=  \n",
       "180992                             ENGM 240820Z VRB01KT 0450 R19R/P2000N R01R/1200U R19L/1400U R01L/0450N FZFG VV002 M12/M14 Q1009 TEMPO 0600 FZFG=  \n",
       "403988                                                             ENRY 311720Z 19002KT 0350NDV R12/P2000D R30/P2000N FZFG SCT000/// M08/M09 Q0998=  \n",
       "469962                                                                   ENSS 010250Z 07020KT 2600 M00/M01 Q0984 REFZRA RMK WIND 0500FT VRB09G25KT=  \n",
       "180994                              ENGM 240950Z 00000KT 0350 R19R/1700D R01R/0450D R19L/0500D R01L/0500D FZFG VV002 M12/M14 Q1010 TEMPO 0600 FZFG=  \n",
       "540267                                                                                    ENVD 081420Z 19024KT 3800 -FZRA NCD M07/M10 Q1021 REFZDZ=  \n",
       "112453                                                                                    ENBS 130020Z 21022KT 9999 -FZRA VV003 M14/M16 Q1012 RESG=  \n",
       "536685                                                                                          ENVD 140350Z 27013KT 0200 FZFG VV001 M02/M02 Q1023=  \n",
       "327597                                                                               ENNM 230620Z 06004KT 9999 -FZRADZ FEW022 BKN036 M02/M04 Q1025=  \n",
       "326899                                                                                ENNM 241720Z 21009KT 9999 FEW044 BKN057 M00/M04 Q1007 REFZRA=  \n",
       "21446                                                     ENAN 220420Z 36018KT 9999 R14///// FZUP FEW031/// SCT053/// OVC066/// M01/M06 Q1016 RESN=  \n",
       "131154                                                                     ENCN 181920Z VRB01KT 0150 R03/0650N R21/0750N FZFG SCT020 M01/M01 Q0992=  \n",
       "327194                                                                                   ENNM 060320Z 10016KT 070V130 9999 -FZRA NCD M04/M11 Q1015=  \n",
       "389151                                                                                 ENRO 060550Z VRB02KT 0300 R31/0700 FZFG VV003 M01/M01 Q0998=  \n",
       "401394                                                                         ENRS 230250Z 35007KT 9999 -FZRASN FEW008/// SCT042/// M01/M03 Q1016=  \n",
       "329631                                                                                           ENNM 290620Z 09009KT 9999 NCD 03/M02 Q1009 REFZRA=  \n",
       "330855                                                                                          ENNM 190120Z 06014KT 9999 NCD M08/M09 Q1014 REFZRA=  \n",
       "330923                                                                                    ENNM 212050Z 05013KT 9999 SCT177/// M08/M10 Q1019 REFZRA=  \n",
       "391373                                                                    ENRO 090220Z 18018G35KT 140V220 9999 -FZDZ OVC032/// 02/M03 Q0998 REFZRA=  \n",
       "136659                  ENDU 030220Z 21005KT 170V250 9999 -FZRA BKN032/// OVC059/// M00/M04 Q1009 RESN RMK WIND 1100FT 21011KT WIND 2200FT 24019KT=  \n",
       "400492                                                                          ENRS 061120Z 01024KT 9999 FEW029/// SCT037/// M03/M10 Q0999 REFZRA=  \n",
       "29903                                                       ENAT 222250Z 18016KT 9999 BKN082/// M03/M08 Q0990 RESHUP REFZUP RMK WIND 700FT 19034KT=  \n",
       "340015                                                                      ENOL 291020Z 13021KT 9999 VCSH FEW010 BKN030 M02/M04 Q0997 TEMPO -FZRA=  "
      ]
     },
     "execution_count": 45,
     "metadata": {},
     "output_type": "execute_result"
    }
   ],
   "source": [
    "comparison_df[comparison_df['Actual'] == True].head(50)"
   ]
  },
  {
   "cell_type": "code",
   "execution_count": 46,
   "id": "26dad3be-3e62-454e-a03e-3539a5d330ff",
   "metadata": {},
   "outputs": [
    {
     "data": {
      "text/plain": [
       "<AxesSubplot: >"
      ]
     },
     "execution_count": 46,
     "metadata": {},
     "output_type": "execute_result"
    },
    {
     "data": {
      "image/png": "[encoded data removed]",
      "text/plain": [
       "<Figure size 1000x600 with 2 Axes>"
      ]
     },
     "metadata": {},
     "output_type": "display_data"
    }
   ],
   "source": [
    "# confusion matrix\n",
    "cmap1 = sns.diverging_palette(260,-10,s=50, l=75, n=5, as_cmap=True)\n",
    "plt.subplots(figsize=(10,6))\n",
    "cf_matrix = confusion_matrix(y_test, y_pred_val)\n",
    "sns.heatmap(cf_matrix/np.sum(cf_matrix), cmap = cmap1, annot = True, annot_kws = {'size':15})"
   ]
  },
  {
   "cell_type": "code",
   "execution_count": 47,
   "id": "4e4bcff4-6d5a-47fc-9563-283604b086f1",
   "metadata": {},
   "outputs": [
    {
     "data": {
      "image/png": "[encoded data removed]",
      "text/plain": [
       "<Figure size 800x600 with 1 Axes>"
      ]
     },
     "metadata": {},
     "output_type": "display_data"
    }
   ],
   "source": [
    "# Step 6: Evaluate the model with a confusion matri\n",
    "conf_matrix = confusion_matrix(y_test, y_pred_val)\n",
    "\n",
    "# Step 7: Plot the confusion matrix\n",
    "plt.figure(figsize=(8, 6))\n",
    "sns.heatmap(conf_matrix, annot=True, fmt=\"d\", cmap=cmap1, cbar=False)\n",
    "plt.xlabel('Predicted Labels')\n",
    "plt.ylabel('True Labels')\n",
    "plt.title('Instantaneous: Confusion Matrix threshold for y_pred > 0.8')\n",
    "plt.savefig('cmap_instantaneous_0.8.png')\n",
    "plt.show()"
   ]
  }
 ],
 "metadata": {
  "kernelspec": {
   "display_name": "Python 3 (ipykernel)",
   "language": "python",
   "name": "python3"
  },
  "language_info": {
   "codemirror_mode": {
    "name": "ipython",
    "version": 3
   },
   "file_extension": ".py",
   "mimetype": "text/x-python",
   "name": "python",
   "nbconvert_exporter": "python",
   "pygments_lexer": "ipython3",
   "version": "3.9.13"
  }
 },
 "nbformat": 4,
 "nbformat_minor": 5
}
