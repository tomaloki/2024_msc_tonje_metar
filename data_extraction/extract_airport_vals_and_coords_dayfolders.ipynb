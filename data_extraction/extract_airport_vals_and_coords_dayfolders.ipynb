{
 "cells": [
  {
   "cell_type": "code",
   "execution_count": 19,
   "id": "af36ea50-d727-4adc-9082-8b764762aa1e",
   "metadata": {},
   "outputs": [],
   "source": [
    "import xarray as xr\n",
    "import pandas as pd\n",
    "import numpy as np\n",
    "import os\n",
    "import time\n",
    "import pyproj\n",
    "import glob"
   ]
  },
  {
   "cell_type": "code",
   "execution_count": 20,
   "id": "98e16197-a228-4a53-8ea4-c3e5e8581f44",
   "metadata": {},
   "outputs": [],
   "source": [
    "%run transform_lat_lon_to_xy.ipynb"
   ]
  },
  {
   "cell_type": "code",
   "execution_count": 21,
   "id": "1cbc833e-c3e5-4285-be0d-32ca21a3136e",
   "metadata": {},
   "outputs": [],
   "source": [
    "airport_location = pd.read_csv('../data/airport_positions.csv')"
   ]
  },
  {
   "cell_type": "code",
   "execution_count": 22,
   "id": "79c86108-80eb-4915-852c-4092c89d2358",
   "metadata": {},
   "outputs": [
    {
     "name": "stderr",
     "output_type": "stream",
     "text": [
      "/tmp/ipykernel_476247/4290719538.py:3: FutureWarning: The default value of regex will change from True to False in a future version.\n",
      "  airport_location[['latitude', 'longitude']] = airport_location['position'].str.replace(r'[\\(\\)]', '').str.split(',', expand=True)\n"
     ]
    }
   ],
   "source": [
    "data = xr.open_mfdataset('/lustre/storeB/immutable/archive/projects/metproduction/meps/2021/10/05/meps_lagged_6_h_subset_2_5km_20211005T00Z.nc', chunks={'time':1})\n",
    "# Remove parenthesis for airport location in dataset -> split lon and lat values -> divide by 100 to obtain correct values\n",
    "airport_location[['latitude', 'longitude']] = airport_location['position'].str.replace(r'[\\(\\)]', '').str.split(',', expand=True)\n",
    "airport_location[['latitude', 'longitude']] = airport_location[['latitude', 'longitude']].astype('float') / 100"
   ]
  },
  {
   "cell_type": "code",
   "execution_count": 23,
   "id": "7348e35f-192f-4474-8f72-6ad2fc3675f6",
   "metadata": {},
   "outputs": [],
   "source": [
    "parameters = ['air_temperature_0m', 'air_temperature_2m']"
   ]
  },
  {
   "cell_type": "code",
   "execution_count": 24,
   "id": "a63a3fa7-76d9-4d0b-aafa-37800901e7a3",
   "metadata": {},
   "outputs": [],
   "source": [
    "# Define folder with paths and prefix for files to read\n",
    "folder_path = '/lustre/storeB/immutable/archive/projects/metproduction/meps/2021/10/'\n",
    "file_prefix = 'meps_lagged_6_h_subset_2_5km_'\n",
    "file_pattern = os.path.join(folder_path, file_prefix)\n",
    "file_list = glob.glob(file_pattern)"
   ]
  },
  {
   "cell_type": "code",
   "execution_count": null,
   "id": "36414d11-85fe-4f89-aaeb-187719c9cb2c",
   "metadata": {},
   "outputs": [
    {
     "name": "stdout",
     "output_type": "stream",
     "text": [
      "Processing file: /lustre/storeB/immutable/archive/projects/metproduction/meps/2021/10/19/meps_lagged_6_h_subset_2_5km_20211019T12Z.nc\n",
      "Processing file: /lustre/storeB/immutable/archive/projects/metproduction/meps/2021/10/19/meps_lagged_6_h_subset_2_5km_20211019T18Z.nc\n",
      "Processing file: /lustre/storeB/immutable/archive/projects/metproduction/meps/2021/10/19/meps_lagged_6_h_subset_2_5km_20211019T00Z.nc\n",
      "Processing file: /lustre/storeB/immutable/archive/projects/metproduction/meps/2021/10/19/meps_lagged_6_h_subset_2_5km_20211019T06Z.nc\n",
      "Time taken to extract info from meps_lagged_6_h_subset_2_5km_20211019T06Z.nc: 2.781939744949341\n",
      "1\n",
      "Processing file: /lustre/storeB/immutable/archive/projects/metproduction/meps/2021/10/11/meps_lagged_6_h_subset_2_5km_20211011T00Z.nc\n",
      "Processing file: /lustre/storeB/immutable/archive/projects/metproduction/meps/2021/10/11/meps_lagged_6_h_subset_2_5km_20211011T12Z.nc\n",
      "Processing file: /lustre/storeB/immutable/archive/projects/metproduction/meps/2021/10/11/meps_lagged_6_h_subset_2_5km_20211011T06Z.nc\n",
      "Processing file: /lustre/storeB/immutable/archive/projects/metproduction/meps/2021/10/11/meps_lagged_6_h_subset_2_5km_20211011T18Z.nc\n",
      "Time taken to extract info from meps_lagged_6_h_subset_2_5km_20211011T18Z.nc: 2.823561429977417\n",
      "2\n",
      "Processing file: /lustre/storeB/immutable/archive/projects/metproduction/meps/2021/10/29/meps_lagged_6_h_subset_2_5km_20211029T12Z.nc\n",
      "Processing file: /lustre/storeB/immutable/archive/projects/metproduction/meps/2021/10/29/meps_lagged_6_h_subset_2_5km_20211029T00Z.nc\n",
      "Processing file: /lustre/storeB/immutable/archive/projects/metproduction/meps/2021/10/29/meps_lagged_6_h_subset_2_5km_20211029T06Z.nc\n",
      "Processing file: /lustre/storeB/immutable/archive/projects/metproduction/meps/2021/10/29/meps_lagged_6_h_subset_2_5km_20211029T18Z.nc\n",
      "Time taken to extract info from meps_lagged_6_h_subset_2_5km_20211029T18Z.nc: 2.5950286388397217\n",
      "3\n",
      "Processing file: /lustre/storeB/immutable/archive/projects/metproduction/meps/2021/10/30/meps_lagged_6_h_subset_2_5km_20211030T00Z.nc\n",
      "Processing file: /lustre/storeB/immutable/archive/projects/metproduction/meps/2021/10/30/meps_lagged_6_h_subset_2_5km_20211030T06Z.nc\n",
      "Processing file: /lustre/storeB/immutable/archive/projects/metproduction/meps/2021/10/30/meps_lagged_6_h_subset_2_5km_20211030T12Z.nc\n",
      "Processing file: /lustre/storeB/immutable/archive/projects/metproduction/meps/2021/10/30/meps_lagged_6_h_subset_2_5km_20211030T18Z.nc\n",
      "Time taken to extract info from meps_lagged_6_h_subset_2_5km_20211030T18Z.nc: 2.994596242904663\n",
      "4\n",
      "Processing file: /lustre/storeB/immutable/archive/projects/metproduction/meps/2021/10/14/meps_lagged_6_h_subset_2_5km_20211014T00Z.nc\n",
      "Processing file: /lustre/storeB/immutable/archive/projects/metproduction/meps/2021/10/14/meps_lagged_6_h_subset_2_5km_20211014T12Z.nc\n",
      "Processing file: /lustre/storeB/immutable/archive/projects/metproduction/meps/2021/10/14/meps_lagged_6_h_subset_2_5km_20211014T06Z.nc\n",
      "Processing file: /lustre/storeB/immutable/archive/projects/metproduction/meps/2021/10/14/meps_lagged_6_h_subset_2_5km_20211014T18Z.nc\n",
      "Time taken to extract info from meps_lagged_6_h_subset_2_5km_20211014T18Z.nc: 2.9305427074432373\n",
      "5\n",
      "Processing file: /lustre/storeB/immutable/archive/projects/metproduction/meps/2021/10/18/meps_lagged_6_h_subset_2_5km_20211018T12Z.nc\n",
      "Processing file: /lustre/storeB/immutable/archive/projects/metproduction/meps/2021/10/18/meps_lagged_6_h_subset_2_5km_20211018T06Z.nc\n",
      "Processing file: /lustre/storeB/immutable/archive/projects/metproduction/meps/2021/10/18/meps_lagged_6_h_subset_2_5km_20211018T00Z.nc\n",
      "Processing file: /lustre/storeB/immutable/archive/projects/metproduction/meps/2021/10/18/meps_lagged_6_h_subset_2_5km_20211018T18Z.nc\n",
      "Time taken to extract info from meps_lagged_6_h_subset_2_5km_20211018T18Z.nc: 2.820430040359497\n",
      "6\n",
      "Processing file: /lustre/storeB/immutable/archive/projects/metproduction/meps/2021/10/09/meps_lagged_6_h_subset_2_5km_20211009T12Z.nc\n",
      "Processing file: /lustre/storeB/immutable/archive/projects/metproduction/meps/2021/10/09/meps_lagged_6_h_subset_2_5km_20211009T18Z.nc\n"
     ]
    }
   ],
   "source": [
    "all_timesteps_data = []\n",
    "for day_folder in os.listdir(folder_path):\n",
    "        day_path = os.path.join(folder_path, day_folder)\n",
    "\n",
    "        file_list = [file for file in os.listdir(day_path) if file.startswith(file_prefix)]\n",
    "\n",
    "        for file in file_list:\n",
    "            file_path = os.path.join(day_path, file)\n",
    "\n",
    "            start_time = time.time()\n",
    "\n",
    "            data = xr.open_mfdataset(file_path, chunks={'time':1})\n",
    "            print(f\"Processing file: {file_path}\")\n",
    "\n",
    "            # Extracting parameter values only for matching nearest location\n",
    "            latitude_values = airport_location.latitude.values\n",
    "            longitude_values = airport_location.longitude.values\n",
    "            \n",
    "            x_values, y_values = transform_latitude_longitude_to_xy(latitude_values, longitude_values)\n",
    "            \n",
    "            airport_six_timesteps = []\n",
    "\n",
    "            for airport_idx in range(len(latitude_values)):\n",
    "                nearest_x, nearest_y = transform_latitude_longitude_to_xy(latitude_values[airport_idx], longitude_values[airport_idx])\n",
    "                \n",
    "                lat_from_data = data.latitude.sel(x=nearest_x, y=nearest_y, method='nearest').values.item()\n",
    "                lon_from_data = data.longitude.sel(x=nearest_x, y=nearest_y, method='nearest').values.item()\n",
    "\n",
    "\n",
    "                interpolated_data = data[parameters].interp(x=nearest_x, y=nearest_y)\n",
    "\n",
    "                # Convert to pandas datetime\n",
    "                start_datetime = pd.to_datetime(data.time.values[0])\n",
    "                # Choosing 6 timesteps in total\n",
    "                end_datetime = start_datetime + pd.DateOffset(hours=5)\n",
    "                \n",
    "\n",
    "                extracted_data = interpolated_data.sel(\n",
    "                    ensemble_member=0,\n",
    "                    time=slice(start_datetime, end_datetime)\n",
    "                )\n",
    "                \n",
    "                extracted_data = extracted_data.expand_dims({'airport': [airport_idx + 1]})\n",
    "\n",
    "                airport_six_timesteps.append(extracted_data)\n",
    "        combined_data = xr.concat(airport_six_timesteps, dim='airport')\n",
    "        all_timesteps_data.append(combined_data)\n",
    "        end_time = time.time()\n",
    "        print(f'Time taken to extract info from {file}: {end_time - start_time}')\n",
    "        print(len(all_timesteps_data))\n",
    "final_combined_data = xr.concat(all_timesteps_data, dim='time')\n"
   ]
  }
 ],
 "metadata": {
  "kernelspec": {
   "display_name": "Python 3 (ipykernel)",
   "language": "python",
   "name": "python3"
  },
  "language_info": {
   "codemirror_mode": {
    "name": "ipython",
    "version": 3
   },
   "file_extension": ".py",
   "mimetype": "text/x-python",
   "name": "python",
   "nbconvert_exporter": "python",
   "pygments_lexer": "ipython3",
   "version": "3.9.13"
  }
 },
 "nbformat": 4,
 "nbformat_minor": 5
}
