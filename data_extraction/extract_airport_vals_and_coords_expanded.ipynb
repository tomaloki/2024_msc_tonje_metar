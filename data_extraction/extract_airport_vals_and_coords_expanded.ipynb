{
 "cells": [
  {
   "cell_type": "code",
   "execution_count": 1,
   "id": "afbc5c85-6b60-48d9-a543-79534febfb23",
   "metadata": {},
   "outputs": [],
   "source": [
    "import xarray as xr\n",
    "import pandas as pd\n",
    "import numpy as np\n",
    "import os\n",
    "import time\n",
    "import pyproj\n",
    "import glob"
   ]
  },
  {
   "cell_type": "code",
   "execution_count": 2,
   "id": "8be70f9e-54be-42bd-b5c2-767b99bf5ae7",
   "metadata": {},
   "outputs": [],
   "source": [
    "airport_location = pd.read_csv('../data/airport_positions.csv')"
   ]
  },
  {
   "cell_type": "code",
   "execution_count": 3,
   "id": "0bf1e99f-e385-4a05-b867-c2921c351b61",
   "metadata": {},
   "outputs": [
    {
     "name": "stderr",
     "output_type": "stream",
     "text": [
      "/tmp/ipykernel_1780336/4290719538.py:3: FutureWarning: The default value of regex will change from True to False in a future version.\n",
      "  airport_location[['latitude', 'longitude']] = airport_location['position'].str.replace(r'[\\(\\)]', '').str.split(',', expand=True)\n"
     ]
    }
   ],
   "source": [
    "data = xr.open_mfdataset('/lustre/storeB/immutable/archive/projects/metproduction/meps/2021/10/05/meps_lagged_6_h_subset_2_5km_20211005T00Z.nc', chunks={'time':1})\n",
    "# Remove parenthesis for airport location in dataset -> split lon and lat values -> divide by 100 to obtain correct values\n",
    "airport_location[['latitude', 'longitude']] = airport_location['position'].str.replace(r'[\\(\\)]', '').str.split(',', expand=True)\n",
    "airport_location[['latitude', 'longitude']] = airport_location[['latitude', 'longitude']].astype('float') / 100"
   ]
  },
  {
   "cell_type": "code",
   "execution_count": 4,
   "id": "3ddc8b3a-62a5-4598-81f7-f955262785f4",
   "metadata": {},
   "outputs": [],
   "source": [
    "parameters = ['air_temperature_0m', 'air_temperature_2m']"
   ]
  },
  {
   "cell_type": "code",
   "execution_count": 5,
   "id": "459482d9-b527-4a6f-b8f7-fb42992df552",
   "metadata": {},
   "outputs": [],
   "source": [
    "def transform_latitude_longitude_to_xy(latitude_values, longitude_values):\n",
    "    # Create a pyproj CRS object\n",
    "    proj4_str = '+proj=lcc +lat_0=63.3 +lon_0=15 +lat_1=63.3 +lat_2=63.3 +no_defs +R=6.371e+06'\n",
    "    lcc_crs = pyproj.CRS.from_proj4(proj4_str)\n",
    "\n",
    "    # Create a transformer for converting between lat/lon and x/y\n",
    "    transformer = pyproj.Transformer.from_crs(pyproj.CRS(\"EPSG:4326\"), lcc_crs, always_xy=True)\n",
    "\n",
    "    # Transform lat/lon to x/y\n",
    "    x_values, y_values = transformer.transform(longitude_values, latitude_values)\n",
    "\n",
    "    return x_values, y_values"
   ]
  },
  {
   "cell_type": "code",
   "execution_count": 42,
   "id": "23d80dec-9b2c-4de8-9ed6-39d44afd05b3",
   "metadata": {},
   "outputs": [],
   "source": [
    "# Define folder with paths and prefix for files to read\n",
    "folder_path = '/lustre/storeB/immutable/archive/projects/metproduction/meps/2023/'\n",
    "file_prefix = 'meps_lagged_6_h_subset_2_5km_'\n",
    "file_pattern = os.path.join(folder_path, file_prefix)\n",
    "file_list = glob.glob(file_pattern)\n",
    "output_folder = '/lustre/storeB/users/tonjek/msc/2024_msc_tonje_metar/extracted_netcdf/2023/'"
   ]
  },
  {
   "cell_type": "code",
   "execution_count": 35,
   "id": "934a97a0-3cf7-437d-896a-2d92e8184521",
   "metadata": {},
   "outputs": [
    {
     "name": "stdout",
     "output_type": "stream",
     "text": [
      "Processing day: Month: 11, Day: 19\n"
     ]
    },
    {
     "name": "stderr",
     "output_type": "stream",
     "text": [
      "\n",
      "KeyboardInterrupt\n",
      "\n"
     ]
    }
   ],
   "source": [
    "for month_folder in os.listdir(folder_path):\n",
    "    month_path = os.path.join(folder_path, month_folder)\n",
    "    monthly_data = []\n",
    "\n",
    "    for day_folder in os.listdir(month_path):\n",
    "        day_path = os.path.join(month_path, day_folder)\n",
    "        file_list = [file for file in os.listdir(day_path) if file.startswith(file_prefix)]\n",
    "\n",
    "        all_timesteps_data = []\n",
    "        print(f\"Processing day: Month: {month_folder}, Day: {day_folder}\")\n",
    "\n",
    "        for file in file_list:\n",
    "            file_path = os.path.join(day_path, file)\n",
    "            start_time = time.time()\n",
    "\n",
    "            data = xr.open_mfdataset(file_path, chunks={'time': 1})\n",
    "\n",
    "            # Extracting parameter values only for matching nearest location\n",
    "            latitude_values = airport_location.latitude.values\n",
    "            longitude_values = airport_location.longitude.values\n",
    "\n",
    "            x_values, y_values = transform_latitude_longitude_to_xy(latitude_values, longitude_values)\n",
    "\n",
    "            airport_six_timesteps = []\n",
    "\n",
    "            for airport_idx in range(len(latitude_values)):\n",
    "                nearest_x, nearest_y = transform_latitude_longitude_to_xy(latitude_values[airport_idx], longitude_values[airport_idx])\n",
    "\n",
    "                lat_from_data = data.latitude.sel(x=nearest_x, y=nearest_y, method='nearest').values.item()\n",
    "                lon_from_data = data.longitude.sel(x=nearest_x, y=nearest_y, method='nearest').values.item()\n",
    "\n",
    "                interpolated_data = data[parameters].interp(x=nearest_x, y=nearest_y)\n",
    "\n",
    "                # Convert to pandas datetime\n",
    "                start_datetime = pd.to_datetime(data.time.values[0])\n",
    "                # Choosing 6 timesteps in total\n",
    "                end_datetime = start_datetime + pd.DateOffset(hours=5)\n",
    "\n",
    "                extracted_data = interpolated_data.sel(\n",
    "                    ensemble_member=0,\n",
    "                    time=slice(start_datetime, end_datetime)\n",
    "                )\n",
    "\n",
    "                extracted_data = extracted_data.expand_dims({'airport': [airport_idx + 1]})\n",
    "                airport_six_timesteps.append(extracted_data)\n",
    "\n",
    "            combined_data = xr.concat(airport_six_timesteps, dim='airport')\n",
    "            all_timesteps_data.append(combined_data)\n",
    "\n",
    "            end_time = time.time()\n",
    "            print(f'Time taken to extract info from {file}: {end_time - start_time}')\n",
    "            print(len(all_timesteps_data))\n",
    "\n",
    "        # For all days\n",
    "        daily_data = xr.concat(all_timesteps_data, dim='time')\n",
    "        airport_netcdf_path = os.path.join(output_folder, f'all_airports_2023_{month_folder}_{day_folder}.nc')\n",
    "        daily_data.to_netcdf(airport_netcdf_path)"
   ]
  },
  {
   "cell_type": "code",
   "execution_count": null,
   "id": "518f0193-2e40-4557-89ca-dfc6c00b3f99",
   "metadata": {},
   "outputs": [],
   "source": []
  }
 ],
 "metadata": {
  "kernelspec": {
   "display_name": "Python 3 (ipykernel)",
   "language": "python",
   "name": "python3"
  },
  "language_info": {
   "codemirror_mode": {
    "name": "ipython",
    "version": 3
   },
   "file_extension": ".py",
   "mimetype": "text/x-python",
   "name": "python",
   "nbconvert_exporter": "python",
   "pygments_lexer": "ipython3",
   "version": "3.9.13"
  }
 },
 "nbformat": 4,
 "nbformat_minor": 5
}
