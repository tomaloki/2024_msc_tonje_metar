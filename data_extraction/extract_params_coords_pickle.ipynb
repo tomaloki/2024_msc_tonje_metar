{
 "cells": [
  {
   "cell_type": "code",
   "execution_count": 11,
   "id": "4c67c869-847c-450a-aa9f-798412717379",
   "metadata": {},
   "outputs": [],
   "source": [
    "import xarray as xr\n",
    "import pandas as pd\n",
    "import numpy as np\n",
    "import os\n",
    "import time\n",
    "import pyproj\n",
    "import glob\n",
    "import pickle"
   ]
  },
  {
   "cell_type": "code",
   "execution_count": 2,
   "id": "c32057f5-bea3-489a-bc5a-ae80ffd2b65a",
   "metadata": {},
   "outputs": [],
   "source": [
    "airport_location = pd.read_csv('../data/airport_positions.csv')"
   ]
  },
  {
   "cell_type": "code",
   "execution_count": 3,
   "id": "e06fa9cb-915a-4388-8864-986b971e990c",
   "metadata": {},
   "outputs": [
    {
     "name": "stderr",
     "output_type": "stream",
     "text": [
      "/tmp/ipykernel_1004494/664398462.py:2: FutureWarning: The default value of regex will change from True to False in a future version.\n",
      "  airport_location[['latitude', 'longitude']] = airport_location['position'].str.replace(r'[\\(\\)]', '').str.split(',', expand=True)\n"
     ]
    }
   ],
   "source": [
    "# Remove parenthesis for airport location in dataset -> split lon and lat values -> divide by 100 to obtain correct values\n",
    "airport_location[['latitude', 'longitude']] = airport_location['position'].str.replace(r'[\\(\\)]', '').str.split(',', expand=True)\n",
    "airport_location[['latitude', 'longitude']] = airport_location[['latitude', 'longitude']].astype('float') / 100"
   ]
  },
  {
   "cell_type": "code",
   "execution_count": 4,
   "id": "6f64b400-b9b0-4b58-bec1-3084cc9f71f5",
   "metadata": {},
   "outputs": [],
   "source": [
    "parameters = ['air_temperature_0m', 'air_temperature_2m', 'air_temperature_pl', \n",
    "              'relative_humidity_2m', 'precipitation_amount_acc', 'x_wind_10m', 'y_wind_10m', \n",
    "             'x_wind_pl', 'y_wind_pl', 'fog_area_fraction', 'surface_air_pressure', 'air_pressure_at_sea_level']"
   ]
  },
  {
   "cell_type": "code",
   "execution_count": 5,
   "id": "3b90ab0a-a829-4217-8e75-422e06e6904a",
   "metadata": {},
   "outputs": [],
   "source": [
    "def transform_latitude_longitude_to_xy(latitude_values, longitude_values):\n",
    "    # Create a pyproj CRS object\n",
    "    proj4_str = '+proj=lcc +lat_0=63.3 +lon_0=15 +lat_1=63.3 +lat_2=63.3 +no_defs +R=6.371e+06'\n",
    "    lcc_crs = pyproj.CRS.from_proj4(proj4_str)\n",
    "\n",
    "    # Create a transformer for converting between lat/lon and x/y\n",
    "    transformer = pyproj.Transformer.from_crs(pyproj.CRS(\"EPSG:4326\"), lcc_crs, always_xy=True)\n",
    "\n",
    "    # Transform lat/lon to x/y\n",
    "    x_values, y_values = transformer.transform(longitude_values, latitude_values)\n",
    "\n",
    "    return x_values, y_values"
   ]
  },
  {
   "cell_type": "code",
   "execution_count": 10,
   "id": "7da120f7-0c8a-415f-8496-9f707f8d1e92",
   "metadata": {},
   "outputs": [],
   "source": [
    "# Define folder with paths and prefix for files to read\n",
    "folder_path = '/lustre/storeB/immutable/archive/projects/metproduction/meps/2021/'\n",
    "file_prefix = 'meps_lagged_6_h_subset_2_5km_'\n",
    "file_pattern = os.path.join(folder_path, file_prefix)\n",
    "file_list = glob.glob(file_pattern)\n",
    "output_folder = '/lustre/storeB/users/tonjek/msc/2024_msc_tonje_metar/data_extraction/2021/'"
   ]
  },
  {
   "cell_type": "code",
   "execution_count": 7,
   "id": "dbbe1f58-ff96-47ec-b19c-a876ddb770af",
   "metadata": {},
   "outputs": [
    {
     "name": "stdout",
     "output_type": "stream",
     "text": [
      "Processing day: Month: 11, Day: 19\n"
     ]
    },
    {
     "name": "stderr",
     "output_type": "stream",
     "text": [
      "\n",
      "KeyboardInterrupt\n",
      "\n"
     ]
    }
   ],
   "source": [
    "monthly_data = []\n",
    "for month_folder in os.listdir(folder_path):\n",
    "    month_path = os.path.join(folder_path, month_folder)\n",
    "\n",
    "    for day_folder in os.listdir(month_path):\n",
    "        day_path = os.path.join(month_path, day_folder)\n",
    "        file_list = [file for file in os.listdir(day_path) if file.startswith(file_prefix)]\n",
    "\n",
    "        all_timesteps_data = []\n",
    "        print(f\"Processing day: Month: {month_folder}, Day: {day_folder}\")\n",
    "\n",
    "        for file in file_list:\n",
    "            file_path = os.path.join(day_path, file)\n",
    "            start_time = time.time()\n",
    "\n",
    "            data = xr.open_mfdataset(file_path, chunks={'time': 1})\n",
    "\n",
    "            # Extracting parameter values only for matching nearest location\n",
    "            latitude_values = airport_location.latitude.values\n",
    "            longitude_values = airport_location.longitude.values\n",
    "\n",
    "            x_values, y_values = transform_latitude_longitude_to_xy(latitude_values, longitude_values)\n",
    "\n",
    "            airport_six_timesteps = []\n",
    "\n",
    "            for airport_idx in range(len(latitude_values)):\n",
    "                nearest_x, nearest_y = transform_latitude_longitude_to_xy(latitude_values[airport_idx], longitude_values[airport_idx])\n",
    "\n",
    "                lat_from_data = data.latitude.sel(x=nearest_x, y=nearest_y, method='nearest').values.item()\n",
    "                lon_from_data = data.longitude.sel(x=nearest_x, y=nearest_y, method='nearest').values.item()\n",
    "\n",
    "                interpolated_data = data[parameters].interp(x=nearest_x, y=nearest_y)\n",
    "\n",
    "                # Convert to pandas datetime\n",
    "                start_datetime = pd.to_datetime(data.time.values[0])\n",
    "                # Choosing 6 timesteps in total\n",
    "                end_datetime = start_datetime + pd.DateOffset(hours=5)\n",
    "\n",
    "                extracted_data = interpolated_data.sel(\n",
    "                    ensemble_member=0,\n",
    "                    time=slice(start_datetime, end_datetime)\n",
    "                )\n",
    "\n",
    "                extracted_data = extracted_data.expand_dims({'airport': [airport_idx + 1]})\n",
    "                airport_six_timesteps.append(extracted_data)\n",
    "\n",
    "            combined_data = xr.concat(airport_six_timesteps, dim='airport')\n",
    "            all_timesteps_data.append(combined_data)\n",
    "\n",
    "            end_time = time.time()\n",
    "            print(f'Time taken to extract info from {file}: {end_time - start_time}')\n",
    "            print(len(all_timesteps_data))\n",
    "\n",
    "        # For all days in each month\n",
    "        monthly_data = xr.concat(all_timesteps_data, dim='time')"
   ]
  },
  {
   "cell_type": "code",
   "execution_count": 8,
   "id": "f52e123d-fd60-478e-8eb3-cf96eed7a3e8",
   "metadata": {},
   "outputs": [],
   "source": [
    "# For each month\n",
    "for i, pickle_data in enumerate(monthly_data):\n",
    "    \n",
    "    pickle_filename = f'2021_monthly_data_{i+1}.pkl'\n",
    "    pickle_filepath = os.path.join(output_folder, pickle_filename)\n",
    "    \n",
    "    with open(pickle_filepath, 'wb') as pickle_file:\n",
    "        pickle.dump(pickle_data, pickle_file)\n",
    "\n",
    "    print(f\"Saved pickle file for month {i + 1}: {pickle_filepath}\")"
   ]
  }
 ],
 "metadata": {
  "kernelspec": {
   "display_name": "Python 3 (ipykernel)",
   "language": "python",
   "name": "python3"
  },
  "language_info": {
   "codemirror_mode": {
    "name": "ipython",
    "version": 3
   },
   "file_extension": ".py",
   "mimetype": "text/x-python",
   "name": "python",
   "nbconvert_exporter": "python",
   "pygments_lexer": "ipython3",
   "version": "3.9.13"
  }
 },
 "nbformat": 4,
 "nbformat_minor": 5
}
