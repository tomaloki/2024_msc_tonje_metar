{
 "cells": [
  {
   "cell_type": "code",
   "execution_count": 1,
   "id": "171cc485-207e-4d0c-8dfd-1ed2f5fccfe5",
   "metadata": {},
   "outputs": [
    {
     "name": "stderr",
     "output_type": "stream",
     "text": [
      "/modules/rhel8/conda/install/envs/development-11-2023/lib/python3.9/site-packages/scipy/__init__.py:155: UserWarning: A NumPy version >=1.18.5 and <1.25.0 is required for this version of SciPy (detected version 1.26.4\n",
      "  warnings.warn(f\"A NumPy version >={np_minversion} and <{np_maxversion}\"\n"
     ]
    }
   ],
   "source": [
    "import xarray as xr\n",
    "import pandas as pd\n",
    "import numpy as np\n",
    "import os\n",
    "import time\n",
    "import pyproj\n",
    "import glob\n",
    "import pickle"
   ]
  },
  {
   "cell_type": "code",
   "execution_count": 2,
   "id": "7417ebd6-c681-4bd7-b367-2eb5cfde1aeb",
   "metadata": {},
   "outputs": [],
   "source": [
    "airport_location = pd.read_csv('../../data/airport_positions_new.csv')"
   ]
  },
  {
   "cell_type": "code",
   "execution_count": 3,
   "id": "ea855361-3c8d-45c9-ae48-e927224ce668",
   "metadata": {},
   "outputs": [],
   "source": [
    "parameters = ['air_temperature_0m', 'air_temperature_2m', 'air_temperature_pl', \n",
    "              'relative_humidity_2m', 'precipitation_amount_acc', 'x_wind_10m', 'y_wind_10m', \n",
    "             'x_wind_pl', 'y_wind_pl', 'fog_area_fraction', 'surface_air_pressure', 'air_pressure_at_sea_level']"
   ]
  },
  {
   "cell_type": "code",
   "execution_count": 4,
   "id": "966a64e9-e29f-4fa5-96ff-e771355730ad",
   "metadata": {},
   "outputs": [],
   "source": [
    "def transform_latitude_longitude_to_xy(latitude_values, longitude_values):\n",
    "    # Create a pyproj CRS object\n",
    "    proj4_str = '+proj=lcc +lat_0=63.3 +lon_0=15 +lat_1=63.3 +lat_2=63.3 +no_defs +R=6.371e+06'\n",
    "    lcc_crs = pyproj.CRS.from_proj4(proj4_str)\n",
    "\n",
    "    # Create a transformer for converting between lat/lon and x/y\n",
    "    transformer = pyproj.Transformer.from_crs(pyproj.CRS(\"EPSG:4326\"), lcc_crs, always_xy=True)\n",
    "\n",
    "    # Transform lat/lon to x/y\n",
    "    x_values, y_values = transformer.transform(longitude_values, latitude_values)\n",
    "\n",
    "    return x_values, y_values"
   ]
  },
  {
   "cell_type": "code",
   "execution_count": 6,
   "id": "4bf1e60a-b122-49ad-b099-cad764d92c46",
   "metadata": {},
   "outputs": [],
   "source": [
    "# Define folder with paths and prefix for files to read\n",
    "folder_path = '/lustre/storeB/immutable/archive/projects/metproduction/meps/2021/'\n",
    "file_prefix = 'meps_lagged_6_h_subset_2_5km_*.nc'\n",
    "# file_pattern = os.path.join(folder_path, file_prefix)\n",
    "#file_list = glob.glob(file_pattern)\n",
    "output_folder = '/lustre/storeB/users/tonjek/msc/2024_msc_tonje_metar/00_data_preparation/data_extraction/2021/'"
   ]
  },
  {
   "cell_type": "code",
   "execution_count": 7,
   "id": "c78312ce-f4a0-4244-87e6-ad9186662917",
   "metadata": {
    "collapsed": true,
    "jupyter": {
     "outputs_hidden": true
    },
    "tags": []
   },
   "outputs": [
    {
     "name": "stdout",
     "output_type": "stream",
     "text": [
      "Processing day: Month: 11, Day: 19\n",
      "/lustre/storeB/immutable/archive/projects/metproduction/meps/2021/11/19/meps_lagged_6_h_subset_2_5km_20211119T06Z.nc\n",
      "Time taken to extract info from /lustre/storeB/immutable/archive/projects/metproduction/meps/2021/11/19/meps_lagged_6_h_subset_2_5km_20211119T06Z.nc: 3.396389961242676\n",
      "/lustre/storeB/immutable/archive/projects/metproduction/meps/2021/11/19/meps_lagged_6_h_subset_2_5km_20211119T00Z.nc\n",
      "Time taken to extract info from /lustre/storeB/immutable/archive/projects/metproduction/meps/2021/11/19/meps_lagged_6_h_subset_2_5km_20211119T00Z.nc: 3.739027500152588\n",
      "/lustre/storeB/immutable/archive/projects/metproduction/meps/2021/11/19/meps_lagged_6_h_subset_2_5km_20211119T12Z.nc\n"
     ]
    },
    {
     "ename": "KeyboardInterrupt",
     "evalue": "",
     "output_type": "error",
     "traceback": [
      "\u001b[0;31m---------------------------------------------------------------------------\u001b[0m",
      "\u001b[0;31mKeyboardInterrupt\u001b[0m                         Traceback (most recent call last)",
      "Cell \u001b[0;32mIn [7], line 43\u001b[0m\n\u001b[1;32m     37\u001b[0m lon_from_data \u001b[38;5;241m=\u001b[39m data\u001b[38;5;241m.\u001b[39mlongitude\u001b[38;5;241m.\u001b[39msel(x\u001b[38;5;241m=\u001b[39mnearest_x, y\u001b[38;5;241m=\u001b[39mnearest_y, method\u001b[38;5;241m=\u001b[39m\u001b[38;5;124m'\u001b[39m\u001b[38;5;124mnearest\u001b[39m\u001b[38;5;124m'\u001b[39m)\u001b[38;5;241m.\u001b[39mvalues\u001b[38;5;241m.\u001b[39mitem()\n\u001b[1;32m     39\u001b[0m \u001b[38;5;66;03m#print(f\"  Latitude (Data): {lat_from_data}\")\u001b[39;00m\n\u001b[1;32m     40\u001b[0m \u001b[38;5;66;03m#print(f\"  Longitude (Data): {lon_from_data}\")\u001b[39;00m\n\u001b[0;32m---> 43\u001b[0m interpolated_data \u001b[38;5;241m=\u001b[39m data[parameters]\u001b[38;5;241m.\u001b[39minterp(x\u001b[38;5;241m=\u001b[39mnearest_x, y\u001b[38;5;241m=\u001b[39mnearest_y)\n\u001b[1;32m     45\u001b[0m start_datetime \u001b[38;5;241m=\u001b[39m pd\u001b[38;5;241m.\u001b[39mto_datetime(data\u001b[38;5;241m.\u001b[39mtime\u001b[38;5;241m.\u001b[39mvalues[\u001b[38;5;241m0\u001b[39m])  \u001b[38;5;66;03m# Convert to pandas datetime\u001b[39;00m\n\u001b[1;32m     46\u001b[0m end_datetime \u001b[38;5;241m=\u001b[39m start_datetime \u001b[38;5;241m+\u001b[39m pd\u001b[38;5;241m.\u001b[39mDateOffset(hours\u001b[38;5;241m=\u001b[39m\u001b[38;5;241m5\u001b[39m)  \u001b[38;5;66;03m# Assuming each time step is 1 hour\u001b[39;00m\n",
      "File \u001b[0;32m/modules/rhel8/conda/install/envs/development-11-2023/lib/python3.9/site-packages/xarray/core/dataset.py:3317\u001b[0m, in \u001b[0;36mDataset.interp\u001b[0;34m(self, coords, method, assume_sorted, kwargs, method_non_numeric, **coords_kwargs)\u001b[0m\n\u001b[1;32m   3315\u001b[0m \u001b[38;5;28;01mif\u001b[39;00m method \u001b[38;5;129;01min\u001b[39;00m [\u001b[38;5;124m\"\u001b[39m\u001b[38;5;124mlinear\u001b[39m\u001b[38;5;124m\"\u001b[39m, \u001b[38;5;124m\"\u001b[39m\u001b[38;5;124mnearest\u001b[39m\u001b[38;5;124m\"\u001b[39m]:\n\u001b[1;32m   3316\u001b[0m     \u001b[38;5;28;01mfor\u001b[39;00m k, v \u001b[38;5;129;01min\u001b[39;00m validated_indexers\u001b[38;5;241m.\u001b[39mitems():\n\u001b[0;32m-> 3317\u001b[0m         obj, newidx \u001b[38;5;241m=\u001b[39m \u001b[43mmissing\u001b[49m\u001b[38;5;241;43m.\u001b[39;49m\u001b[43m_localize\u001b[49m\u001b[43m(\u001b[49m\u001b[43mobj\u001b[49m\u001b[43m,\u001b[49m\u001b[43m \u001b[49m\u001b[43m{\u001b[49m\u001b[43mk\u001b[49m\u001b[43m:\u001b[49m\u001b[43m \u001b[49m\u001b[43mv\u001b[49m\u001b[43m}\u001b[49m\u001b[43m)\u001b[49m\n\u001b[1;32m   3318\u001b[0m         validated_indexers[k] \u001b[38;5;241m=\u001b[39m newidx[k]\n\u001b[1;32m   3320\u001b[0m \u001b[38;5;66;03m# optimization: create dask coordinate arrays once per Dataset\u001b[39;00m\n\u001b[1;32m   3321\u001b[0m \u001b[38;5;66;03m# rather than once per Variable when dask.array.unify_chunks is called later\u001b[39;00m\n\u001b[1;32m   3322\u001b[0m \u001b[38;5;66;03m# GH4739\u001b[39;00m\n",
      "File \u001b[0;32m/modules/rhel8/conda/install/envs/development-11-2023/lib/python3.9/site-packages/xarray/core/missing.py:570\u001b[0m, in \u001b[0;36m_localize\u001b[0;34m(var, indexes_coords)\u001b[0m\n\u001b[1;32m    568\u001b[0m     indexes[dim] \u001b[38;5;241m=\u001b[39m \u001b[38;5;28mslice\u001b[39m(\u001b[38;5;28mmax\u001b[39m(imin \u001b[38;5;241m-\u001b[39m \u001b[38;5;241m2\u001b[39m, \u001b[38;5;241m0\u001b[39m), imax \u001b[38;5;241m+\u001b[39m \u001b[38;5;241m2\u001b[39m)\n\u001b[1;32m    569\u001b[0m     indexes_coords[dim] \u001b[38;5;241m=\u001b[39m (x[indexes[dim]], new_x)\n\u001b[0;32m--> 570\u001b[0m \u001b[38;5;28;01mreturn\u001b[39;00m \u001b[43mvar\u001b[49m\u001b[38;5;241;43m.\u001b[39;49m\u001b[43misel\u001b[49m\u001b[43m(\u001b[49m\u001b[38;5;241;43m*\u001b[39;49m\u001b[38;5;241;43m*\u001b[39;49m\u001b[43mindexes\u001b[49m\u001b[43m)\u001b[49m, indexes_coords\n",
      "File \u001b[0;32m/modules/rhel8/conda/install/envs/development-11-2023/lib/python3.9/site-packages/xarray/core/dataset.py:2406\u001b[0m, in \u001b[0;36mDataset.isel\u001b[0;34m(self, indexers, drop, missing_dims, **indexers_kwargs)\u001b[0m\n\u001b[1;32m   2404\u001b[0m var_indexers \u001b[38;5;241m=\u001b[39m {k: v \u001b[38;5;28;01mfor\u001b[39;00m k, v \u001b[38;5;129;01min\u001b[39;00m indexers\u001b[38;5;241m.\u001b[39mitems() \u001b[38;5;28;01mif\u001b[39;00m k \u001b[38;5;129;01min\u001b[39;00m var\u001b[38;5;241m.\u001b[39mdims}\n\u001b[1;32m   2405\u001b[0m \u001b[38;5;28;01mif\u001b[39;00m var_indexers:\n\u001b[0;32m-> 2406\u001b[0m     var \u001b[38;5;241m=\u001b[39m \u001b[43mvar\u001b[49m\u001b[38;5;241;43m.\u001b[39;49m\u001b[43misel\u001b[49m\u001b[43m(\u001b[49m\u001b[43mvar_indexers\u001b[49m\u001b[43m)\u001b[49m\n\u001b[1;32m   2407\u001b[0m     \u001b[38;5;28;01mif\u001b[39;00m drop \u001b[38;5;129;01mand\u001b[39;00m var\u001b[38;5;241m.\u001b[39mndim \u001b[38;5;241m==\u001b[39m \u001b[38;5;241m0\u001b[39m \u001b[38;5;129;01mand\u001b[39;00m name \u001b[38;5;129;01min\u001b[39;00m coord_names:\n\u001b[1;32m   2408\u001b[0m         coord_names\u001b[38;5;241m.\u001b[39mremove(name)\n",
      "File \u001b[0;32m/modules/rhel8/conda/install/envs/development-11-2023/lib/python3.9/site-packages/xarray/core/variable.py:1223\u001b[0m, in \u001b[0;36mVariable.isel\u001b[0;34m(self, indexers, missing_dims, **indexers_kwargs)\u001b[0m\n\u001b[1;32m   1199\u001b[0m \u001b[38;5;124;03m\"\"\"Return a new array indexed along the specified dimension(s).\u001b[39;00m\n\u001b[1;32m   1200\u001b[0m \n\u001b[1;32m   1201\u001b[0m \u001b[38;5;124;03mParameters\u001b[39;00m\n\u001b[0;32m   (...)\u001b[0m\n\u001b[1;32m   1219\u001b[0m \u001b[38;5;124;03m    indexer, in which case the data will be a copy.\u001b[39;00m\n\u001b[1;32m   1220\u001b[0m \u001b[38;5;124;03m\"\"\"\u001b[39;00m\n\u001b[1;32m   1221\u001b[0m indexers \u001b[38;5;241m=\u001b[39m either_dict_or_kwargs(indexers, indexers_kwargs, \u001b[38;5;124m\"\u001b[39m\u001b[38;5;124misel\u001b[39m\u001b[38;5;124m\"\u001b[39m)\n\u001b[0;32m-> 1223\u001b[0m indexers \u001b[38;5;241m=\u001b[39m \u001b[43mdrop_dims_from_indexers\u001b[49m\u001b[43m(\u001b[49m\u001b[43mindexers\u001b[49m\u001b[43m,\u001b[49m\u001b[43m \u001b[49m\u001b[38;5;28;43mself\u001b[39;49m\u001b[38;5;241;43m.\u001b[39;49m\u001b[43mdims\u001b[49m\u001b[43m,\u001b[49m\u001b[43m \u001b[49m\u001b[43mmissing_dims\u001b[49m\u001b[43m)\u001b[49m\n\u001b[1;32m   1225\u001b[0m key \u001b[38;5;241m=\u001b[39m \u001b[38;5;28mtuple\u001b[39m(indexers\u001b[38;5;241m.\u001b[39mget(dim, \u001b[38;5;28mslice\u001b[39m(\u001b[38;5;28;01mNone\u001b[39;00m)) \u001b[38;5;28;01mfor\u001b[39;00m dim \u001b[38;5;129;01min\u001b[39;00m \u001b[38;5;28mself\u001b[39m\u001b[38;5;241m.\u001b[39mdims)\n\u001b[1;32m   1226\u001b[0m \u001b[38;5;28;01mreturn\u001b[39;00m \u001b[38;5;28mself\u001b[39m[key]\n",
      "File \u001b[0;32m/modules/rhel8/conda/install/envs/development-11-2023/lib/python3.9/site-packages/xarray/core/utils.py:848\u001b[0m, in \u001b[0;36mdrop_dims_from_indexers\u001b[0;34m(indexers, dims, missing_dims)\u001b[0m\n\u001b[1;32m    837\u001b[0m \u001b[38;5;124;03m\"\"\"Depending on the setting of missing_dims, drop any dimensions from indexers that\u001b[39;00m\n\u001b[1;32m    838\u001b[0m \u001b[38;5;124;03mare not present in dims.\u001b[39;00m\n\u001b[1;32m    839\u001b[0m \n\u001b[0;32m   (...)\u001b[0m\n\u001b[1;32m    844\u001b[0m \u001b[38;5;124;03mmissing_dims : {\"raise\", \"warn\", \"ignore\"}\u001b[39;00m\n\u001b[1;32m    845\u001b[0m \u001b[38;5;124;03m\"\"\"\u001b[39;00m\n\u001b[1;32m    847\u001b[0m \u001b[38;5;28;01mif\u001b[39;00m missing_dims \u001b[38;5;241m==\u001b[39m \u001b[38;5;124m\"\u001b[39m\u001b[38;5;124mraise\u001b[39m\u001b[38;5;124m\"\u001b[39m:\n\u001b[0;32m--> 848\u001b[0m     invalid \u001b[38;5;241m=\u001b[39m \u001b[43mindexers\u001b[49m\u001b[38;5;241;43m.\u001b[39;49m\u001b[43mkeys\u001b[49m\u001b[43m(\u001b[49m\u001b[43m)\u001b[49m\u001b[43m \u001b[49m\u001b[38;5;241;43m-\u001b[39;49m\u001b[43m \u001b[49m\u001b[38;5;28;43mset\u001b[39;49m\u001b[43m(\u001b[49m\u001b[43mdims\u001b[49m\u001b[43m)\u001b[49m\n\u001b[1;32m    849\u001b[0m     \u001b[38;5;28;01mif\u001b[39;00m invalid:\n\u001b[1;32m    850\u001b[0m         \u001b[38;5;28;01mraise\u001b[39;00m \u001b[38;5;167;01mValueError\u001b[39;00m(\n\u001b[1;32m    851\u001b[0m             \u001b[38;5;124mf\u001b[39m\u001b[38;5;124m\"\u001b[39m\u001b[38;5;124mDimensions \u001b[39m\u001b[38;5;132;01m{\u001b[39;00minvalid\u001b[38;5;132;01m}\u001b[39;00m\u001b[38;5;124m do not exist. Expected one or more of \u001b[39m\u001b[38;5;132;01m{\u001b[39;00mdims\u001b[38;5;132;01m}\u001b[39;00m\u001b[38;5;124m\"\u001b[39m\n\u001b[1;32m    852\u001b[0m         )\n",
      "\u001b[0;31mKeyboardInterrupt\u001b[0m: "
     ]
    }
   ],
   "source": [
    "airport_identifier = airport_location['airport_identifier'].unique()\n",
    "for month_folder in os.listdir(folder_path):\n",
    "    month_path = os.path.join(folder_path, month_folder)\n",
    "    all_timesteps_data = []\n",
    "    for day_folder in os.listdir(month_path):\n",
    "        day_path = os.path.join(month_path, day_folder)\n",
    "\n",
    "        file_pattern = os.path.join(day_path, file_prefix)\n",
    "        file_list = glob.glob(file_pattern)\n",
    "\n",
    "        print(f\"Processing day: Month: {month_folder}, Day: {day_folder}\")\n",
    "\n",
    "        for file_path in file_list:\n",
    "            data = xr.open_mfdataset(file_path, chunks={'time':1})\n",
    "            start_time = time.time()\n",
    "            print(file_path)\n",
    "\n",
    "            latitude_values = airport_location.latitude.values\n",
    "            longitude_values = airport_location.longitude.values\n",
    "\n",
    "            x_values, y_values = transform_latitude_longitude_to_xy(latitude_values, longitude_values)\n",
    "\n",
    "            airport_six_timesteps = []\n",
    "\n",
    "            for airport_idx in range(len(latitude_values)):\n",
    "                nearest_x = x_values[airport_idx]\n",
    "                nearest_y = y_values[airport_idx]\n",
    "\n",
    "                #print(f\"AIRPORT {airport_idx + 1} COORDINATES:\")\n",
    "                #print(f\"  Latitude: {latitude_values[airport_idx]}\")\n",
    "                #print(f\"  Longitude: {longitude_values[airport_idx]}\")\n",
    "                #print(f\"  Nearest x: {nearest_x}\")\n",
    "                #print(f\"  Nearest y: {nearest_y}\")\n",
    "\n",
    "                # Extract latitude and longitude values from the data variable\n",
    "                lat_from_data = data.latitude.sel(x=nearest_x, y=nearest_y, method='nearest').values.item()\n",
    "                lon_from_data = data.longitude.sel(x=nearest_x, y=nearest_y, method='nearest').values.item()\n",
    "\n",
    "                #print(f\"  Latitude (Data): {lat_from_data}\")\n",
    "                #print(f\"  Longitude (Data): {lon_from_data}\")\n",
    "\n",
    "\n",
    "                interpolated_data = data[parameters].interp(x=nearest_x, y=nearest_y)\n",
    "\n",
    "                start_datetime = pd.to_datetime(data.time.values[0])  # Convert to pandas datetime\n",
    "                end_datetime = start_datetime + pd.DateOffset(hours=5)  # Assuming each time step is 1 hour\n",
    "\n",
    "                extracted_data = interpolated_data.sel(\n",
    "                    ensemble_member=0,\n",
    "                    time=slice(start_datetime, end_datetime)\n",
    "                )\n",
    "                \n",
    "                # Calculate precipitation amount\n",
    "\n",
    "                #precipitation_acc = data['precipitation_amount_acc']\n",
    "\n",
    "                # Calculate precipitation for timestamp\n",
    "                #precipitation = precipitation_acc.diff(dim='time', label='lower')\n",
    "\n",
    "                # Replace NaN in the first time step with the original value\n",
    "                #precipitation = precipitation.fillna(precipitation_acc.isel(time=0))\n",
    "                #precipitation.attrs = precipitation_acc.attrs\n",
    "                #extracted_data['precipitation_amount'] = precipitation\n",
    "                \n",
    "                # Add airport as a dimension with the corresponding index (+ 1)\n",
    "                extracted_data = extracted_data.expand_dims({'airport': [airport_identifier[airport_idx]]})\n",
    "                airport_six_timesteps.append(extracted_data)\n",
    "            combined_data = xr.concat(airport_six_timesteps, dim='airport')\n",
    "            all_timesteps_data.append(combined_data)\n",
    "            end_time = time.time()\n",
    "            print(f'Time taken to extract info from {file_path}: {end_time - start_time}')\n",
    "            #print(f'Dimensions after concatenation for day {day_folder}: {combined_data.dims}')\n",
    "    final_combined_data = xr.concat(all_timesteps_data, dim='time')\n",
    "    final_combined_data = final_combined_data.drop_vars('ensemble_member')\n",
    "    # Save pickle\n",
    "    pickle_filename = f'2021_{month_folder}_UPDATED_2.pkl'\n",
    "    pickle_filepath = os.path.join(output_folder, pickle_filename)\n",
    "\n",
    "    with open(pickle_filepath, 'wb') as pickle_file:\n",
    "        pickle.dump(final_combined_data, pickle_file)\n",
    "\n",
    "    print(f\"Saved pickle file for file {file_path}: {pickle_filepath}\")\n"
   ]
  }
 ],
 "metadata": {
  "kernelspec": {
   "display_name": "Python 3 (ipykernel)",
   "language": "python",
   "name": "python3"
  },
  "language_info": {
   "codemirror_mode": {
    "name": "ipython",
    "version": 3
   },
   "file_extension": ".py",
   "mimetype": "text/x-python",
   "name": "python",
   "nbconvert_exporter": "python",
   "pygments_lexer": "ipython3",
   "version": "3.9.13"
  }
 },
 "nbformat": 4,
 "nbformat_minor": 5
}
