{
 "cells": [
  {
   "cell_type": "code",
   "execution_count": 1,
   "id": "171cc485-207e-4d0c-8dfd-1ed2f5fccfe5",
   "metadata": {},
   "outputs": [
    {
     "name": "stderr",
     "output_type": "stream",
     "text": [
      "/modules/rhel8/conda/install/envs/development-11-2023/lib/python3.9/site-packages/scipy/__init__.py:155: UserWarning: A NumPy version >=1.18.5 and <1.25.0 is required for this version of SciPy (detected version 1.26.4\n",
      "  warnings.warn(f\"A NumPy version >={np_minversion} and <{np_maxversion}\"\n"
     ]
    }
   ],
   "source": [
    "import xarray as xr\n",
    "import pandas as pd\n",
    "import numpy as np\n",
    "import os\n",
    "import time\n",
    "import pyproj\n",
    "import glob\n",
    "import pickle"
   ]
  },
  {
   "cell_type": "code",
   "execution_count": 2,
   "id": "7417ebd6-c681-4bd7-b367-2eb5cfde1aeb",
   "metadata": {},
   "outputs": [],
   "source": [
    "airport_location = pd.read_csv('../../data/airport_positions_new.csv')"
   ]
  },
  {
   "cell_type": "code",
   "execution_count": 5,
   "id": "ea855361-3c8d-45c9-ae48-e927224ce668",
   "metadata": {},
   "outputs": [],
   "source": [
    "parameters = ['air_temperature_0m', 'air_temperature_2m', 'air_temperature_pl', \n",
    "              'relative_humidity_2m', 'precipitation_amount_acc', 'x_wind_10m', 'y_wind_10m', \n",
    "             'x_wind_pl', 'y_wind_pl', 'fog_area_fraction', 'surface_air_pressure', 'air_pressure_at_sea_level']"
   ]
  },
  {
   "cell_type": "code",
   "execution_count": 6,
   "id": "966a64e9-e29f-4fa5-96ff-e771355730ad",
   "metadata": {},
   "outputs": [],
   "source": [
    "def transform_latitude_longitude_to_xy(latitude_values, longitude_values):\n",
    "    # Create a pyproj CRS object\n",
    "    proj4_str = '+proj=lcc +lat_0=63.3 +lon_0=15 +lat_1=63.3 +lat_2=63.3 +no_defs +R=6.371e+06'\n",
    "    lcc_crs = pyproj.CRS.from_proj4(proj4_str)\n",
    "\n",
    "    # Create a transformer for converting between lat/lon and x/y\n",
    "    transformer = pyproj.Transformer.from_crs(pyproj.CRS(\"EPSG:4326\"), lcc_crs, always_xy=True)\n",
    "\n",
    "    # Transform lat/lon to x/y\n",
    "    x_values, y_values = transformer.transform(longitude_values, latitude_values)\n",
    "\n",
    "    return x_values, y_values"
   ]
  },
  {
   "cell_type": "code",
   "execution_count": 7,
   "id": "4bf1e60a-b122-49ad-b099-cad764d92c46",
   "metadata": {},
   "outputs": [],
   "source": [
    "# Define folder with paths and prefix for files to read\n",
    "folder_path = '/lustre/storeB/immutable/archive/projects/metproduction/meps/2021/'\n",
    "file_prefix = 'meps_lagged_6_h_subset_2_5km_*.nc'\n",
    "# file_pattern = os.path.join(folder_path, file_prefix)\n",
    "#file_list = glob.glob(file_pattern)\n",
    "output_folder = '/lustre/storeB/users/tonjek/msc/2024_msc_tonje_metar/00_data_preparation/data_extraction/2021/'"
   ]
  },
  {
   "cell_type": "code",
   "execution_count": 8,
   "id": "c78312ce-f4a0-4244-87e6-ad9186662917",
   "metadata": {},
   "outputs": [
    {
     "name": "stdout",
     "output_type": "stream",
     "text": [
      "Processing day: Month: 11, Day: 19\n",
      "/lustre/storeB/immutable/archive/projects/metproduction/meps/2021/11/19/meps_lagged_6_h_subset_2_5km_20211119T06Z.nc\n",
      "Time taken to extract info from /lustre/storeB/immutable/archive/projects/metproduction/meps/2021/11/19/meps_lagged_6_h_subset_2_5km_20211119T06Z.nc: 4.02396821975708\n",
      "/lustre/storeB/immutable/archive/projects/metproduction/meps/2021/11/19/meps_lagged_6_h_subset_2_5km_20211119T00Z.nc\n"
     ]
    },
    {
     "ename": "KeyboardInterrupt",
     "evalue": "",
     "output_type": "error",
     "traceback": [
      "\u001b[0;31m---------------------------------------------------------------------------\u001b[0m",
      "\u001b[0;31mKeyboardInterrupt\u001b[0m                         Traceback (most recent call last)",
      "Cell \u001b[0;32mIn [8], line 36\u001b[0m\n\u001b[1;32m     27\u001b[0m nearest_y \u001b[38;5;241m=\u001b[39m y_values[airport_idx]\n\u001b[1;32m     29\u001b[0m \u001b[38;5;66;03m#print(f\"AIRPORT {airport_idx + 1} COORDINATES:\")\u001b[39;00m\n\u001b[1;32m     30\u001b[0m \u001b[38;5;66;03m#print(f\"  Latitude: {latitude_values[airport_idx]}\")\u001b[39;00m\n\u001b[1;32m     31\u001b[0m \u001b[38;5;66;03m#print(f\"  Longitude: {longitude_values[airport_idx]}\")\u001b[39;00m\n\u001b[0;32m   (...)\u001b[0m\n\u001b[1;32m     34\u001b[0m \n\u001b[1;32m     35\u001b[0m \u001b[38;5;66;03m# Extract latitude and longitude values from the data variable\u001b[39;00m\n\u001b[0;32m---> 36\u001b[0m lat_from_data \u001b[38;5;241m=\u001b[39m data\u001b[38;5;241m.\u001b[39mlatitude\u001b[38;5;241m.\u001b[39msel(x\u001b[38;5;241m=\u001b[39mnearest_x, y\u001b[38;5;241m=\u001b[39mnearest_y, method\u001b[38;5;241m=\u001b[39m\u001b[38;5;124m'\u001b[39m\u001b[38;5;124mnearest\u001b[39m\u001b[38;5;124m'\u001b[39m)\u001b[38;5;241m.\u001b[39mvalues\u001b[38;5;241m.\u001b[39mitem()\n\u001b[1;32m     37\u001b[0m lon_from_data \u001b[38;5;241m=\u001b[39m data\u001b[38;5;241m.\u001b[39mlongitude\u001b[38;5;241m.\u001b[39msel(x\u001b[38;5;241m=\u001b[39mnearest_x, y\u001b[38;5;241m=\u001b[39mnearest_y, method\u001b[38;5;241m=\u001b[39m\u001b[38;5;124m'\u001b[39m\u001b[38;5;124mnearest\u001b[39m\u001b[38;5;124m'\u001b[39m)\u001b[38;5;241m.\u001b[39mvalues\u001b[38;5;241m.\u001b[39mitem()\n\u001b[1;32m     39\u001b[0m \u001b[38;5;66;03m#print(f\"  Latitude (Data): {lat_from_data}\")\u001b[39;00m\n\u001b[1;32m     40\u001b[0m \u001b[38;5;66;03m#print(f\"  Longitude (Data): {lon_from_data}\")\u001b[39;00m\n",
      "File \u001b[0;32m/modules/rhel8/conda/install/envs/development-11-2023/lib/python3.9/site-packages/xarray/core/dataarray.py:685\u001b[0m, in \u001b[0;36mDataArray.values\u001b[0;34m(self)\u001b[0m\n\u001b[1;32m    676\u001b[0m \u001b[38;5;129m@property\u001b[39m\n\u001b[1;32m    677\u001b[0m \u001b[38;5;28;01mdef\u001b[39;00m \u001b[38;5;21mvalues\u001b[39m(\u001b[38;5;28mself\u001b[39m) \u001b[38;5;241m-\u001b[39m\u001b[38;5;241m>\u001b[39m np\u001b[38;5;241m.\u001b[39mndarray:\n\u001b[1;32m    678\u001b[0m     \u001b[38;5;124;03m\"\"\"\u001b[39;00m\n\u001b[1;32m    679\u001b[0m \u001b[38;5;124;03m    The array's data as a numpy.ndarray.\u001b[39;00m\n\u001b[1;32m    680\u001b[0m \n\u001b[0;32m   (...)\u001b[0m\n\u001b[1;32m    683\u001b[0m \u001b[38;5;124;03m    type does not support coercion like this (e.g. cupy).\u001b[39;00m\n\u001b[1;32m    684\u001b[0m \u001b[38;5;124;03m    \"\"\"\u001b[39;00m\n\u001b[0;32m--> 685\u001b[0m     \u001b[38;5;28;01mreturn\u001b[39;00m \u001b[38;5;28;43mself\u001b[39;49m\u001b[38;5;241;43m.\u001b[39;49m\u001b[43mvariable\u001b[49m\u001b[38;5;241;43m.\u001b[39;49m\u001b[43mvalues\u001b[49m\n",
      "File \u001b[0;32m/modules/rhel8/conda/install/envs/development-11-2023/lib/python3.9/site-packages/xarray/core/variable.py:527\u001b[0m, in \u001b[0;36mVariable.values\u001b[0;34m(self)\u001b[0m\n\u001b[1;32m    524\u001b[0m \u001b[38;5;129m@property\u001b[39m\n\u001b[1;32m    525\u001b[0m \u001b[38;5;28;01mdef\u001b[39;00m \u001b[38;5;21mvalues\u001b[39m(\u001b[38;5;28mself\u001b[39m):\n\u001b[1;32m    526\u001b[0m     \u001b[38;5;124;03m\"\"\"The variable's data as a numpy.ndarray\"\"\"\u001b[39;00m\n\u001b[0;32m--> 527\u001b[0m     \u001b[38;5;28;01mreturn\u001b[39;00m \u001b[43m_as_array_or_item\u001b[49m\u001b[43m(\u001b[49m\u001b[38;5;28;43mself\u001b[39;49m\u001b[38;5;241;43m.\u001b[39;49m\u001b[43m_data\u001b[49m\u001b[43m)\u001b[49m\n",
      "File \u001b[0;32m/modules/rhel8/conda/install/envs/development-11-2023/lib/python3.9/site-packages/xarray/core/variable.py:267\u001b[0m, in \u001b[0;36m_as_array_or_item\u001b[0;34m(data)\u001b[0m\n\u001b[1;32m    253\u001b[0m \u001b[38;5;28;01mdef\u001b[39;00m \u001b[38;5;21m_as_array_or_item\u001b[39m(data):\n\u001b[1;32m    254\u001b[0m     \u001b[38;5;124;03m\"\"\"Return the given values as a numpy array, or as an individual item if\u001b[39;00m\n\u001b[1;32m    255\u001b[0m \u001b[38;5;124;03m    it's a 0d datetime64 or timedelta64 array.\u001b[39;00m\n\u001b[1;32m    256\u001b[0m \n\u001b[0;32m   (...)\u001b[0m\n\u001b[1;32m    265\u001b[0m \u001b[38;5;124;03m    TODO: remove this (replace with np.asarray) once these issues are fixed\u001b[39;00m\n\u001b[1;32m    266\u001b[0m \u001b[38;5;124;03m    \"\"\"\u001b[39;00m\n\u001b[0;32m--> 267\u001b[0m     data \u001b[38;5;241m=\u001b[39m \u001b[43mnp\u001b[49m\u001b[38;5;241;43m.\u001b[39;49m\u001b[43masarray\u001b[49m\u001b[43m(\u001b[49m\u001b[43mdata\u001b[49m\u001b[43m)\u001b[49m\n\u001b[1;32m    268\u001b[0m     \u001b[38;5;28;01mif\u001b[39;00m data\u001b[38;5;241m.\u001b[39mndim \u001b[38;5;241m==\u001b[39m \u001b[38;5;241m0\u001b[39m:\n\u001b[1;32m    269\u001b[0m         \u001b[38;5;28;01mif\u001b[39;00m data\u001b[38;5;241m.\u001b[39mdtype\u001b[38;5;241m.\u001b[39mkind \u001b[38;5;241m==\u001b[39m \u001b[38;5;124m\"\u001b[39m\u001b[38;5;124mM\u001b[39m\u001b[38;5;124m\"\u001b[39m:\n",
      "File \u001b[0;32m/modules/rhel8/conda/install/envs/development-11-2023/lib/python3.9/site-packages/dask/array/core.py:1702\u001b[0m, in \u001b[0;36mArray.__array__\u001b[0;34m(self, dtype, **kwargs)\u001b[0m\n\u001b[1;32m   1701\u001b[0m \u001b[38;5;28;01mdef\u001b[39;00m \u001b[38;5;21m__array__\u001b[39m(\u001b[38;5;28mself\u001b[39m, dtype\u001b[38;5;241m=\u001b[39m\u001b[38;5;28;01mNone\u001b[39;00m, \u001b[38;5;241m*\u001b[39m\u001b[38;5;241m*\u001b[39mkwargs):\n\u001b[0;32m-> 1702\u001b[0m     x \u001b[38;5;241m=\u001b[39m \u001b[38;5;28;43mself\u001b[39;49m\u001b[38;5;241;43m.\u001b[39;49m\u001b[43mcompute\u001b[49m\u001b[43m(\u001b[49m\u001b[43m)\u001b[49m\n\u001b[1;32m   1703\u001b[0m     \u001b[38;5;28;01mif\u001b[39;00m dtype \u001b[38;5;129;01mand\u001b[39;00m x\u001b[38;5;241m.\u001b[39mdtype \u001b[38;5;241m!=\u001b[39m dtype:\n\u001b[1;32m   1704\u001b[0m         x \u001b[38;5;241m=\u001b[39m x\u001b[38;5;241m.\u001b[39mastype(dtype)\n",
      "File \u001b[0;32m/modules/rhel8/conda/install/envs/development-11-2023/lib/python3.9/site-packages/dask/base.py:315\u001b[0m, in \u001b[0;36mDaskMethodsMixin.compute\u001b[0;34m(self, **kwargs)\u001b[0m\n\u001b[1;32m    291\u001b[0m \u001b[38;5;28;01mdef\u001b[39;00m \u001b[38;5;21mcompute\u001b[39m(\u001b[38;5;28mself\u001b[39m, \u001b[38;5;241m*\u001b[39m\u001b[38;5;241m*\u001b[39mkwargs):\n\u001b[1;32m    292\u001b[0m     \u001b[38;5;124;03m\"\"\"Compute this dask collection\u001b[39;00m\n\u001b[1;32m    293\u001b[0m \n\u001b[1;32m    294\u001b[0m \u001b[38;5;124;03m    This turns a lazy Dask collection into its in-memory equivalent.\u001b[39;00m\n\u001b[0;32m   (...)\u001b[0m\n\u001b[1;32m    313\u001b[0m \u001b[38;5;124;03m    dask.base.compute\u001b[39;00m\n\u001b[1;32m    314\u001b[0m \u001b[38;5;124;03m    \"\"\"\u001b[39;00m\n\u001b[0;32m--> 315\u001b[0m     (result,) \u001b[38;5;241m=\u001b[39m \u001b[43mcompute\u001b[49m\u001b[43m(\u001b[49m\u001b[38;5;28;43mself\u001b[39;49m\u001b[43m,\u001b[49m\u001b[43m \u001b[49m\u001b[43mtraverse\u001b[49m\u001b[38;5;241;43m=\u001b[39;49m\u001b[38;5;28;43;01mFalse\u001b[39;49;00m\u001b[43m,\u001b[49m\u001b[43m \u001b[49m\u001b[38;5;241;43m*\u001b[39;49m\u001b[38;5;241;43m*\u001b[39;49m\u001b[43mkwargs\u001b[49m\u001b[43m)\u001b[49m\n\u001b[1;32m    316\u001b[0m     \u001b[38;5;28;01mreturn\u001b[39;00m result\n",
      "File \u001b[0;32m/modules/rhel8/conda/install/envs/development-11-2023/lib/python3.9/site-packages/dask/base.py:600\u001b[0m, in \u001b[0;36mcompute\u001b[0;34m(traverse, optimize_graph, scheduler, get, *args, **kwargs)\u001b[0m\n\u001b[1;32m    597\u001b[0m     keys\u001b[38;5;241m.\u001b[39mappend(x\u001b[38;5;241m.\u001b[39m__dask_keys__())\n\u001b[1;32m    598\u001b[0m     postcomputes\u001b[38;5;241m.\u001b[39mappend(x\u001b[38;5;241m.\u001b[39m__dask_postcompute__())\n\u001b[0;32m--> 600\u001b[0m results \u001b[38;5;241m=\u001b[39m \u001b[43mschedule\u001b[49m\u001b[43m(\u001b[49m\u001b[43mdsk\u001b[49m\u001b[43m,\u001b[49m\u001b[43m \u001b[49m\u001b[43mkeys\u001b[49m\u001b[43m,\u001b[49m\u001b[43m \u001b[49m\u001b[38;5;241;43m*\u001b[39;49m\u001b[38;5;241;43m*\u001b[39;49m\u001b[43mkwargs\u001b[49m\u001b[43m)\u001b[49m\n\u001b[1;32m    601\u001b[0m \u001b[38;5;28;01mreturn\u001b[39;00m repack([f(r, \u001b[38;5;241m*\u001b[39ma) \u001b[38;5;28;01mfor\u001b[39;00m r, (f, a) \u001b[38;5;129;01min\u001b[39;00m \u001b[38;5;28mzip\u001b[39m(results, postcomputes)])\n",
      "File \u001b[0;32m/modules/rhel8/conda/install/envs/development-11-2023/lib/python3.9/site-packages/dask/threaded.py:89\u001b[0m, in \u001b[0;36mget\u001b[0;34m(dsk, keys, cache, num_workers, pool, **kwargs)\u001b[0m\n\u001b[1;32m     86\u001b[0m     \u001b[38;5;28;01melif\u001b[39;00m \u001b[38;5;28misinstance\u001b[39m(pool, multiprocessing\u001b[38;5;241m.\u001b[39mpool\u001b[38;5;241m.\u001b[39mPool):\n\u001b[1;32m     87\u001b[0m         pool \u001b[38;5;241m=\u001b[39m MultiprocessingPoolExecutor(pool)\n\u001b[0;32m---> 89\u001b[0m results \u001b[38;5;241m=\u001b[39m \u001b[43mget_async\u001b[49m\u001b[43m(\u001b[49m\n\u001b[1;32m     90\u001b[0m \u001b[43m    \u001b[49m\u001b[43mpool\u001b[49m\u001b[38;5;241;43m.\u001b[39;49m\u001b[43msubmit\u001b[49m\u001b[43m,\u001b[49m\n\u001b[1;32m     91\u001b[0m \u001b[43m    \u001b[49m\u001b[43mpool\u001b[49m\u001b[38;5;241;43m.\u001b[39;49m\u001b[43m_max_workers\u001b[49m\u001b[43m,\u001b[49m\n\u001b[1;32m     92\u001b[0m \u001b[43m    \u001b[49m\u001b[43mdsk\u001b[49m\u001b[43m,\u001b[49m\n\u001b[1;32m     93\u001b[0m \u001b[43m    \u001b[49m\u001b[43mkeys\u001b[49m\u001b[43m,\u001b[49m\n\u001b[1;32m     94\u001b[0m \u001b[43m    \u001b[49m\u001b[43mcache\u001b[49m\u001b[38;5;241;43m=\u001b[39;49m\u001b[43mcache\u001b[49m\u001b[43m,\u001b[49m\n\u001b[1;32m     95\u001b[0m \u001b[43m    \u001b[49m\u001b[43mget_id\u001b[49m\u001b[38;5;241;43m=\u001b[39;49m\u001b[43m_thread_get_id\u001b[49m\u001b[43m,\u001b[49m\n\u001b[1;32m     96\u001b[0m \u001b[43m    \u001b[49m\u001b[43mpack_exception\u001b[49m\u001b[38;5;241;43m=\u001b[39;49m\u001b[43mpack_exception\u001b[49m\u001b[43m,\u001b[49m\n\u001b[1;32m     97\u001b[0m \u001b[43m    \u001b[49m\u001b[38;5;241;43m*\u001b[39;49m\u001b[38;5;241;43m*\u001b[39;49m\u001b[43mkwargs\u001b[49m\u001b[43m,\u001b[49m\n\u001b[1;32m     98\u001b[0m \u001b[43m\u001b[49m\u001b[43m)\u001b[49m\n\u001b[1;32m    100\u001b[0m \u001b[38;5;66;03m# Cleanup pools associated to dead threads\u001b[39;00m\n\u001b[1;32m    101\u001b[0m \u001b[38;5;28;01mwith\u001b[39;00m pools_lock:\n",
      "File \u001b[0;32m/modules/rhel8/conda/install/envs/development-11-2023/lib/python3.9/site-packages/dask/local.py:500\u001b[0m, in \u001b[0;36mget_async\u001b[0;34m(submit, num_workers, dsk, result, cache, get_id, rerun_exceptions_locally, pack_exception, raise_exception, callbacks, dumps, loads, chunksize, **kwargs)\u001b[0m\n\u001b[1;32m    498\u001b[0m \u001b[38;5;28;01mwhile\u001b[39;00m state[\u001b[38;5;124m\"\u001b[39m\u001b[38;5;124mwaiting\u001b[39m\u001b[38;5;124m\"\u001b[39m] \u001b[38;5;129;01mor\u001b[39;00m state[\u001b[38;5;124m\"\u001b[39m\u001b[38;5;124mready\u001b[39m\u001b[38;5;124m\"\u001b[39m] \u001b[38;5;129;01mor\u001b[39;00m state[\u001b[38;5;124m\"\u001b[39m\u001b[38;5;124mrunning\u001b[39m\u001b[38;5;124m\"\u001b[39m]:\n\u001b[1;32m    499\u001b[0m     fire_tasks(chunksize)\n\u001b[0;32m--> 500\u001b[0m     \u001b[38;5;28;01mfor\u001b[39;00m key, res_info, failed \u001b[38;5;129;01min\u001b[39;00m \u001b[43mqueue_get\u001b[49m\u001b[43m(\u001b[49m\u001b[43mqueue\u001b[49m\u001b[43m)\u001b[49m\u001b[38;5;241;43m.\u001b[39;49m\u001b[43mresult\u001b[49m\u001b[43m(\u001b[49m\u001b[43m)\u001b[49m:\n\u001b[1;32m    501\u001b[0m         \u001b[38;5;28;01mif\u001b[39;00m failed:\n\u001b[1;32m    502\u001b[0m             exc, tb \u001b[38;5;241m=\u001b[39m loads(res_info)\n",
      "File \u001b[0;32m/modules/rhel8/conda/install/envs/development-11-2023/lib/python3.9/concurrent/futures/_base.py:436\u001b[0m, in \u001b[0;36mFuture.result\u001b[0;34m(self, timeout)\u001b[0m\n\u001b[1;32m    434\u001b[0m \u001b[38;5;28;01mtry\u001b[39;00m:\n\u001b[1;32m    435\u001b[0m     \u001b[38;5;28;01mwith\u001b[39;00m \u001b[38;5;28mself\u001b[39m\u001b[38;5;241m.\u001b[39m_condition:\n\u001b[0;32m--> 436\u001b[0m         \u001b[38;5;28;01mif\u001b[39;00m \u001b[38;5;28;43mself\u001b[39;49m\u001b[38;5;241;43m.\u001b[39;49m\u001b[43m_state\u001b[49m \u001b[38;5;129;01min\u001b[39;00m [CANCELLED, CANCELLED_AND_NOTIFIED]:\n\u001b[1;32m    437\u001b[0m             \u001b[38;5;28;01mraise\u001b[39;00m CancelledError()\n\u001b[1;32m    438\u001b[0m         \u001b[38;5;28;01melif\u001b[39;00m \u001b[38;5;28mself\u001b[39m\u001b[38;5;241m.\u001b[39m_state \u001b[38;5;241m==\u001b[39m FINISHED:\n",
      "\u001b[0;31mKeyboardInterrupt\u001b[0m: "
     ]
    }
   ],
   "source": [
    "airport_identifier = airport_location['airport_identifier'].unique()\n",
    "for month_folder in os.listdir(folder_path):\n",
    "    month_path = os.path.join(folder_path, month_folder)\n",
    "    all_timesteps_data = []\n",
    "    for day_folder in os.listdir(month_path):\n",
    "        day_path = os.path.join(month_path, day_folder)\n",
    "\n",
    "        file_pattern = os.path.join(day_path, file_prefix)\n",
    "        file_list = glob.glob(file_pattern)\n",
    "\n",
    "        print(f\"Processing day: Month: {month_folder}, Day: {day_folder}\")\n",
    "\n",
    "        for file_path in file_list:\n",
    "            data = xr.open_mfdataset(file_path, chunks={'time':1})\n",
    "            start_time = time.time()\n",
    "            print(file_path)\n",
    "\n",
    "            latitude_values = airport_location.latitude.values\n",
    "            longitude_values = airport_location.longitude.values\n",
    "\n",
    "            x_values, y_values = transform_latitude_longitude_to_xy(latitude_values, longitude_values)\n",
    "\n",
    "            airport_six_timesteps = []\n",
    "\n",
    "            for airport_idx in range(len(latitude_values)):\n",
    "                nearest_x = x_values[airport_idx]\n",
    "                nearest_y = y_values[airport_idx]\n",
    "\n",
    "                #print(f\"AIRPORT {airport_idx + 1} COORDINATES:\")\n",
    "                #print(f\"  Latitude: {latitude_values[airport_idx]}\")\n",
    "                #print(f\"  Longitude: {longitude_values[airport_idx]}\")\n",
    "                #print(f\"  Nearest x: {nearest_x}\")\n",
    "                #print(f\"  Nearest y: {nearest_y}\")\n",
    "\n",
    "                # Extract latitude and longitude values from the data variable\n",
    "                lat_from_data = data.latitude.sel(x=nearest_x, y=nearest_y, method='nearest').values.item()\n",
    "                lon_from_data = data.longitude.sel(x=nearest_x, y=nearest_y, method='nearest').values.item()\n",
    "\n",
    "                #print(f\"  Latitude (Data): {lat_from_data}\")\n",
    "                #print(f\"  Longitude (Data): {lon_from_data}\")\n",
    "\n",
    "\n",
    "                interpolated_data = data[parameters].interp(x=nearest_x, y=nearest_y)\n",
    "\n",
    "                start_datetime = pd.to_datetime(data.time.values[0])  # Convert to pandas datetime\n",
    "                end_datetime = start_datetime + pd.DateOffset(hours=5)  # Assuming each time step is 1 hour\n",
    "\n",
    "                extracted_data = interpolated_data.sel(\n",
    "                    ensemble_member=0,\n",
    "                    time=slice(start_datetime, end_datetime)\n",
    "                )\n",
    "                \n",
    "                # Calculate precipitation amount\n",
    "\n",
    "                precipitation_acc = data['precipitation_amount_acc']\n",
    "\n",
    "                # Calculate precipitation for timestamp\n",
    "                precipitation = precipitation_acc.diff(dim='time', label='lower')\n",
    "\n",
    "                # Replace NaN in the first time step with the original value\n",
    "                precipitation = precipitation.fillna(precipitation_acc.isel(time=0))\n",
    "                precipitation.attrs = precipitation_acc.attrs\n",
    "                extracted_data['precipitation_amount'] = precipitation\n",
    "                # Add airport as a dimension with the corresponding index in airport_identifier\n",
    "                extracted_data = extracted_data.expand_dims({'airport': [airport_identifier[airport_idx]]})\n",
    "                airport_six_timesteps.append(extracted_data)\n",
    "            combined_data = xr.concat(airport_six_timesteps, dim='airport')\n",
    "            all_timesteps_data.append(combined_data)\n",
    "            end_time = time.time()\n",
    "            print(f'Time taken to extract info from {file_path}: {end_time - start_time}')\n",
    "            #print(f'Dimensions after concatenation for day {day_folder}: {combined_data.dims}')\n",
    "    final_combined_data = xr.concat(all_timesteps_data, dim='time')\n",
    "    final_combined_data = final_combined_data.drop_vars('ensemble_member')\n",
    "    \n",
    "    # Save pickle\n",
    "    pickle_filename = f'2021_{month_folder}_UPDATED_2.pkl'\n",
    "    pickle_filepath = os.path.join(output_folder, pickle_filename)\n",
    "\n",
    "    with open(pickle_filepath, 'wb') as pickle_file:\n",
    "        pickle.dump(final_combined_data, pickle_file)\n",
    "\n",
    "    print(f\"Saved pickle file for file {file_path}: {pickle_filepath}\")\n"
   ]
  }
 ],
 "metadata": {
  "kernelspec": {
   "display_name": "Python 3 (ipykernel)",
   "language": "python",
   "name": "python3"
  },
  "language_info": {
   "codemirror_mode": {
    "name": "ipython",
    "version": 3
   },
   "file_extension": ".py",
   "mimetype": "text/x-python",
   "name": "python",
   "nbconvert_exporter": "python",
   "pygments_lexer": "ipython3",
   "version": "3.9.13"
  }
 },
 "nbformat": 4,
 "nbformat_minor": 5
}
