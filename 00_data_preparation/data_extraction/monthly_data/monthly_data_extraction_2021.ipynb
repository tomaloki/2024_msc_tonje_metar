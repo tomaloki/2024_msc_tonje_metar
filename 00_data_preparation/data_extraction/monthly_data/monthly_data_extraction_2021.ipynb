{
 "cells": [
  {
   "cell_type": "code",
   "execution_count": 2,
   "id": "171cc485-207e-4d0c-8dfd-1ed2f5fccfe5",
   "metadata": {},
   "outputs": [],
   "source": [
    "import xarray as xr\n",
    "import pandas as pd\n",
    "import numpy as np\n",
    "import os\n",
    "import time\n",
    "import pyproj\n",
    "import glob\n",
    "import pickle"
   ]
  },
  {
   "cell_type": "code",
   "execution_count": 3,
   "id": "7417ebd6-c681-4bd7-b367-2eb5cfde1aeb",
   "metadata": {},
   "outputs": [],
   "source": [
    "airport_location = pd.read_csv('../data/airport_positions.csv')"
   ]
  },
  {
   "cell_type": "code",
   "execution_count": 4,
   "id": "2c85d9cb-a1c4-436e-a334-d29317c301cf",
   "metadata": {},
   "outputs": [
    {
     "name": "stderr",
     "output_type": "stream",
     "text": [
      "/tmp/ipykernel_3970298/664398462.py:2: FutureWarning: The default value of regex will change from True to False in a future version.\n",
      "  airport_location[['latitude', 'longitude']] = airport_location['position'].str.replace(r'[\\(\\)]', '').str.split(',', expand=True)\n"
     ]
    }
   ],
   "source": [
    "# Remove parenthesis for airport location in dataset -> split lon and lat values -> divide by 100 to obtain correct values\n",
    "airport_location[['latitude', 'longitude']] = airport_location['position'].str.replace(r'[\\(\\)]', '').str.split(',', expand=True)\n",
    "airport_location[['latitude', 'longitude']] = airport_location[['latitude', 'longitude']].astype('float') / 100"
   ]
  },
  {
   "cell_type": "code",
   "execution_count": 5,
   "id": "ea855361-3c8d-45c9-ae48-e927224ce668",
   "metadata": {},
   "outputs": [],
   "source": [
    "parameters = ['air_temperature_0m', 'air_temperature_2m', 'air_temperature_pl', \n",
    "              'relative_humidity_2m', 'precipitation_amount_acc', 'x_wind_10m', 'y_wind_10m', \n",
    "             'x_wind_pl', 'y_wind_pl', 'fog_area_fraction', 'surface_air_pressure', 'air_pressure_at_sea_level']"
   ]
  },
  {
   "cell_type": "code",
   "execution_count": 6,
   "id": "966a64e9-e29f-4fa5-96ff-e771355730ad",
   "metadata": {},
   "outputs": [],
   "source": [
    "def transform_latitude_longitude_to_xy(latitude_values, longitude_values):\n",
    "    # Create a pyproj CRS object\n",
    "    proj4_str = '+proj=lcc +lat_0=63.3 +lon_0=15 +lat_1=63.3 +lat_2=63.3 +no_defs +R=6.371e+06'\n",
    "    lcc_crs = pyproj.CRS.from_proj4(proj4_str)\n",
    "\n",
    "    # Create a transformer for converting between lat/lon and x/y\n",
    "    transformer = pyproj.Transformer.from_crs(pyproj.CRS(\"EPSG:4326\"), lcc_crs, always_xy=True)\n",
    "\n",
    "    # Transform lat/lon to x/y\n",
    "    x_values, y_values = transformer.transform(longitude_values, latitude_values)\n",
    "\n",
    "    return x_values, y_values"
   ]
  },
  {
   "cell_type": "code",
   "execution_count": 7,
   "id": "4bf1e60a-b122-49ad-b099-cad764d92c46",
   "metadata": {},
   "outputs": [],
   "source": [
    "# Define folder with paths and prefix for files to read\n",
    "folder_path = '/lustre/storeB/immutable/archive/projects/metproduction/meps/2021/'\n",
    "file_prefix = 'meps_lagged_6_h_subset_2_5km_*.nc'\n",
    "# file_pattern = os.path.join(folder_path, file_prefix)\n",
    "#file_list = glob.glob(file_pattern)\n",
    "output_folder = '/lustre/storeB/users/tonjek/msc/2024_msc_tonje_metar/data_extraction/2021/'"
   ]
  },
  {
   "cell_type": "code",
   "execution_count": 18,
   "id": "c78312ce-f4a0-4244-87e6-ad9186662917",
   "metadata": {},
   "outputs": [
    {
     "name": "stdout",
     "output_type": "stream",
     "text": [
      "Processing day: Month: 11, Day: 19\n",
      "/lustre/storeB/immutable/archive/projects/metproduction/meps/2023/11/19/meps_lagged_6_h_subset_2_5km_20231119T18Z.nc\n"
     ]
    },
    {
     "ename": "KeyboardInterrupt",
     "evalue": "",
     "output_type": "error",
     "traceback": [
      "\u001b[0;31m---------------------------------------------------------------------------\u001b[0m",
      "\u001b[0;31mKeyboardInterrupt\u001b[0m                         Traceback (most recent call last)",
      "Cell \u001b[0;32mIn [18], line 43\u001b[0m\n\u001b[1;32m     37\u001b[0m lon_from_data \u001b[38;5;241m=\u001b[39m data\u001b[38;5;241m.\u001b[39mlongitude\u001b[38;5;241m.\u001b[39msel(x\u001b[38;5;241m=\u001b[39mnearest_x, y\u001b[38;5;241m=\u001b[39mnearest_y, method\u001b[38;5;241m=\u001b[39m\u001b[38;5;124m'\u001b[39m\u001b[38;5;124mnearest\u001b[39m\u001b[38;5;124m'\u001b[39m)\u001b[38;5;241m.\u001b[39mvalues\u001b[38;5;241m.\u001b[39mitem()\n\u001b[1;32m     39\u001b[0m \u001b[38;5;66;03m#print(f\"  Latitude (Data): {lat_from_data}\")\u001b[39;00m\n\u001b[1;32m     40\u001b[0m \u001b[38;5;66;03m#print(f\"  Longitude (Data): {lon_from_data}\")\u001b[39;00m\n\u001b[0;32m---> 43\u001b[0m interpolated_data \u001b[38;5;241m=\u001b[39m data[parameters]\u001b[38;5;241m.\u001b[39minterp(x\u001b[38;5;241m=\u001b[39mnearest_x, y\u001b[38;5;241m=\u001b[39mnearest_y)\n\u001b[1;32m     45\u001b[0m start_datetime \u001b[38;5;241m=\u001b[39m pd\u001b[38;5;241m.\u001b[39mto_datetime(data\u001b[38;5;241m.\u001b[39mtime\u001b[38;5;241m.\u001b[39mvalues[\u001b[38;5;241m0\u001b[39m])  \u001b[38;5;66;03m# Convert to pandas datetime\u001b[39;00m\n\u001b[1;32m     46\u001b[0m end_datetime \u001b[38;5;241m=\u001b[39m start_datetime \u001b[38;5;241m+\u001b[39m pd\u001b[38;5;241m.\u001b[39mDateOffset(hours\u001b[38;5;241m=\u001b[39m\u001b[38;5;241m5\u001b[39m)  \u001b[38;5;66;03m# Assuming each time step is 1 hour\u001b[39;00m\n",
      "File \u001b[0;32m/modules/rhel8/conda/install/envs/development-11-2023/lib/python3.9/site-packages/xarray/core/dataset.py:3344\u001b[0m, in \u001b[0;36mDataset.interp\u001b[0;34m(self, coords, method, assume_sorted, kwargs, method_non_numeric, **coords_kwargs)\u001b[0m\n\u001b[1;32m   3341\u001b[0m \u001b[38;5;28;01mif\u001b[39;00m dtype_kind \u001b[38;5;129;01min\u001b[39;00m \u001b[38;5;124m\"\u001b[39m\u001b[38;5;124muifc\u001b[39m\u001b[38;5;124m\"\u001b[39m:\n\u001b[1;32m   3342\u001b[0m     \u001b[38;5;66;03m# For normal number types do the interpolation:\u001b[39;00m\n\u001b[1;32m   3343\u001b[0m     var_indexers \u001b[38;5;241m=\u001b[39m {k: v \u001b[38;5;28;01mfor\u001b[39;00m k, v \u001b[38;5;129;01min\u001b[39;00m use_indexers\u001b[38;5;241m.\u001b[39mitems() \u001b[38;5;28;01mif\u001b[39;00m k \u001b[38;5;129;01min\u001b[39;00m var\u001b[38;5;241m.\u001b[39mdims}\n\u001b[0;32m-> 3344\u001b[0m     variables[name] \u001b[38;5;241m=\u001b[39m \u001b[43mmissing\u001b[49m\u001b[38;5;241;43m.\u001b[39;49m\u001b[43minterp\u001b[49m\u001b[43m(\u001b[49m\u001b[43mvar\u001b[49m\u001b[43m,\u001b[49m\u001b[43m \u001b[49m\u001b[43mvar_indexers\u001b[49m\u001b[43m,\u001b[49m\u001b[43m \u001b[49m\u001b[43mmethod\u001b[49m\u001b[43m,\u001b[49m\u001b[43m \u001b[49m\u001b[38;5;241;43m*\u001b[39;49m\u001b[38;5;241;43m*\u001b[39;49m\u001b[43mkwargs\u001b[49m\u001b[43m)\u001b[49m\n\u001b[1;32m   3345\u001b[0m \u001b[38;5;28;01melif\u001b[39;00m dtype_kind \u001b[38;5;129;01min\u001b[39;00m \u001b[38;5;124m\"\u001b[39m\u001b[38;5;124mObU\u001b[39m\u001b[38;5;124m\"\u001b[39m \u001b[38;5;129;01mand\u001b[39;00m (use_indexers\u001b[38;5;241m.\u001b[39mkeys() \u001b[38;5;241m&\u001b[39m var\u001b[38;5;241m.\u001b[39mdims):\n\u001b[1;32m   3346\u001b[0m     \u001b[38;5;66;03m# For types that we do not understand do stepwise\u001b[39;00m\n\u001b[1;32m   3347\u001b[0m     \u001b[38;5;66;03m# interpolation to avoid modifying the elements.\u001b[39;00m\n\u001b[0;32m   (...)\u001b[0m\n\u001b[1;32m   3350\u001b[0m     \u001b[38;5;66;03m# this loop there might be some duplicate code that slows it\u001b[39;00m\n\u001b[1;32m   3351\u001b[0m     \u001b[38;5;66;03m# down, therefore collect these signals and run it later:\u001b[39;00m\n\u001b[1;32m   3352\u001b[0m     reindex \u001b[38;5;241m=\u001b[39m \u001b[38;5;28;01mTrue\u001b[39;00m\n",
      "File \u001b[0;32m/modules/rhel8/conda/install/envs/development-11-2023/lib/python3.9/site-packages/xarray/core/missing.py:639\u001b[0m, in \u001b[0;36minterp\u001b[0;34m(var, indexes_coords, method, **kwargs)\u001b[0m\n\u001b[1;32m    637\u001b[0m original_dims \u001b[38;5;241m=\u001b[39m broadcast_dims \u001b[38;5;241m+\u001b[39m dims\n\u001b[1;32m    638\u001b[0m new_dims \u001b[38;5;241m=\u001b[39m broadcast_dims \u001b[38;5;241m+\u001b[39m \u001b[38;5;28mlist\u001b[39m(destination[\u001b[38;5;241m0\u001b[39m]\u001b[38;5;241m.\u001b[39mdims)\n\u001b[0;32m--> 639\u001b[0m interped \u001b[38;5;241m=\u001b[39m \u001b[43minterp_func\u001b[49m\u001b[43m(\u001b[49m\n\u001b[1;32m    640\u001b[0m \u001b[43m    \u001b[49m\u001b[43mvar\u001b[49m\u001b[38;5;241;43m.\u001b[39;49m\u001b[43mtranspose\u001b[49m\u001b[43m(\u001b[49m\u001b[38;5;241;43m*\u001b[39;49m\u001b[43moriginal_dims\u001b[49m\u001b[43m)\u001b[49m\u001b[38;5;241;43m.\u001b[39;49m\u001b[43mdata\u001b[49m\u001b[43m,\u001b[49m\u001b[43m \u001b[49m\u001b[43mx\u001b[49m\u001b[43m,\u001b[49m\u001b[43m \u001b[49m\u001b[43mdestination\u001b[49m\u001b[43m,\u001b[49m\u001b[43m \u001b[49m\u001b[43mmethod\u001b[49m\u001b[43m,\u001b[49m\u001b[43m \u001b[49m\u001b[43mkwargs\u001b[49m\n\u001b[1;32m    641\u001b[0m \u001b[43m\u001b[49m\u001b[43m)\u001b[49m\n\u001b[1;32m    643\u001b[0m result \u001b[38;5;241m=\u001b[39m Variable(new_dims, interped, attrs\u001b[38;5;241m=\u001b[39mvar\u001b[38;5;241m.\u001b[39mattrs)\n\u001b[1;32m    645\u001b[0m \u001b[38;5;66;03m# dimension of the output array\u001b[39;00m\n",
      "File \u001b[0;32m/modules/rhel8/conda/install/envs/development-11-2023/lib/python3.9/site-packages/xarray/core/missing.py:720\u001b[0m, in \u001b[0;36minterp_func\u001b[0;34m(var, x, new_x, method, kwargs)\u001b[0m\n\u001b[1;32m    711\u001b[0m new_x_arginds \u001b[38;5;241m=\u001b[39m [item \u001b[38;5;28;01mfor\u001b[39;00m pair \u001b[38;5;129;01min\u001b[39;00m new_x_arginds \u001b[38;5;28;01mfor\u001b[39;00m item \u001b[38;5;129;01min\u001b[39;00m pair]\n\u001b[1;32m    713\u001b[0m args \u001b[38;5;241m=\u001b[39m (\n\u001b[1;32m    714\u001b[0m     var,\n\u001b[1;32m    715\u001b[0m     \u001b[38;5;28mrange\u001b[39m(ndim),\n\u001b[1;32m    716\u001b[0m     \u001b[38;5;241m*\u001b[39mx_arginds,\n\u001b[1;32m    717\u001b[0m     \u001b[38;5;241m*\u001b[39mnew_x_arginds,\n\u001b[1;32m    718\u001b[0m )\n\u001b[0;32m--> 720\u001b[0m _, rechunked \u001b[38;5;241m=\u001b[39m \u001b[43mda\u001b[49m\u001b[38;5;241;43m.\u001b[39;49m\u001b[43munify_chunks\u001b[49m\u001b[43m(\u001b[49m\u001b[38;5;241;43m*\u001b[39;49m\u001b[43margs\u001b[49m\u001b[43m)\u001b[49m\n\u001b[1;32m    722\u001b[0m args \u001b[38;5;241m=\u001b[39m \u001b[38;5;28mtuple\u001b[39m(elem \u001b[38;5;28;01mfor\u001b[39;00m pair \u001b[38;5;129;01min\u001b[39;00m \u001b[38;5;28mzip\u001b[39m(rechunked, args[\u001b[38;5;241m1\u001b[39m::\u001b[38;5;241m2\u001b[39m]) \u001b[38;5;28;01mfor\u001b[39;00m elem \u001b[38;5;129;01min\u001b[39;00m pair)\n\u001b[1;32m    724\u001b[0m new_x \u001b[38;5;241m=\u001b[39m rechunked[\u001b[38;5;241m1\u001b[39m \u001b[38;5;241m+\u001b[39m (\u001b[38;5;28mlen\u001b[39m(rechunked) \u001b[38;5;241m-\u001b[39m \u001b[38;5;241m1\u001b[39m) \u001b[38;5;241m/\u001b[39m\u001b[38;5;241m/\u001b[39m \u001b[38;5;241m2\u001b[39m :]\n",
      "File \u001b[0;32m/modules/rhel8/conda/install/envs/development-11-2023/lib/python3.9/site-packages/dask/array/core.py:3969\u001b[0m, in \u001b[0;36munify_chunks\u001b[0;34m(*args, **kwargs)\u001b[0m\n\u001b[1;32m   3960\u001b[0m chunks \u001b[38;5;241m=\u001b[39m \u001b[38;5;28mtuple\u001b[39m(\n\u001b[1;32m   3961\u001b[0m     chunkss[j]\n\u001b[1;32m   3962\u001b[0m     \u001b[38;5;28;01mif\u001b[39;00m a\u001b[38;5;241m.\u001b[39mshape[n] \u001b[38;5;241m>\u001b[39m \u001b[38;5;241m1\u001b[39m\n\u001b[0;32m   (...)\u001b[0m\n\u001b[1;32m   3966\u001b[0m     \u001b[38;5;28;01mfor\u001b[39;00m n, j \u001b[38;5;129;01min\u001b[39;00m \u001b[38;5;28menumerate\u001b[39m(i)\n\u001b[1;32m   3967\u001b[0m )\n\u001b[1;32m   3968\u001b[0m \u001b[38;5;28;01mif\u001b[39;00m chunks \u001b[38;5;241m!=\u001b[39m a\u001b[38;5;241m.\u001b[39mchunks \u001b[38;5;129;01mand\u001b[39;00m \u001b[38;5;28mall\u001b[39m(a\u001b[38;5;241m.\u001b[39mchunks):\n\u001b[0;32m-> 3969\u001b[0m     arrays\u001b[38;5;241m.\u001b[39mappend(\u001b[43ma\u001b[49m\u001b[38;5;241;43m.\u001b[39;49m\u001b[43mrechunk\u001b[49m\u001b[43m(\u001b[49m\u001b[43mchunks\u001b[49m\u001b[43m)\u001b[49m)\n\u001b[1;32m   3970\u001b[0m \u001b[38;5;28;01melse\u001b[39;00m:\n\u001b[1;32m   3971\u001b[0m     arrays\u001b[38;5;241m.\u001b[39mappend(a)\n",
      "File \u001b[0;32m/modules/rhel8/conda/install/envs/development-11-2023/lib/python3.9/site-packages/dask/array/core.py:2743\u001b[0m, in \u001b[0;36mArray.rechunk\u001b[0;34m(self, chunks, threshold, block_size_limit, balance)\u001b[0m\n\u001b[1;32m   2733\u001b[0m \u001b[38;5;124;03m\"\"\"Convert blocks in dask array x for new chunks.\u001b[39;00m\n\u001b[1;32m   2734\u001b[0m \n\u001b[1;32m   2735\u001b[0m \u001b[38;5;124;03mRefer to :func:`dask.array.rechunk` for full documentation.\u001b[39;00m\n\u001b[0;32m   (...)\u001b[0m\n\u001b[1;32m   2739\u001b[0m \u001b[38;5;124;03mdask.array.rechunk : equivalent function\u001b[39;00m\n\u001b[1;32m   2740\u001b[0m \u001b[38;5;124;03m\"\"\"\u001b[39;00m\n\u001b[1;32m   2741\u001b[0m \u001b[38;5;28;01mfrom\u001b[39;00m \u001b[38;5;21;01mdask\u001b[39;00m\u001b[38;5;21;01m.\u001b[39;00m\u001b[38;5;21;01marray\u001b[39;00m\u001b[38;5;21;01m.\u001b[39;00m\u001b[38;5;21;01mrechunk\u001b[39;00m \u001b[38;5;28;01mimport\u001b[39;00m rechunk  \u001b[38;5;66;03m# avoid circular import\u001b[39;00m\n\u001b[0;32m-> 2743\u001b[0m \u001b[38;5;28;01mreturn\u001b[39;00m \u001b[43mrechunk\u001b[49m\u001b[43m(\u001b[49m\u001b[38;5;28;43mself\u001b[39;49m\u001b[43m,\u001b[49m\u001b[43m \u001b[49m\u001b[43mchunks\u001b[49m\u001b[43m,\u001b[49m\u001b[43m \u001b[49m\u001b[43mthreshold\u001b[49m\u001b[43m,\u001b[49m\u001b[43m \u001b[49m\u001b[43mblock_size_limit\u001b[49m\u001b[43m,\u001b[49m\u001b[43m \u001b[49m\u001b[43mbalance\u001b[49m\u001b[43m)\u001b[49m\n",
      "File \u001b[0;32m/modules/rhel8/conda/install/envs/development-11-2023/lib/python3.9/site-packages/dask/array/rechunk.py:297\u001b[0m, in \u001b[0;36mrechunk\u001b[0;34m(x, chunks, threshold, block_size_limit, balance)\u001b[0m\n\u001b[1;32m    295\u001b[0m \u001b[38;5;28;01mif\u001b[39;00m \u001b[38;5;28misinstance\u001b[39m(chunks, (\u001b[38;5;28mtuple\u001b[39m, \u001b[38;5;28mlist\u001b[39m)):\n\u001b[1;32m    296\u001b[0m     chunks \u001b[38;5;241m=\u001b[39m \u001b[38;5;28mtuple\u001b[39m(lc \u001b[38;5;28;01mif\u001b[39;00m lc \u001b[38;5;129;01mis\u001b[39;00m \u001b[38;5;129;01mnot\u001b[39;00m \u001b[38;5;28;01mNone\u001b[39;00m \u001b[38;5;28;01melse\u001b[39;00m rc \u001b[38;5;28;01mfor\u001b[39;00m lc, rc \u001b[38;5;129;01min\u001b[39;00m \u001b[38;5;28mzip\u001b[39m(chunks, x\u001b[38;5;241m.\u001b[39mchunks))\n\u001b[0;32m--> 297\u001b[0m chunks \u001b[38;5;241m=\u001b[39m \u001b[43mnormalize_chunks\u001b[49m\u001b[43m(\u001b[49m\n\u001b[1;32m    298\u001b[0m \u001b[43m    \u001b[49m\u001b[43mchunks\u001b[49m\u001b[43m,\u001b[49m\u001b[43m \u001b[49m\u001b[43mx\u001b[49m\u001b[38;5;241;43m.\u001b[39;49m\u001b[43mshape\u001b[49m\u001b[43m,\u001b[49m\u001b[43m \u001b[49m\u001b[43mlimit\u001b[49m\u001b[38;5;241;43m=\u001b[39;49m\u001b[43mblock_size_limit\u001b[49m\u001b[43m,\u001b[49m\u001b[43m \u001b[49m\u001b[43mdtype\u001b[49m\u001b[38;5;241;43m=\u001b[39;49m\u001b[43mx\u001b[49m\u001b[38;5;241;43m.\u001b[39;49m\u001b[43mdtype\u001b[49m\u001b[43m,\u001b[49m\u001b[43m \u001b[49m\u001b[43mprevious_chunks\u001b[49m\u001b[38;5;241;43m=\u001b[39;49m\u001b[43mx\u001b[49m\u001b[38;5;241;43m.\u001b[39;49m\u001b[43mchunks\u001b[49m\n\u001b[1;32m    299\u001b[0m \u001b[43m\u001b[49m\u001b[43m)\u001b[49m\n\u001b[1;32m    301\u001b[0m \u001b[38;5;66;03m# Now chunks are tuple of tuples\u001b[39;00m\n\u001b[1;32m    302\u001b[0m \u001b[38;5;28;01mif\u001b[39;00m \u001b[38;5;129;01mnot\u001b[39;00m balance \u001b[38;5;129;01mand\u001b[39;00m (chunks \u001b[38;5;241m==\u001b[39m x\u001b[38;5;241m.\u001b[39mchunks):\n",
      "File \u001b[0;32m/modules/rhel8/conda/install/envs/development-11-2023/lib/python3.9/site-packages/dask/array/core.py:3111\u001b[0m, in \u001b[0;36mnormalize_chunks\u001b[0;34m(chunks, shape, limit, dtype, previous_chunks)\u001b[0m\n\u001b[1;32m   3102\u001b[0m     \u001b[38;5;28;01mif\u001b[39;00m \u001b[38;5;129;01mnot\u001b[39;00m \u001b[38;5;28mall\u001b[39m(\n\u001b[1;32m   3103\u001b[0m         c \u001b[38;5;241m==\u001b[39m s \u001b[38;5;129;01mor\u001b[39;00m (math\u001b[38;5;241m.\u001b[39misnan(c) \u001b[38;5;129;01mor\u001b[39;00m math\u001b[38;5;241m.\u001b[39misnan(s))\n\u001b[1;32m   3104\u001b[0m         \u001b[38;5;28;01mfor\u001b[39;00m c, s \u001b[38;5;129;01min\u001b[39;00m \u001b[38;5;28mzip\u001b[39m(\u001b[38;5;28mmap\u001b[39m(\u001b[38;5;28msum\u001b[39m, chunks), shape)\n\u001b[1;32m   3105\u001b[0m     ):\n\u001b[1;32m   3106\u001b[0m         \u001b[38;5;28;01mraise\u001b[39;00m \u001b[38;5;167;01mValueError\u001b[39;00m(\n\u001b[1;32m   3107\u001b[0m             \u001b[38;5;124m\"\u001b[39m\u001b[38;5;124mChunks do not add up to shape. \u001b[39m\u001b[38;5;124m\"\u001b[39m\n\u001b[1;32m   3108\u001b[0m             \u001b[38;5;124m\"\u001b[39m\u001b[38;5;124mGot chunks=\u001b[39m\u001b[38;5;132;01m%s\u001b[39;00m\u001b[38;5;124m, shape=\u001b[39m\u001b[38;5;132;01m%s\u001b[39;00m\u001b[38;5;124m\"\u001b[39m \u001b[38;5;241m%\u001b[39m (chunks, shape)\n\u001b[1;32m   3109\u001b[0m         )\n\u001b[0;32m-> 3111\u001b[0m \u001b[38;5;28;01mreturn\u001b[39;00m \u001b[38;5;28;43mtuple\u001b[39;49m\u001b[43m(\u001b[49m\u001b[38;5;28;43mtuple\u001b[39;49m\u001b[43m(\u001b[49m\u001b[38;5;28;43mint\u001b[39;49m\u001b[43m(\u001b[49m\u001b[43mx\u001b[49m\u001b[43m)\u001b[49m\u001b[43m \u001b[49m\u001b[38;5;28;43;01mif\u001b[39;49;00m\u001b[43m \u001b[49m\u001b[38;5;129;43;01mnot\u001b[39;49;00m\u001b[43m \u001b[49m\u001b[43mmath\u001b[49m\u001b[38;5;241;43m.\u001b[39;49m\u001b[43misnan\u001b[49m\u001b[43m(\u001b[49m\u001b[43mx\u001b[49m\u001b[43m)\u001b[49m\u001b[43m \u001b[49m\u001b[38;5;28;43;01melse\u001b[39;49;00m\u001b[43m \u001b[49m\u001b[43mx\u001b[49m\u001b[43m \u001b[49m\u001b[38;5;28;43;01mfor\u001b[39;49;00m\u001b[43m \u001b[49m\u001b[43mx\u001b[49m\u001b[43m \u001b[49m\u001b[38;5;129;43;01min\u001b[39;49;00m\u001b[43m \u001b[49m\u001b[43mc\u001b[49m\u001b[43m)\u001b[49m\u001b[43m \u001b[49m\u001b[38;5;28;43;01mfor\u001b[39;49;00m\u001b[43m \u001b[49m\u001b[43mc\u001b[49m\u001b[43m \u001b[49m\u001b[38;5;129;43;01min\u001b[39;49;00m\u001b[43m \u001b[49m\u001b[43mchunks\u001b[49m\u001b[43m)\u001b[49m\n",
      "File \u001b[0;32m/modules/rhel8/conda/install/envs/development-11-2023/lib/python3.9/site-packages/dask/array/core.py:3111\u001b[0m, in \u001b[0;36m<genexpr>\u001b[0;34m(.0)\u001b[0m\n\u001b[1;32m   3102\u001b[0m     \u001b[38;5;28;01mif\u001b[39;00m \u001b[38;5;129;01mnot\u001b[39;00m \u001b[38;5;28mall\u001b[39m(\n\u001b[1;32m   3103\u001b[0m         c \u001b[38;5;241m==\u001b[39m s \u001b[38;5;129;01mor\u001b[39;00m (math\u001b[38;5;241m.\u001b[39misnan(c) \u001b[38;5;129;01mor\u001b[39;00m math\u001b[38;5;241m.\u001b[39misnan(s))\n\u001b[1;32m   3104\u001b[0m         \u001b[38;5;28;01mfor\u001b[39;00m c, s \u001b[38;5;129;01min\u001b[39;00m \u001b[38;5;28mzip\u001b[39m(\u001b[38;5;28mmap\u001b[39m(\u001b[38;5;28msum\u001b[39m, chunks), shape)\n\u001b[1;32m   3105\u001b[0m     ):\n\u001b[1;32m   3106\u001b[0m         \u001b[38;5;28;01mraise\u001b[39;00m \u001b[38;5;167;01mValueError\u001b[39;00m(\n\u001b[1;32m   3107\u001b[0m             \u001b[38;5;124m\"\u001b[39m\u001b[38;5;124mChunks do not add up to shape. \u001b[39m\u001b[38;5;124m\"\u001b[39m\n\u001b[1;32m   3108\u001b[0m             \u001b[38;5;124m\"\u001b[39m\u001b[38;5;124mGot chunks=\u001b[39m\u001b[38;5;132;01m%s\u001b[39;00m\u001b[38;5;124m, shape=\u001b[39m\u001b[38;5;132;01m%s\u001b[39;00m\u001b[38;5;124m\"\u001b[39m \u001b[38;5;241m%\u001b[39m (chunks, shape)\n\u001b[1;32m   3109\u001b[0m         )\n\u001b[0;32m-> 3111\u001b[0m \u001b[38;5;28;01mreturn\u001b[39;00m \u001b[38;5;28mtuple\u001b[39m(\u001b[38;5;28;43mtuple\u001b[39;49m\u001b[43m(\u001b[49m\u001b[38;5;28;43mint\u001b[39;49m\u001b[43m(\u001b[49m\u001b[43mx\u001b[49m\u001b[43m)\u001b[49m\u001b[43m \u001b[49m\u001b[38;5;28;43;01mif\u001b[39;49;00m\u001b[43m \u001b[49m\u001b[38;5;129;43;01mnot\u001b[39;49;00m\u001b[43m \u001b[49m\u001b[43mmath\u001b[49m\u001b[38;5;241;43m.\u001b[39;49m\u001b[43misnan\u001b[49m\u001b[43m(\u001b[49m\u001b[43mx\u001b[49m\u001b[43m)\u001b[49m\u001b[43m \u001b[49m\u001b[38;5;28;43;01melse\u001b[39;49;00m\u001b[43m \u001b[49m\u001b[43mx\u001b[49m\u001b[43m \u001b[49m\u001b[38;5;28;43;01mfor\u001b[39;49;00m\u001b[43m \u001b[49m\u001b[43mx\u001b[49m\u001b[43m \u001b[49m\u001b[38;5;129;43;01min\u001b[39;49;00m\u001b[43m \u001b[49m\u001b[43mc\u001b[49m\u001b[43m)\u001b[49m \u001b[38;5;28;01mfor\u001b[39;00m c \u001b[38;5;129;01min\u001b[39;00m chunks)\n",
      "File \u001b[0;32m/modules/rhel8/conda/install/envs/development-11-2023/lib/python3.9/site-packages/dask/array/core.py:3111\u001b[0m, in \u001b[0;36m<genexpr>\u001b[0;34m(.0)\u001b[0m\n\u001b[1;32m   3102\u001b[0m     \u001b[38;5;28;01mif\u001b[39;00m \u001b[38;5;129;01mnot\u001b[39;00m \u001b[38;5;28mall\u001b[39m(\n\u001b[1;32m   3103\u001b[0m         c \u001b[38;5;241m==\u001b[39m s \u001b[38;5;129;01mor\u001b[39;00m (math\u001b[38;5;241m.\u001b[39misnan(c) \u001b[38;5;129;01mor\u001b[39;00m math\u001b[38;5;241m.\u001b[39misnan(s))\n\u001b[1;32m   3104\u001b[0m         \u001b[38;5;28;01mfor\u001b[39;00m c, s \u001b[38;5;129;01min\u001b[39;00m \u001b[38;5;28mzip\u001b[39m(\u001b[38;5;28mmap\u001b[39m(\u001b[38;5;28msum\u001b[39m, chunks), shape)\n\u001b[1;32m   3105\u001b[0m     ):\n\u001b[1;32m   3106\u001b[0m         \u001b[38;5;28;01mraise\u001b[39;00m \u001b[38;5;167;01mValueError\u001b[39;00m(\n\u001b[1;32m   3107\u001b[0m             \u001b[38;5;124m\"\u001b[39m\u001b[38;5;124mChunks do not add up to shape. \u001b[39m\u001b[38;5;124m\"\u001b[39m\n\u001b[1;32m   3108\u001b[0m             \u001b[38;5;124m\"\u001b[39m\u001b[38;5;124mGot chunks=\u001b[39m\u001b[38;5;132;01m%s\u001b[39;00m\u001b[38;5;124m, shape=\u001b[39m\u001b[38;5;132;01m%s\u001b[39;00m\u001b[38;5;124m\"\u001b[39m \u001b[38;5;241m%\u001b[39m (chunks, shape)\n\u001b[1;32m   3109\u001b[0m         )\n\u001b[0;32m-> 3111\u001b[0m \u001b[38;5;28;01mreturn\u001b[39;00m \u001b[38;5;28mtuple\u001b[39m(\u001b[38;5;28mtuple\u001b[39m(\u001b[38;5;28mint\u001b[39m(x) \u001b[38;5;28;01mif\u001b[39;00m \u001b[38;5;129;01mnot\u001b[39;00m \u001b[43mmath\u001b[49m\u001b[38;5;241;43m.\u001b[39;49m\u001b[43misnan\u001b[49m(x) \u001b[38;5;28;01melse\u001b[39;00m x \u001b[38;5;28;01mfor\u001b[39;00m x \u001b[38;5;129;01min\u001b[39;00m c) \u001b[38;5;28;01mfor\u001b[39;00m c \u001b[38;5;129;01min\u001b[39;00m chunks)\n",
      "\u001b[0;31mKeyboardInterrupt\u001b[0m: "
     ]
    }
   ],
   "source": [
    "for month_folder in os.listdir(folder_path):\n",
    "    month_path = os.path.join(folder_path, month_folder)\n",
    "    all_timesteps_data = []\n",
    "    for day_folder in os.listdir(month_path):\n",
    "        day_path = os.path.join(month_path, day_folder)\n",
    "\n",
    "        file_pattern = os.path.join(day_path, file_prefix)\n",
    "        file_list = glob.glob(file_pattern)\n",
    "\n",
    "        print(f\"Processing day: Month: {month_folder}, Day: {day_folder}\")\n",
    "\n",
    "        for file_path in file_list:\n",
    "            data = xr.open_mfdataset(file_path, chunks={'time':1})\n",
    "            start_time = time.time()\n",
    "            print(file_path)\n",
    "\n",
    "            latitude_values = airport_location.latitude.values\n",
    "            longitude_values = airport_location.longitude.values\n",
    "\n",
    "            x_values, y_values = transform_latitude_longitude_to_xy(latitude_values, longitude_values)\n",
    "\n",
    "            airport_six_timesteps = []\n",
    "\n",
    "            for airport_idx in range(len(latitude_values)):\n",
    "                nearest_x = x_values[airport_idx]\n",
    "                nearest_y = y_values[airport_idx]\n",
    "\n",
    "                #print(f\"AIRPORT {airport_idx + 1} COORDINATES:\")\n",
    "                #print(f\"  Latitude: {latitude_values[airport_idx]}\")\n",
    "                #print(f\"  Longitude: {longitude_values[airport_idx]}\")\n",
    "                #print(f\"  Nearest x: {nearest_x}\")\n",
    "                #print(f\"  Nearest y: {nearest_y}\")\n",
    "\n",
    "                # Extract latitude and longitude values from the data variable\n",
    "                lat_from_data = data.latitude.sel(x=nearest_x, y=nearest_y, method='nearest').values.item()\n",
    "                lon_from_data = data.longitude.sel(x=nearest_x, y=nearest_y, method='nearest').values.item()\n",
    "\n",
    "                #print(f\"  Latitude (Data): {lat_from_data}\")\n",
    "                #print(f\"  Longitude (Data): {lon_from_data}\")\n",
    "\n",
    "\n",
    "                interpolated_data = data[parameters].interp(x=nearest_x, y=nearest_y)\n",
    "\n",
    "                start_datetime = pd.to_datetime(data.time.values[0])  # Convert to pandas datetime\n",
    "                end_datetime = start_datetime + pd.DateOffset(hours=5)  # Assuming each time step is 1 hour\n",
    "\n",
    "                extracted_data = interpolated_data.sel(\n",
    "                    ensemble_member=0,\n",
    "                    time=slice(start_datetime, end_datetime)\n",
    "                )\n",
    "                # Add airport as a dimension with the corresponding index (+ 1)\n",
    "                extracted_data = extracted_data.expand_dims({'airport': [airport_idx + 1]})\n",
    "                airport_six_timesteps.append(extracted_data)\n",
    "            combined_data = xr.concat(airport_six_timesteps, dim='airport')\n",
    "            all_timesteps_data.append(combined_data)\n",
    "            end_time = time.time()\n",
    "            print(f'Time taken to extract info from {file_path}: {end_time - start_time}')\n",
    "            #print(f'Dimensions after concatenation for day {day_folder}: {combined_data.dims}')\n",
    "    final_combined_data = xr.concat(all_timesteps_data, dim='time')\n",
    "    \n",
    "    # Save pickle\n",
    "    pickle_filename = f'2021_{month_folder}.pkl'\n",
    "    pickle_filepath = os.path.join(output_folder, pickle_filename)\n",
    "\n",
    "    with open(pickle_filepath, 'wb') as pickle_file:\n",
    "        pickle.dump(final_combined_data, pickle_file)\n",
    "\n",
    "    print(f\"Saved pickle file for file {file_path}: {pickle_filepath}\")\n"
   ]
  }
 ],
 "metadata": {
  "kernelspec": {
   "display_name": "Python 3 (ipykernel)",
   "language": "python",
   "name": "python3"
  },
  "language_info": {
   "codemirror_mode": {
    "name": "ipython",
    "version": 3
   },
   "file_extension": ".py",
   "mimetype": "text/x-python",
   "name": "python",
   "nbconvert_exporter": "python",
   "pygments_lexer": "ipython3",
   "version": "3.9.13"
  }
 },
 "nbformat": 4,
 "nbformat_minor": 5
}
