{
 "cells": [
  {
   "cell_type": "code",
   "execution_count": 10,
   "id": "171cc485-207e-4d0c-8dfd-1ed2f5fccfe5",
   "metadata": {},
   "outputs": [],
   "source": [
    "import xarray as xr\n",
    "import pandas as pd\n",
    "import numpy as np\n",
    "import os\n",
    "import time\n",
    "import pyproj\n",
    "import glob\n",
    "import pickle"
   ]
  },
  {
   "cell_type": "code",
   "execution_count": 11,
   "id": "7417ebd6-c681-4bd7-b367-2eb5cfde1aeb",
   "metadata": {},
   "outputs": [],
   "source": [
    "airport_location = pd.read_csv('../../data/airport_positions_new.csv')"
   ]
  },
  {
   "cell_type": "code",
   "execution_count": 12,
   "id": "ea855361-3c8d-45c9-ae48-e927224ce668",
   "metadata": {},
   "outputs": [],
   "source": [
    "parameters = ['air_temperature_0m', 'air_temperature_2m', 'air_temperature_pl', \n",
    "              'relative_humidity_2m', 'precipitation_amount_acc', 'x_wind_10m', 'y_wind_10m', \n",
    "             'x_wind_pl', 'y_wind_pl', 'fog_area_fraction', 'surface_air_pressure', 'air_pressure_at_sea_level']"
   ]
  },
  {
   "cell_type": "code",
   "execution_count": 13,
   "id": "966a64e9-e29f-4fa5-96ff-e771355730ad",
   "metadata": {},
   "outputs": [],
   "source": [
    "def transform_latitude_longitude_to_xy(latitude_values, longitude_values):\n",
    "    # Create a pyproj CRS object\n",
    "    proj4_str = '+proj=lcc +lat_0=63.3 +lon_0=15 +lat_1=63.3 +lat_2=63.3 +no_defs +R=6.371e+06'\n",
    "    lcc_crs = pyproj.CRS.from_proj4(proj4_str)\n",
    "\n",
    "    # Create a transformer for converting between lat/lon and x/y\n",
    "    transformer = pyproj.Transformer.from_crs(pyproj.CRS(\"EPSG:4326\"), lcc_crs, always_xy=True)\n",
    "\n",
    "    # Transform lat/lon to x/y\n",
    "    x_values, y_values = transformer.transform(longitude_values, latitude_values)\n",
    "\n",
    "    return x_values, y_values"
   ]
  },
  {
   "cell_type": "code",
   "execution_count": 14,
   "id": "4bf1e60a-b122-49ad-b099-cad764d92c46",
   "metadata": {},
   "outputs": [],
   "source": [
    "# Define folder with paths and prefix for files to read\n",
    "folder_path = '/lustre/storeB/immutable/archive/projects/metproduction/meps/2022/'\n",
    "file_prefix = 'meps_lagged_6_h_subset_2_5km_*.nc'\n",
    "# file_pattern = os.path.join(folder_path, file_prefix)\n",
    "#file_list = glob.glob(file_pattern)\n",
    "output_folder = '/lustre/storeB/users/tonjek/msc/2024_msc_tonje_metar/00_data_preparation/data_extraction/2022/'"
   ]
  },
  {
   "cell_type": "code",
   "execution_count": 16,
   "id": "c78312ce-f4a0-4244-87e6-ad9186662917",
   "metadata": {
    "tags": []
   },
   "outputs": [
    {
     "name": "stdout",
     "output_type": "stream",
     "text": [
      "Processing day: Month: 11, Day: 19\n",
      "/lustre/storeB/immutable/archive/projects/metproduction/meps/2022/11/19/meps_lagged_6_h_subset_2_5km_20221119T06Z.nc\n"
     ]
    },
    {
     "ename": "KeyboardInterrupt",
     "evalue": "",
     "output_type": "error",
     "traceback": [
      "\u001b[0;31m---------------------------------------------------------------------------\u001b[0m",
      "\u001b[0;31mKeyboardInterrupt\u001b[0m                         Traceback (most recent call last)",
      "Cell \u001b[0;32mIn [16], line 56\u001b[0m\n\u001b[1;32m     54\u001b[0m var_x_wind \u001b[38;5;241m=\u001b[39m \u001b[38;5;124mf\u001b[39m\u001b[38;5;124m'\u001b[39m\u001b[38;5;124mx_wind_pl_\u001b[39m\u001b[38;5;132;01m{\u001b[39;00mpressure_level\u001b[38;5;132;01m}\u001b[39;00m\u001b[38;5;124m'\u001b[39m\n\u001b[1;32m     55\u001b[0m var_y_wind \u001b[38;5;241m=\u001b[39m \u001b[38;5;124mf\u001b[39m\u001b[38;5;124m'\u001b[39m\u001b[38;5;124my_wind_pl_\u001b[39m\u001b[38;5;132;01m{\u001b[39;00mpressure_level\u001b[38;5;132;01m}\u001b[39;00m\u001b[38;5;124m'\u001b[39m\n\u001b[0;32m---> 56\u001b[0m extracted_data[var_temp] \u001b[38;5;241m=\u001b[39m extracted_data\u001b[38;5;241m.\u001b[39msel(pressure\u001b[38;5;241m=\u001b[39mpressure_level)[\u001b[38;5;124m'\u001b[39m\u001b[38;5;124mair_temperature_pl\u001b[39m\u001b[38;5;124m'\u001b[39m]\n\u001b[1;32m     57\u001b[0m extracted_data[var_x_wind] \u001b[38;5;241m=\u001b[39m extracted_data\u001b[38;5;241m.\u001b[39msel(pressure\u001b[38;5;241m=\u001b[39mpressure_level)[\u001b[38;5;124m'\u001b[39m\u001b[38;5;124mx_wind_pl\u001b[39m\u001b[38;5;124m'\u001b[39m]\n\u001b[1;32m     58\u001b[0m extracted_data[var_y_wind] \u001b[38;5;241m=\u001b[39m extracted_data\u001b[38;5;241m.\u001b[39msel(pressure\u001b[38;5;241m=\u001b[39mpressure_level)[\u001b[38;5;124m'\u001b[39m\u001b[38;5;124my_wind_pl\u001b[39m\u001b[38;5;124m'\u001b[39m]\n",
      "File \u001b[0;32m/modules/rhel8/conda/install/envs/development-11-2023/lib/python3.9/site-packages/xarray/core/dataset.py:2547\u001b[0m, in \u001b[0;36mDataset.sel\u001b[0;34m(self, indexers, method, tolerance, drop, **indexers_kwargs)\u001b[0m\n\u001b[1;32m   2544\u001b[0m                 query_results\u001b[38;5;241m.\u001b[39mdrop_coords\u001b[38;5;241m.\u001b[39mappend(k)\n\u001b[1;32m   2545\u001b[0m     query_results\u001b[38;5;241m.\u001b[39mvariables \u001b[38;5;241m=\u001b[39m no_scalar_variables\n\u001b[0;32m-> 2547\u001b[0m result \u001b[38;5;241m=\u001b[39m \u001b[38;5;28;43mself\u001b[39;49m\u001b[38;5;241;43m.\u001b[39;49m\u001b[43misel\u001b[49m\u001b[43m(\u001b[49m\u001b[43mindexers\u001b[49m\u001b[38;5;241;43m=\u001b[39;49m\u001b[43mquery_results\u001b[49m\u001b[38;5;241;43m.\u001b[39;49m\u001b[43mdim_indexers\u001b[49m\u001b[43m,\u001b[49m\u001b[43m \u001b[49m\u001b[43mdrop\u001b[49m\u001b[38;5;241;43m=\u001b[39;49m\u001b[43mdrop\u001b[49m\u001b[43m)\u001b[49m\n\u001b[1;32m   2548\u001b[0m \u001b[38;5;28;01mreturn\u001b[39;00m result\u001b[38;5;241m.\u001b[39m_overwrite_indexes(\u001b[38;5;241m*\u001b[39mquery_results\u001b[38;5;241m.\u001b[39mas_tuple()[\u001b[38;5;241m1\u001b[39m:])\n",
      "File \u001b[0;32m/modules/rhel8/conda/install/envs/development-11-2023/lib/python3.9/site-packages/xarray/core/dataset.py:2404\u001b[0m, in \u001b[0;36mDataset.isel\u001b[0;34m(self, indexers, drop, missing_dims, **indexers_kwargs)\u001b[0m\n\u001b[1;32m   2402\u001b[0m     var \u001b[38;5;241m=\u001b[39m index_variables[name]\n\u001b[1;32m   2403\u001b[0m \u001b[38;5;28;01melse\u001b[39;00m:\n\u001b[0;32m-> 2404\u001b[0m     var_indexers \u001b[38;5;241m=\u001b[39m {k: v \u001b[38;5;28;01mfor\u001b[39;00m k, v \u001b[38;5;129;01min\u001b[39;00m indexers\u001b[38;5;241m.\u001b[39mitems() \u001b[38;5;28;01mif\u001b[39;00m k \u001b[38;5;129;01min\u001b[39;00m var\u001b[38;5;241m.\u001b[39mdims}\n\u001b[1;32m   2405\u001b[0m     \u001b[38;5;28;01mif\u001b[39;00m var_indexers:\n\u001b[1;32m   2406\u001b[0m         var \u001b[38;5;241m=\u001b[39m var\u001b[38;5;241m.\u001b[39misel(var_indexers)\n",
      "File \u001b[0;32m/modules/rhel8/conda/install/envs/development-11-2023/lib/python3.9/site-packages/xarray/core/dataset.py:2404\u001b[0m, in \u001b[0;36m<dictcomp>\u001b[0;34m(.0)\u001b[0m\n\u001b[1;32m   2402\u001b[0m     var \u001b[38;5;241m=\u001b[39m index_variables[name]\n\u001b[1;32m   2403\u001b[0m \u001b[38;5;28;01melse\u001b[39;00m:\n\u001b[0;32m-> 2404\u001b[0m     var_indexers \u001b[38;5;241m=\u001b[39m {k: v \u001b[38;5;28;01mfor\u001b[39;00m k, v \u001b[38;5;129;01min\u001b[39;00m indexers\u001b[38;5;241m.\u001b[39mitems() \u001b[38;5;28;01mif\u001b[39;00m k \u001b[38;5;129;01min\u001b[39;00m \u001b[43mvar\u001b[49m\u001b[38;5;241m.\u001b[39mdims}\n\u001b[1;32m   2405\u001b[0m     \u001b[38;5;28;01mif\u001b[39;00m var_indexers:\n\u001b[1;32m   2406\u001b[0m         var \u001b[38;5;241m=\u001b[39m var\u001b[38;5;241m.\u001b[39misel(var_indexers)\n",
      "\u001b[0;31mKeyboardInterrupt\u001b[0m: "
     ]
    }
   ],
   "source": [
    "airport_identifier = airport_location['airport_identifier'].unique()\n",
    "for month_folder in os.listdir(folder_path):\n",
    "    month_path = os.path.join(folder_path, month_folder)\n",
    "    all_timesteps_data = []\n",
    "    for day_folder in os.listdir(month_path):\n",
    "        day_path = os.path.join(month_path, day_folder)\n",
    "\n",
    "        file_pattern = os.path.join(day_path, file_prefix)\n",
    "        file_list = glob.glob(file_pattern)\n",
    "\n",
    "        print(f\"Processing day: Month: {month_folder}, Day: {day_folder}\")\n",
    "\n",
    "        for file_path in file_list:\n",
    "            data = xr.open_mfdataset(file_path, chunks={'time':1})\n",
    "            start_time = time.time()\n",
    "            print(file_path)\n",
    "\n",
    "            latitude_values = airport_location.latitude.values\n",
    "            longitude_values = airport_location.longitude.values\n",
    "\n",
    "            x_values, y_values = transform_latitude_longitude_to_xy(latitude_values, longitude_values)\n",
    "\n",
    "            airport_six_timesteps = []\n",
    "\n",
    "            for airport_idx in range(len(latitude_values)):\n",
    "                nearest_x = x_values[airport_idx]\n",
    "                nearest_y = y_values[airport_idx]\n",
    "\n",
    "                interpolated_data = data[parameters].interp(x=float(nearest_x), y=float(nearest_y))\n",
    "                \n",
    "                x_min = float(interpolated_data['x'].values - (10 * 2500))\n",
    "                x_max = float(interpolated_data['x'].values + (11 * 2500))\n",
    "                y_min = float(interpolated_data['y'].values - (10 * 2500))\n",
    "                y_max = float(interpolated_data['y'].values + (11 * 2500))\n",
    "\n",
    "                start_datetime = pd.to_datetime(data.time.values[0])\n",
    "                end_datetime = start_datetime + pd.DateOffset(hours=5)\n",
    "\n",
    "                extracted_data = data[parameters].sel(\n",
    "                    ensemble_member=0,\n",
    "                    time=slice(start_datetime, end_datetime),\n",
    "                    x=slice(x_min, x_max),\n",
    "                    y=slice(y_min, y_max),\n",
    "                    height0=0,\n",
    "                    height1=2,\n",
    "                    height2 = 10,\n",
    "                    height_above_msl=0,\n",
    "                    \n",
    "                )\n",
    "                \n",
    "                pressure_levels = [700, 850, 925]\n",
    "                for pressure_level in pressure_levels:\n",
    "                    var_temp = f'air_temperature_pl_{pressure_level}'\n",
    "                    var_x_wind = f'x_wind_pl_{pressure_level}'\n",
    "                    var_y_wind = f'y_wind_pl_{pressure_level}'\n",
    "                    extracted_data[var_temp] = extracted_data.sel(pressure=pressure_level)['air_temperature_pl']\n",
    "                    extracted_data[var_x_wind] = extracted_data.sel(pressure=pressure_level)['x_wind_pl']\n",
    "                    extracted_data[var_y_wind] = extracted_data.sel(pressure=pressure_level)['y_wind_pl']\n",
    "    \n",
    "                extracted_data = extracted_data.drop_vars(['air_temperature_pl', 'x_wind_pl', 'y_wind_pl', 'pressure'])\n",
    "                \n",
    "                # Add new coords for the extracted x and y values, and drop the original ones\n",
    "                extracted_data.coords['x_point'] = (('x',), extracted_data.x.values)\n",
    "                extracted_data.coords['y_point'] = (('y',), extracted_data.y.values)\n",
    "                extracted_data = extracted_data.drop_vars(['x', 'y'])\n",
    "                \n",
    "                # Calculate hourly precipitation amount\n",
    "                #hourly_precipitation = extracted_data['precipitation_amount_acc'].diff(dim='time', label='lower')\n",
    "\n",
    "                # Replace the first value in the diff with the original value \n",
    "                #hourly_precipitation[0, :, :] = extracted_data['precipitation_amount_acc'][0, :, :]\n",
    "\n",
    "                # Set negative differences to 0\n",
    "                #hourly_precipitation = xr.where(hourly_precipitation < 0, 0, hourly_precipitation)\n",
    "\n",
    "                #extracted_data['precipitation_amount_calculated'] = hourly_precipitation\n",
    "\n",
    "                # Convert Kelvin to Celsius in temperature columns\n",
    "                extracted_data['air_temperature_0m'] = extracted_data['air_temperature_0m'] - 273.15\n",
    "                extracted_data['air_temperature_2m'] = extracted_data['air_temperature_2m'] - 273.15\n",
    "                extracted_data['air_temperature_pl_700'] = extracted_data['air_temperature_pl_700'] - 273.15\n",
    "                extracted_data['air_temperature_pl_850'] = extracted_data['air_temperature_pl_850'] - 273.15\n",
    "                extracted_data['air_temperature_pl_925'] = extracted_data['air_temperature_pl_925'] - 273.15\n",
    "\n",
    "\n",
    "                # Add airport as a new dimension\n",
    "                extracted_data = extracted_data.expand_dims({'airport': [airport_identifier[airport_idx]]})                \n",
    "                \n",
    "                airport_six_timesteps.append(extracted_data)\n",
    "            combined_data = xr.concat(airport_six_timesteps, dim='airport')\n",
    "            all_timesteps_data.append(combined_data)\n",
    "            end_time = time.time()\n",
    "            print(f'Time taken to extract info from {file_path}: {end_time - start_time}')\n",
    "            #print(f'Dimensions after concatenation for day {day_folder}: {combined_data.dims}')\n",
    "    final_combined_data = xr.concat(all_timesteps_data, dim='time')\n",
    "    final_combined_data = final_combined_data.drop_vars('ensemble_member')\n",
    "\n",
    "    # Save pickle\n",
    "    pickle_filename = f'2022_{month_folder}_grid.pkl'\n",
    "    pickle_filepath = os.path.join(output_folder, pickle_filename)\n",
    "\n",
    "    with open(pickle_filepath, 'wb') as pickle_file:\n",
    "        pickle.dump(final_combined_data, pickle_file)\n",
    "\n",
    "    print(f\"Saved pickle file for file {file_path}: {pickle_filepath}\")"
   ]
  }
 ],
 "metadata": {
  "kernelspec": {
   "display_name": "Python 3 (ipykernel)",
   "language": "python",
   "name": "python3"
  },
  "language_info": {
   "codemirror_mode": {
    "name": "ipython",
    "version": 3
   },
   "file_extension": ".py",
   "mimetype": "text/x-python",
   "name": "python",
   "nbconvert_exporter": "python",
   "pygments_lexer": "ipython3",
   "version": "3.9.13"
  }
 },
 "nbformat": 4,
 "nbformat_minor": 5
}
