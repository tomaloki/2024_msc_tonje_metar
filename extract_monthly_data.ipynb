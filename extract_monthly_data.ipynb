{
 "cells": [
  {
   "cell_type": "code",
   "execution_count": 5,
   "id": "4a5441ba-d803-4d35-b930-3fd95c5ab7ad",
   "metadata": {},
   "outputs": [],
   "source": [
    "import xarray as xr\n",
    "import pandas as pd\n",
    "import numpy as np\n",
    "import os\n",
    "import time\n",
    "import pickle"
   ]
  },
  {
   "cell_type": "code",
   "execution_count": 20,
   "id": "da967be5-1cbe-47fe-9618-2f15a465a3cd",
   "metadata": {},
   "outputs": [],
   "source": [
    "def extract_monthly_data_from_netcdf(year_path, output_netcdf_path):\n",
    "    total_files = 0\n",
    "\n",
    "    # Iterate through all month folders in the year folder\n",
    "    for month_folder in os.listdir(year_path):\n",
    "        month_path = os.path.join(year_path, month_folder)\n",
    "\n",
    "        month_datasets = []  # List to store datasets from each day within the month\n",
    "\n",
    "        # Iterate through all day folders in the month folder\n",
    "        for day_folder in os.listdir(month_path):\n",
    "            day_path = os.path.join(month_path, day_folder)\n",
    "\n",
    "            file_list = [file for file in os.listdir(day_path) if file.startswith('meps_lagged_6_h_subset_2_5km_')]\n",
    "            \n",
    "            for file in file_list:\n",
    "                file_path = os.path.join(day_path, file)\n",
    "\n",
    "                start_time = time.time()\n",
    "\n",
    "                #data = xr.open_dataset(file_path)\n",
    "                data = xr.open_mfdataset(file_path, chunks={'time': 1})\n",
    "                extracted_data = data[['air_temperature_0m', 'air_temperature_2m']].isel(ensemble_member=0, time=slice(None, 6))\n",
    "\n",
    "\n",
    "                month_datasets.append(extracted_data)\n",
    "                total_files += 1\n",
    "                end_time = time.time()\n",
    "                print(f'Time taken to extract info from {file_path}: {end_time - start_time}')\n",
    "\n",
    "        # Concatenate datasets for the month\n",
    "        month_combined_data = xr.concat(month_datasets, dim='time').compute()\n",
    "        #month_combined_data = month_combined_data.sortby('time')\n",
    "\n",
    "        print(f'Total number of files read: {total_files}')\n",
    "    \n",
    "        #---- Save result to netcdf ----#\n",
    "        month_netcdf_path = os.path.join(output_netcdf_path, f'2023_{month_folder}.nc')\n",
    "        try:\n",
    "            month_combined_data.to_netcdf(month_netcdf_path)\n",
    "            print(f'netCDF file saved successfully')\n",
    "        except Exception as e:\n",
    "            print(f'Not able to save netCDF file, error: {e}')\n",
    "\n",
    "        #return all_year_combined_data\n",
    "    return month_combined_data"
   ]
  },
  {
   "cell_type": "code",
   "execution_count": 18,
   "id": "526fb4d8-1c1c-432f-bb3d-db6e21046bde",
   "metadata": {},
   "outputs": [
    {
     "name": "stdout",
     "output_type": "stream",
     "text": [
      "Time taken to extract info from /lustre/storeB/immutable/archive/projects/metproduction/meps/2021/11/19/meps_lagged_6_h_subset_2_5km_20211119T06Z.nc: 2.5919535160064697\n",
      "Time taken to extract info from /lustre/storeB/immutable/archive/projects/metproduction/meps/2021/11/19/meps_lagged_6_h_subset_2_5km_20211119T00Z.nc: 0.12510466575622559\n",
      "Time taken to extract info from /lustre/storeB/immutable/archive/projects/metproduction/meps/2021/11/19/meps_lagged_6_h_subset_2_5km_20211119T12Z.nc: 0.12354421615600586\n",
      "Time taken to extract info from /lustre/storeB/immutable/archive/projects/metproduction/meps/2021/11/19/meps_lagged_6_h_subset_2_5km_20211119T18Z.nc: 0.15836381912231445\n",
      "Time taken to extract info from /lustre/storeB/immutable/archive/projects/metproduction/meps/2021/11/11/meps_lagged_6_h_subset_2_5km_20211111T18Z.nc: 0.12106585502624512\n"
     ]
    },
    {
     "ename": "KeyboardInterrupt",
     "evalue": "",
     "output_type": "error",
     "traceback": [
      "\u001b[0;31m---------------------------------------------------------------------------\u001b[0m",
      "\u001b[0;31mKeyboardInterrupt\u001b[0m                         Traceback (most recent call last)",
      "Cell \u001b[0;32mIn [18], line 4\u001b[0m\n\u001b[1;32m      2\u001b[0m year_folder_path \u001b[38;5;241m=\u001b[39m \u001b[38;5;124m'\u001b[39m\u001b[38;5;124m/lustre/storeB/immutable/archive/projects/metproduction/meps/2021/\u001b[39m\u001b[38;5;124m'\u001b[39m\n\u001b[1;32m      3\u001b[0m output_netcdf_path \u001b[38;5;241m=\u001b[39m \u001b[38;5;124m'\u001b[39m\u001b[38;5;124m/lustre/storeB/users/tonjek/msc/2024_msc_tonje_metar/netcdf/2021/\u001b[39m\u001b[38;5;124m'\u001b[39m\n\u001b[0;32m----> 4\u001b[0m result \u001b[38;5;241m=\u001b[39m extract_monthly_data_from_netcdf(year_folder_path, output_netcdf_path)\n",
      "Cell \u001b[0;32mIn [17], line 22\u001b[0m, in \u001b[0;36mextract_monthly_data_from_netcdf\u001b[0;34m(year_path, output_netcdf_path)\u001b[0m\n\u001b[1;32m     19\u001b[0m start_time \u001b[38;5;241m=\u001b[39m time\u001b[38;5;241m.\u001b[39mtime()\n\u001b[1;32m     21\u001b[0m \u001b[38;5;66;03m#data = xr.open_dataset(file_path)\u001b[39;00m\n\u001b[0;32m---> 22\u001b[0m data \u001b[38;5;241m=\u001b[39m \u001b[43mxr\u001b[49m\u001b[38;5;241;43m.\u001b[39;49m\u001b[43mopen_mfdataset\u001b[49m\u001b[43m(\u001b[49m\u001b[43mfile_path\u001b[49m\u001b[43m,\u001b[49m\u001b[43m \u001b[49m\u001b[43mchunks\u001b[49m\u001b[38;5;241;43m=\u001b[39;49m\u001b[43m{\u001b[49m\u001b[38;5;124;43m'\u001b[39;49m\u001b[38;5;124;43mtime\u001b[39;49m\u001b[38;5;124;43m'\u001b[39;49m\u001b[43m:\u001b[49m\u001b[43m \u001b[49m\u001b[38;5;241;43m1\u001b[39;49m\u001b[43m}\u001b[49m\u001b[43m)\u001b[49m\n\u001b[1;32m     23\u001b[0m extracted_data \u001b[38;5;241m=\u001b[39m data[[\u001b[38;5;124m'\u001b[39m\u001b[38;5;124mair_temperature_0m\u001b[39m\u001b[38;5;124m'\u001b[39m, \u001b[38;5;124m'\u001b[39m\u001b[38;5;124mair_temperature_2m\u001b[39m\u001b[38;5;124m'\u001b[39m]]\u001b[38;5;241m.\u001b[39misel(ensemble_member\u001b[38;5;241m=\u001b[39m\u001b[38;5;241m0\u001b[39m, time\u001b[38;5;241m=\u001b[39m\u001b[38;5;28mslice\u001b[39m(\u001b[38;5;28;01mNone\u001b[39;00m, \u001b[38;5;241m6\u001b[39m))\n\u001b[1;32m     26\u001b[0m month_datasets\u001b[38;5;241m.\u001b[39mappend(extracted_data)\n",
      "File \u001b[0;32m/modules/rhel8/conda/install/envs/development-11-2023/lib/python3.9/site-packages/xarray/backends/api.py:972\u001b[0m, in \u001b[0;36mopen_mfdataset\u001b[0;34m(paths, chunks, concat_dim, compat, preprocess, engine, data_vars, coords, combine, parallel, join, attrs_file, combine_attrs, **kwargs)\u001b[0m\n\u001b[1;32m    969\u001b[0m     open_ \u001b[38;5;241m=\u001b[39m open_dataset\n\u001b[1;32m    970\u001b[0m     getattr_ \u001b[38;5;241m=\u001b[39m \u001b[38;5;28mgetattr\u001b[39m\n\u001b[0;32m--> 972\u001b[0m datasets \u001b[38;5;241m=\u001b[39m [open_(p, \u001b[38;5;241m*\u001b[39m\u001b[38;5;241m*\u001b[39mopen_kwargs) \u001b[38;5;28;01mfor\u001b[39;00m p \u001b[38;5;129;01min\u001b[39;00m paths]\n\u001b[1;32m    973\u001b[0m closers \u001b[38;5;241m=\u001b[39m [getattr_(ds, \u001b[38;5;124m\"\u001b[39m\u001b[38;5;124m_close\u001b[39m\u001b[38;5;124m\"\u001b[39m) \u001b[38;5;28;01mfor\u001b[39;00m ds \u001b[38;5;129;01min\u001b[39;00m datasets]\n\u001b[1;32m    974\u001b[0m \u001b[38;5;28;01mif\u001b[39;00m preprocess \u001b[38;5;129;01mis\u001b[39;00m \u001b[38;5;129;01mnot\u001b[39;00m \u001b[38;5;28;01mNone\u001b[39;00m:\n",
      "File \u001b[0;32m/modules/rhel8/conda/install/envs/development-11-2023/lib/python3.9/site-packages/xarray/backends/api.py:972\u001b[0m, in \u001b[0;36m<listcomp>\u001b[0;34m(.0)\u001b[0m\n\u001b[1;32m    969\u001b[0m     open_ \u001b[38;5;241m=\u001b[39m open_dataset\n\u001b[1;32m    970\u001b[0m     getattr_ \u001b[38;5;241m=\u001b[39m \u001b[38;5;28mgetattr\u001b[39m\n\u001b[0;32m--> 972\u001b[0m datasets \u001b[38;5;241m=\u001b[39m [\u001b[43mopen_\u001b[49m\u001b[43m(\u001b[49m\u001b[43mp\u001b[49m\u001b[43m,\u001b[49m\u001b[43m \u001b[49m\u001b[38;5;241;43m*\u001b[39;49m\u001b[38;5;241;43m*\u001b[39;49m\u001b[43mopen_kwargs\u001b[49m\u001b[43m)\u001b[49m \u001b[38;5;28;01mfor\u001b[39;00m p \u001b[38;5;129;01min\u001b[39;00m paths]\n\u001b[1;32m    973\u001b[0m closers \u001b[38;5;241m=\u001b[39m [getattr_(ds, \u001b[38;5;124m\"\u001b[39m\u001b[38;5;124m_close\u001b[39m\u001b[38;5;124m\"\u001b[39m) \u001b[38;5;28;01mfor\u001b[39;00m ds \u001b[38;5;129;01min\u001b[39;00m datasets]\n\u001b[1;32m    974\u001b[0m \u001b[38;5;28;01mif\u001b[39;00m preprocess \u001b[38;5;129;01mis\u001b[39;00m \u001b[38;5;129;01mnot\u001b[39;00m \u001b[38;5;28;01mNone\u001b[39;00m:\n",
      "File \u001b[0;32m/modules/rhel8/conda/install/envs/development-11-2023/lib/python3.9/site-packages/xarray/backends/api.py:515\u001b[0m, in \u001b[0;36mopen_dataset\u001b[0;34m(filename_or_obj, engine, chunks, cache, decode_cf, mask_and_scale, decode_times, decode_timedelta, use_cftime, concat_characters, decode_coords, drop_variables, inline_array, backend_kwargs, **kwargs)\u001b[0m\n\u001b[1;32m    512\u001b[0m     kwargs\u001b[38;5;241m.\u001b[39mupdate(backend_kwargs)\n\u001b[1;32m    514\u001b[0m \u001b[38;5;28;01mif\u001b[39;00m engine \u001b[38;5;129;01mis\u001b[39;00m \u001b[38;5;28;01mNone\u001b[39;00m:\n\u001b[0;32m--> 515\u001b[0m     engine \u001b[38;5;241m=\u001b[39m \u001b[43mplugins\u001b[49m\u001b[38;5;241;43m.\u001b[39;49m\u001b[43mguess_engine\u001b[49m\u001b[43m(\u001b[49m\u001b[43mfilename_or_obj\u001b[49m\u001b[43m)\u001b[49m\n\u001b[1;32m    517\u001b[0m backend \u001b[38;5;241m=\u001b[39m plugins\u001b[38;5;241m.\u001b[39mget_backend(engine)\n\u001b[1;32m    519\u001b[0m decoders \u001b[38;5;241m=\u001b[39m _resolve_decoders_kwargs(\n\u001b[1;32m    520\u001b[0m     decode_cf,\n\u001b[1;32m    521\u001b[0m     open_backend_dataset_parameters\u001b[38;5;241m=\u001b[39mbackend\u001b[38;5;241m.\u001b[39mopen_dataset_parameters,\n\u001b[0;32m   (...)\u001b[0m\n\u001b[1;32m    527\u001b[0m     decode_coords\u001b[38;5;241m=\u001b[39mdecode_coords,\n\u001b[1;32m    528\u001b[0m )\n",
      "File \u001b[0;32m/modules/rhel8/conda/install/envs/development-11-2023/lib/python3.9/site-packages/xarray/backends/plugins.py:114\u001b[0m, in \u001b[0;36mguess_engine\u001b[0;34m(store_spec)\u001b[0m\n\u001b[1;32m    112\u001b[0m \u001b[38;5;28;01mfor\u001b[39;00m engine, backend \u001b[38;5;129;01min\u001b[39;00m engines\u001b[38;5;241m.\u001b[39mitems():\n\u001b[1;32m    113\u001b[0m     \u001b[38;5;28;01mtry\u001b[39;00m:\n\u001b[0;32m--> 114\u001b[0m         \u001b[38;5;28;01mif\u001b[39;00m \u001b[43mbackend\u001b[49m\u001b[38;5;241;43m.\u001b[39;49m\u001b[43mguess_can_open\u001b[49m\u001b[43m(\u001b[49m\u001b[43mstore_spec\u001b[49m\u001b[43m)\u001b[49m:\n\u001b[1;32m    115\u001b[0m             \u001b[38;5;28;01mreturn\u001b[39;00m engine\n\u001b[1;32m    116\u001b[0m     \u001b[38;5;28;01mexcept\u001b[39;00m \u001b[38;5;167;01mException\u001b[39;00m:\n",
      "File \u001b[0;32m/modules/rhel8/conda/install/envs/development-11-2023/lib/python3.9/site-packages/xarray/backends/netCDF4_.py:524\u001b[0m, in \u001b[0;36mNetCDF4BackendEntrypoint.guess_can_open\u001b[0;34m(self, filename_or_obj)\u001b[0m\n\u001b[1;32m    522\u001b[0m \u001b[38;5;28;01mif\u001b[39;00m \u001b[38;5;28misinstance\u001b[39m(filename_or_obj, \u001b[38;5;28mstr\u001b[39m) \u001b[38;5;129;01mand\u001b[39;00m is_remote_uri(filename_or_obj):\n\u001b[1;32m    523\u001b[0m     \u001b[38;5;28;01mreturn\u001b[39;00m \u001b[38;5;28;01mTrue\u001b[39;00m\n\u001b[0;32m--> 524\u001b[0m magic_number \u001b[38;5;241m=\u001b[39m \u001b[43mtry_read_magic_number_from_path\u001b[49m\u001b[43m(\u001b[49m\u001b[43mfilename_or_obj\u001b[49m\u001b[43m)\u001b[49m\n\u001b[1;32m    525\u001b[0m \u001b[38;5;28;01mif\u001b[39;00m magic_number \u001b[38;5;129;01mis\u001b[39;00m \u001b[38;5;129;01mnot\u001b[39;00m \u001b[38;5;28;01mNone\u001b[39;00m:\n\u001b[1;32m    526\u001b[0m     \u001b[38;5;66;03m# netcdf 3 or HDF5\u001b[39;00m\n\u001b[1;32m    527\u001b[0m     \u001b[38;5;28;01mreturn\u001b[39;00m magic_number\u001b[38;5;241m.\u001b[39mstartswith((\u001b[38;5;124mb\u001b[39m\u001b[38;5;124m\"\u001b[39m\u001b[38;5;124mCDF\u001b[39m\u001b[38;5;124m\"\u001b[39m, \u001b[38;5;124mb\u001b[39m\u001b[38;5;124m\"\u001b[39m\u001b[38;5;130;01m\\211\u001b[39;00m\u001b[38;5;124mHDF\u001b[39m\u001b[38;5;130;01m\\r\u001b[39;00m\u001b[38;5;130;01m\\n\u001b[39;00m\u001b[38;5;130;01m\\032\u001b[39;00m\u001b[38;5;130;01m\\n\u001b[39;00m\u001b[38;5;124m\"\u001b[39m))\n",
      "File \u001b[0;32m/modules/rhel8/conda/install/envs/development-11-2023/lib/python3.9/site-packages/xarray/core/utils.py:665\u001b[0m, in \u001b[0;36mtry_read_magic_number_from_path\u001b[0;34m(pathlike, count)\u001b[0m\n\u001b[1;32m    663\u001b[0m \u001b[38;5;28;01mtry\u001b[39;00m:\n\u001b[1;32m    664\u001b[0m     \u001b[38;5;28;01mwith\u001b[39;00m \u001b[38;5;28mopen\u001b[39m(path, \u001b[38;5;124m\"\u001b[39m\u001b[38;5;124mrb\u001b[39m\u001b[38;5;124m\"\u001b[39m) \u001b[38;5;28;01mas\u001b[39;00m f:\n\u001b[0;32m--> 665\u001b[0m         \u001b[38;5;28;01mreturn\u001b[39;00m \u001b[43mread_magic_number_from_file\u001b[49m\u001b[43m(\u001b[49m\u001b[43mf\u001b[49m\u001b[43m,\u001b[49m\u001b[43m \u001b[49m\u001b[43mcount\u001b[49m\u001b[43m)\u001b[49m\n\u001b[1;32m    666\u001b[0m \u001b[38;5;28;01mexcept\u001b[39;00m (\u001b[38;5;167;01mFileNotFoundError\u001b[39;00m, \u001b[38;5;167;01mTypeError\u001b[39;00m):\n\u001b[1;32m    667\u001b[0m     \u001b[38;5;28;01mpass\u001b[39;00m\n",
      "File \u001b[0;32m/modules/rhel8/conda/install/envs/development-11-2023/lib/python3.9/site-packages/xarray/core/utils.py:653\u001b[0m, in \u001b[0;36mread_magic_number_from_file\u001b[0;34m(filename_or_obj, count)\u001b[0m\n\u001b[1;32m    647\u001b[0m     \u001b[38;5;28;01mif\u001b[39;00m filename_or_obj\u001b[38;5;241m.\u001b[39mtell() \u001b[38;5;241m!=\u001b[39m \u001b[38;5;241m0\u001b[39m:\n\u001b[1;32m    648\u001b[0m         \u001b[38;5;28;01mraise\u001b[39;00m \u001b[38;5;167;01mValueError\u001b[39;00m(\n\u001b[1;32m    649\u001b[0m             \u001b[38;5;124m\"\u001b[39m\u001b[38;5;124mcannot guess the engine, \u001b[39m\u001b[38;5;124m\"\u001b[39m\n\u001b[1;32m    650\u001b[0m             \u001b[38;5;124m\"\u001b[39m\u001b[38;5;124mfile-like object read/write pointer not at the start of the file, \u001b[39m\u001b[38;5;124m\"\u001b[39m\n\u001b[1;32m    651\u001b[0m             \u001b[38;5;124m\"\u001b[39m\u001b[38;5;124mplease close and reopen, or use a context manager\u001b[39m\u001b[38;5;124m\"\u001b[39m\n\u001b[1;32m    652\u001b[0m         )\n\u001b[0;32m--> 653\u001b[0m     magic_number \u001b[38;5;241m=\u001b[39m \u001b[43mfilename_or_obj\u001b[49m\u001b[38;5;241;43m.\u001b[39;49m\u001b[43mread\u001b[49m\u001b[43m(\u001b[49m\u001b[43mcount\u001b[49m\u001b[43m)\u001b[49m\n\u001b[1;32m    654\u001b[0m     filename_or_obj\u001b[38;5;241m.\u001b[39mseek(\u001b[38;5;241m0\u001b[39m)\n\u001b[1;32m    655\u001b[0m \u001b[38;5;28;01melse\u001b[39;00m:\n",
      "\u001b[0;31mKeyboardInterrupt\u001b[0m: "
     ]
    }
   ],
   "source": [
    "# Paths\n",
    "year_folder_path = '/lustre/storeB/immutable/archive/projects/metproduction/meps/2023/'\n",
    "output_netcdf_path = '/lustre/storeB/users/tonjek/msc/2024_msc_tonje_metar/netcdf/2023/'\n",
    "result = extract_monthly_data_from_netcdf(year_folder_path, output_netcdf_path)"
   ]
  }
 ],
 "metadata": {
  "kernelspec": {
   "display_name": "Python 3 (ipykernel)",
   "language": "python",
   "name": "python3"
  },
  "language_info": {
   "codemirror_mode": {
    "name": "ipython",
    "version": 3
   },
   "file_extension": ".py",
   "mimetype": "text/x-python",
   "name": "python",
   "nbconvert_exporter": "python",
   "pygments_lexer": "ipython3",
   "version": "3.9.13"
  }
 },
 "nbformat": 4,
 "nbformat_minor": 5
}
