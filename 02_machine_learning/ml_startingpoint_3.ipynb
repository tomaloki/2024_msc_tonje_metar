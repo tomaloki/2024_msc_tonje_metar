{
 "cells": [
  {
   "cell_type": "code",
   "execution_count": 548,
   "id": "d6c88834-9d0d-4581-a7ea-ab1d9dd9ec06",
   "metadata": {},
   "outputs": [],
   "source": [
    "import tensorflow as tf\n",
    "import pandas as pd\n",
    "import xarray as xr\n",
    "import pickle\n",
    "import numpy as np\n",
    "import seaborn as sns\n",
    "import matplotlib.pyplot as plt\n",
    "from sklearn.preprocessing import StandardScaler, LabelEncoder\n",
    "from sklearn.metrics import mean_squared_error, accuracy_score, precision_score, recall_score, f1_score, mean_absolute_error,confusion_matrix\n",
    "from sklearn.utils.class_weight import compute_class_weight\n",
    "\n",
    "# Deep learning model\n",
    "from keras.layers import Dropout, Flatten, GlobalMaxPooling1D, Input, Dense, Reshape, Concatenate, Embedding\n",
    "from tensorflow.keras.models import Model, load_model, Sequential\n",
    "from keras.callbacks import EarlyStopping"
   ]
  },
  {
   "cell_type": "code",
   "execution_count": 549,
   "id": "f296e6eb-1121-42e0-970c-02e0767552a6",
   "metadata": {},
   "outputs": [],
   "source": [
    "metar_data = pd.read_csv('../00_data_preparation/metar/metar_dataset_with_airport_location.csv')\n",
    "#training_data = pd.read_csv('../01_data_analyzation/file_height_2021_01.csv')\n",
    "#validation_data = pd.read_csv('../01_data_analyzation/file_height_2021_02.csv')\n",
    "testing_data = pd.read_csv('../01_data_analyzation/file_height0_2022_02_01_09.csv')\n",
    "training_data = pd.read_csv('../01_data_analyzation/file_height_2021_02_01_09.csv')"
   ]
  },
  {
   "cell_type": "code",
   "execution_count": 550,
   "id": "ca6e86a9-9c3c-49f6-a7d5-be658f55f145",
   "metadata": {},
   "outputs": [],
   "source": [
    "y_train = pd.read_csv('../01_data_analyzation/metar_file_file_height_2021_02_01_09.csv')\n",
    "y_test = pd.read_csv('../01_data_analyzation/metar_file_height_2022_02_01_09.csv')"
   ]
  },
  {
   "cell_type": "code",
   "execution_count": 551,
   "id": "7225dbf8-0030-4c2a-82f4-684419d8d13c",
   "metadata": {},
   "outputs": [],
   "source": [
    "y_train.rename(columns={'airport_identifier': 'airport'}, inplace=True)\n",
    "y_test.rename(columns={'airport_identifier': 'airport'}, inplace=True)"
   ]
  },
  {
   "cell_type": "code",
   "execution_count": 552,
   "id": "2d3e86a1-9d4c-4759-93e5-ebfe3e004362",
   "metadata": {},
   "outputs": [
    {
     "data": {
      "text/plain": [
       "71"
      ]
     },
     "execution_count": 552,
     "metadata": {},
     "output_type": "execute_result"
    }
   ],
   "source": [
    "y_train['airport'].nunique()"
   ]
  },
  {
   "cell_type": "code",
   "execution_count": 553,
   "id": "2ea7f88f-0d1d-4f28-bb2d-c0c9a017e010",
   "metadata": {},
   "outputs": [
    {
     "data": {
      "text/plain": [
       "69"
      ]
     },
     "execution_count": 553,
     "metadata": {},
     "output_type": "execute_result"
    }
   ],
   "source": [
    "training_data['airport'].nunique()"
   ]
  },
  {
   "cell_type": "code",
   "execution_count": 554,
   "id": "5fdaebe6-b2df-4874-9f3a-276b2bd2b688",
   "metadata": {},
   "outputs": [],
   "source": [
    "merged_data_train = pd.merge(y_train, training_data, on=['airport', 'time'], how='inner')\n",
    "merged_data_test = pd.merge(y_test, testing_data, on=['airport', 'time'], how='inner')"
   ]
  },
  {
   "cell_type": "code",
   "execution_count": 555,
   "id": "7b82cd73-0c8d-4eef-a833-985ec60452b5",
   "metadata": {},
   "outputs": [],
   "source": [
    "training_data = merged_data_train.drop(columns=['contain_FZ'])\n",
    "testing_data = merged_data_test.drop(columns=['contain_FZ'])"
   ]
  },
  {
   "cell_type": "code",
   "execution_count": 556,
   "id": "8b3de47a-2742-42ef-90fc-e8d1d8f3c84b",
   "metadata": {},
   "outputs": [],
   "source": [
    "y_train = merged_data_train['contain_FZ']\n",
    "y_test = merged_data_test['contain_FZ']"
   ]
  },
  {
   "cell_type": "code",
   "execution_count": 557,
   "id": "915ade41-ab2d-412f-b364-e173d0caa135",
   "metadata": {},
   "outputs": [
    {
     "data": {
      "text/html": [
       "<div>\n",
       "<style scoped>\n",
       "    .dataframe tbody tr th:only-of-type {\n",
       "        vertical-align: middle;\n",
       "    }\n",
       "\n",
       "    .dataframe tbody tr th {\n",
       "        vertical-align: top;\n",
       "    }\n",
       "\n",
       "    .dataframe thead th {\n",
       "        text-align: right;\n",
       "    }\n",
       "</style>\n",
       "<table border=\"1\" class=\"dataframe\">\n",
       "  <thead>\n",
       "    <tr style=\"text-align: right;\">\n",
       "      <th></th>\n",
       "      <th>airport</th>\n",
       "      <th>time</th>\n",
       "      <th>air_temperature_0m</th>\n",
       "      <th>fog_area_fraction</th>\n",
       "      <th>surface_air_pressure</th>\n",
       "      <th>air_pressure_at_sea_level</th>\n",
       "    </tr>\n",
       "  </thead>\n",
       "  <tbody>\n",
       "    <tr>\n",
       "      <th>0</th>\n",
       "      <td>ENAL</td>\n",
       "      <td>2021-02-01 00:00:00</td>\n",
       "      <td>277.285796</td>\n",
       "      <td>0.000031</td>\n",
       "      <td>99610.329728</td>\n",
       "      <td>99647.811148</td>\n",
       "    </tr>\n",
       "    <tr>\n",
       "      <th>1</th>\n",
       "      <td>ENAL</td>\n",
       "      <td>2021-02-01 01:00:00</td>\n",
       "      <td>277.855323</td>\n",
       "      <td>0.000506</td>\n",
       "      <td>99605.680698</td>\n",
       "      <td>99642.889456</td>\n",
       "    </tr>\n",
       "    <tr>\n",
       "      <th>2</th>\n",
       "      <td>ENAL</td>\n",
       "      <td>2021-02-01 02:00:00</td>\n",
       "      <td>277.692794</td>\n",
       "      <td>0.000049</td>\n",
       "      <td>99576.191119</td>\n",
       "      <td>99614.730695</td>\n",
       "    </tr>\n",
       "    <tr>\n",
       "      <th>3</th>\n",
       "      <td>ENAL</td>\n",
       "      <td>2021-02-01 03:00:00</td>\n",
       "      <td>277.610191</td>\n",
       "      <td>0.000000</td>\n",
       "      <td>99572.909236</td>\n",
       "      <td>99609.618528</td>\n",
       "    </tr>\n",
       "    <tr>\n",
       "      <th>4</th>\n",
       "      <td>ENAL</td>\n",
       "      <td>2021-02-01 04:00:00</td>\n",
       "      <td>277.629007</td>\n",
       "      <td>0.000000</td>\n",
       "      <td>99548.594203</td>\n",
       "      <td>99585.806027</td>\n",
       "    </tr>\n",
       "    <tr>\n",
       "      <th>...</th>\n",
       "      <td>...</td>\n",
       "      <td>...</td>\n",
       "      <td>...</td>\n",
       "      <td>...</td>\n",
       "      <td>...</td>\n",
       "      <td>...</td>\n",
       "    </tr>\n",
       "    <tr>\n",
       "      <th>10615</th>\n",
       "      <td>ENZV</td>\n",
       "      <td>2021-02-08 20:00:00</td>\n",
       "      <td>262.339323</td>\n",
       "      <td>0.000000</td>\n",
       "      <td>101924.154348</td>\n",
       "      <td>102165.472709</td>\n",
       "    </tr>\n",
       "    <tr>\n",
       "      <th>10616</th>\n",
       "      <td>ENZV</td>\n",
       "      <td>2021-02-08 21:00:00</td>\n",
       "      <td>261.811705</td>\n",
       "      <td>0.000000</td>\n",
       "      <td>101954.185109</td>\n",
       "      <td>102195.573329</td>\n",
       "    </tr>\n",
       "    <tr>\n",
       "      <th>10617</th>\n",
       "      <td>ENZV</td>\n",
       "      <td>2021-02-08 22:00:00</td>\n",
       "      <td>261.540230</td>\n",
       "      <td>0.000000</td>\n",
       "      <td>101936.507816</td>\n",
       "      <td>102177.617176</td>\n",
       "    </tr>\n",
       "    <tr>\n",
       "      <th>10618</th>\n",
       "      <td>ENZV</td>\n",
       "      <td>2021-02-08 23:00:00</td>\n",
       "      <td>261.577304</td>\n",
       "      <td>0.000000</td>\n",
       "      <td>101902.635259</td>\n",
       "      <td>102143.746073</td>\n",
       "    </tr>\n",
       "    <tr>\n",
       "      <th>10619</th>\n",
       "      <td>ENZV</td>\n",
       "      <td>2021-02-09 00:00:00</td>\n",
       "      <td>263.289378</td>\n",
       "      <td>0.000000</td>\n",
       "      <td>101882.627311</td>\n",
       "      <td>102123.503438</td>\n",
       "    </tr>\n",
       "  </tbody>\n",
       "</table>\n",
       "<p>10620 rows × 6 columns</p>\n",
       "</div>"
      ],
      "text/plain": [
       "      airport                 time  air_temperature_0m  fog_area_fraction  \\\n",
       "0        ENAL  2021-02-01 00:00:00          277.285796           0.000031   \n",
       "1        ENAL  2021-02-01 01:00:00          277.855323           0.000506   \n",
       "2        ENAL  2021-02-01 02:00:00          277.692794           0.000049   \n",
       "3        ENAL  2021-02-01 03:00:00          277.610191           0.000000   \n",
       "4        ENAL  2021-02-01 04:00:00          277.629007           0.000000   \n",
       "...       ...                  ...                 ...                ...   \n",
       "10615    ENZV  2021-02-08 20:00:00          262.339323           0.000000   \n",
       "10616    ENZV  2021-02-08 21:00:00          261.811705           0.000000   \n",
       "10617    ENZV  2021-02-08 22:00:00          261.540230           0.000000   \n",
       "10618    ENZV  2021-02-08 23:00:00          261.577304           0.000000   \n",
       "10619    ENZV  2021-02-09 00:00:00          263.289378           0.000000   \n",
       "\n",
       "       surface_air_pressure  air_pressure_at_sea_level  \n",
       "0              99610.329728               99647.811148  \n",
       "1              99605.680698               99642.889456  \n",
       "2              99576.191119               99614.730695  \n",
       "3              99572.909236               99609.618528  \n",
       "4              99548.594203               99585.806027  \n",
       "...                     ...                        ...  \n",
       "10615         101924.154348              102165.472709  \n",
       "10616         101954.185109              102195.573329  \n",
       "10617         101936.507816              102177.617176  \n",
       "10618         101902.635259              102143.746073  \n",
       "10619         101882.627311              102123.503438  \n",
       "\n",
       "[10620 rows x 6 columns]"
      ]
     },
     "execution_count": 557,
     "metadata": {},
     "output_type": "execute_result"
    }
   ],
   "source": [
    "training_data"
   ]
  },
  {
   "cell_type": "code",
   "execution_count": 167,
   "id": "0f7528fa-c378-4d1e-8da4-15489cd9a3e6",
   "metadata": {},
   "outputs": [
    {
     "data": {
      "text/plain": [
       "193"
      ]
     },
     "execution_count": 167,
     "metadata": {},
     "output_type": "execute_result"
    }
   ],
   "source": [
    "training_data['time'].nunique()"
   ]
  },
  {
   "cell_type": "code",
   "execution_count": 21,
   "id": "795abcee-aa90-4634-ba16-8786c3fb6ad5",
   "metadata": {},
   "outputs": [],
   "source": [
    "training_data['airport_id'] = pd.factorize(training_data['airport'])[0]\n",
    "testing_data['airport_id'] = pd.factorize(testing_data['airport'])[0]"
   ]
  },
  {
   "cell_type": "code",
   "execution_count": 194,
   "id": "6334b197-c424-4082-a26d-bc0178a09aac",
   "metadata": {},
   "outputs": [
    {
     "data": {
      "text/html": [
       "<div>\n",
       "<style scoped>\n",
       "    .dataframe tbody tr th:only-of-type {\n",
       "        vertical-align: middle;\n",
       "    }\n",
       "\n",
       "    .dataframe tbody tr th {\n",
       "        vertical-align: top;\n",
       "    }\n",
       "\n",
       "    .dataframe thead th {\n",
       "        text-align: right;\n",
       "    }\n",
       "</style>\n",
       "<table border=\"1\" class=\"dataframe\">\n",
       "  <thead>\n",
       "    <tr style=\"text-align: right;\">\n",
       "      <th></th>\n",
       "      <th>airport</th>\n",
       "      <th>time</th>\n",
       "      <th>air_temperature_0m</th>\n",
       "      <th>fog_area_fraction</th>\n",
       "      <th>surface_air_pressure</th>\n",
       "      <th>air_pressure_at_sea_level</th>\n",
       "    </tr>\n",
       "  </thead>\n",
       "  <tbody>\n",
       "    <tr>\n",
       "      <th>0</th>\n",
       "      <td>ENAL</td>\n",
       "      <td>2021-02-01 00:00:00</td>\n",
       "      <td>277.285796</td>\n",
       "      <td>0.000031</td>\n",
       "      <td>99610.329728</td>\n",
       "      <td>99647.811148</td>\n",
       "    </tr>\n",
       "    <tr>\n",
       "      <th>1</th>\n",
       "      <td>ENAL</td>\n",
       "      <td>2021-02-01 01:00:00</td>\n",
       "      <td>277.855323</td>\n",
       "      <td>0.000506</td>\n",
       "      <td>99605.680698</td>\n",
       "      <td>99642.889456</td>\n",
       "    </tr>\n",
       "    <tr>\n",
       "      <th>2</th>\n",
       "      <td>ENAL</td>\n",
       "      <td>2021-02-01 02:00:00</td>\n",
       "      <td>277.692794</td>\n",
       "      <td>0.000049</td>\n",
       "      <td>99576.191119</td>\n",
       "      <td>99614.730695</td>\n",
       "    </tr>\n",
       "    <tr>\n",
       "      <th>3</th>\n",
       "      <td>ENAL</td>\n",
       "      <td>2021-02-01 03:00:00</td>\n",
       "      <td>277.610191</td>\n",
       "      <td>0.000000</td>\n",
       "      <td>99572.909236</td>\n",
       "      <td>99609.618528</td>\n",
       "    </tr>\n",
       "    <tr>\n",
       "      <th>4</th>\n",
       "      <td>ENAL</td>\n",
       "      <td>2021-02-01 04:00:00</td>\n",
       "      <td>277.629007</td>\n",
       "      <td>0.000000</td>\n",
       "      <td>99548.594203</td>\n",
       "      <td>99585.806027</td>\n",
       "    </tr>\n",
       "    <tr>\n",
       "      <th>...</th>\n",
       "      <td>...</td>\n",
       "      <td>...</td>\n",
       "      <td>...</td>\n",
       "      <td>...</td>\n",
       "      <td>...</td>\n",
       "      <td>...</td>\n",
       "    </tr>\n",
       "    <tr>\n",
       "      <th>10615</th>\n",
       "      <td>ENZV</td>\n",
       "      <td>2021-02-08 20:00:00</td>\n",
       "      <td>262.339323</td>\n",
       "      <td>0.000000</td>\n",
       "      <td>101924.154348</td>\n",
       "      <td>102165.472709</td>\n",
       "    </tr>\n",
       "    <tr>\n",
       "      <th>10616</th>\n",
       "      <td>ENZV</td>\n",
       "      <td>2021-02-08 21:00:00</td>\n",
       "      <td>261.811705</td>\n",
       "      <td>0.000000</td>\n",
       "      <td>101954.185109</td>\n",
       "      <td>102195.573329</td>\n",
       "    </tr>\n",
       "    <tr>\n",
       "      <th>10617</th>\n",
       "      <td>ENZV</td>\n",
       "      <td>2021-02-08 22:00:00</td>\n",
       "      <td>261.540230</td>\n",
       "      <td>0.000000</td>\n",
       "      <td>101936.507816</td>\n",
       "      <td>102177.617176</td>\n",
       "    </tr>\n",
       "    <tr>\n",
       "      <th>10618</th>\n",
       "      <td>ENZV</td>\n",
       "      <td>2021-02-08 23:00:00</td>\n",
       "      <td>261.577304</td>\n",
       "      <td>0.000000</td>\n",
       "      <td>101902.635259</td>\n",
       "      <td>102143.746073</td>\n",
       "    </tr>\n",
       "    <tr>\n",
       "      <th>10619</th>\n",
       "      <td>ENZV</td>\n",
       "      <td>2021-02-09 00:00:00</td>\n",
       "      <td>263.289378</td>\n",
       "      <td>0.000000</td>\n",
       "      <td>101882.627311</td>\n",
       "      <td>102123.503438</td>\n",
       "    </tr>\n",
       "  </tbody>\n",
       "</table>\n",
       "<p>10620 rows × 6 columns</p>\n",
       "</div>"
      ],
      "text/plain": [
       "      airport                 time  air_temperature_0m  fog_area_fraction  \\\n",
       "0        ENAL  2021-02-01 00:00:00          277.285796           0.000031   \n",
       "1        ENAL  2021-02-01 01:00:00          277.855323           0.000506   \n",
       "2        ENAL  2021-02-01 02:00:00          277.692794           0.000049   \n",
       "3        ENAL  2021-02-01 03:00:00          277.610191           0.000000   \n",
       "4        ENAL  2021-02-01 04:00:00          277.629007           0.000000   \n",
       "...       ...                  ...                 ...                ...   \n",
       "10615    ENZV  2021-02-08 20:00:00          262.339323           0.000000   \n",
       "10616    ENZV  2021-02-08 21:00:00          261.811705           0.000000   \n",
       "10617    ENZV  2021-02-08 22:00:00          261.540230           0.000000   \n",
       "10618    ENZV  2021-02-08 23:00:00          261.577304           0.000000   \n",
       "10619    ENZV  2021-02-09 00:00:00          263.289378           0.000000   \n",
       "\n",
       "       surface_air_pressure  air_pressure_at_sea_level  \n",
       "0              99610.329728               99647.811148  \n",
       "1              99605.680698               99642.889456  \n",
       "2              99576.191119               99614.730695  \n",
       "3              99572.909236               99609.618528  \n",
       "4              99548.594203               99585.806027  \n",
       "...                     ...                        ...  \n",
       "10615         101924.154348              102165.472709  \n",
       "10616         101954.185109              102195.573329  \n",
       "10617         101936.507816              102177.617176  \n",
       "10618         101902.635259              102143.746073  \n",
       "10619         101882.627311              102123.503438  \n",
       "\n",
       "[10620 rows x 6 columns]"
      ]
     },
     "execution_count": 194,
     "metadata": {},
     "output_type": "execute_result"
    }
   ],
   "source": [
    "training_data"
   ]
  },
  {
   "cell_type": "markdown",
   "id": "fae17bd5-fa7f-4099-afc6-58e9272a004e",
   "metadata": {},
   "source": [
    "## Embed *airport_identifier* with one hot encoding"
   ]
  },
  {
   "cell_type": "code",
   "execution_count": 558,
   "id": "85a190a4-6b5b-4bb1-b69c-da1ae6159f6f",
   "metadata": {},
   "outputs": [
    {
     "data": {
      "text/plain": [
       "33.5"
      ]
     },
     "execution_count": 558,
     "metadata": {},
     "output_type": "execute_result"
    }
   ],
   "source": [
    "# Rule of thumb for number of embeddings: min(50, num_categories/2)\n",
    "min(50, 67/2)"
   ]
  },
  {
   "cell_type": "code",
   "execution_count": 559,
   "id": "e34637ea-0f3b-4b6f-b7ec-b31aa7992dc5",
   "metadata": {},
   "outputs": [],
   "source": [
    "data_params = ['air_temperature_0m', 'fog_area_fraction', 'surface_air_pressure', 'air_pressure_at_sea_level']"
   ]
  },
  {
   "cell_type": "code",
   "execution_count": 560,
   "id": "a6877e29-c9dd-43d1-abce-eddd50c5015a",
   "metadata": {},
   "outputs": [],
   "source": [
    "scaler = StandardScaler()\n",
    "training_data[data_params] = scaler.fit_transform(training_data[data_params])"
   ]
  },
  {
   "cell_type": "code",
   "execution_count": 561,
   "id": "8393a1aa-e5bf-4f3b-bdd1-eef070010356",
   "metadata": {},
   "outputs": [
    {
     "data": {
      "text/html": [
       "<div>\n",
       "<style scoped>\n",
       "    .dataframe tbody tr th:only-of-type {\n",
       "        vertical-align: middle;\n",
       "    }\n",
       "\n",
       "    .dataframe tbody tr th {\n",
       "        vertical-align: top;\n",
       "    }\n",
       "\n",
       "    .dataframe thead th {\n",
       "        text-align: right;\n",
       "    }\n",
       "</style>\n",
       "<table border=\"1\" class=\"dataframe\">\n",
       "  <thead>\n",
       "    <tr style=\"text-align: right;\">\n",
       "      <th></th>\n",
       "      <th>airport</th>\n",
       "      <th>time</th>\n",
       "      <th>air_temperature_0m</th>\n",
       "      <th>fog_area_fraction</th>\n",
       "      <th>surface_air_pressure</th>\n",
       "      <th>air_pressure_at_sea_level</th>\n",
       "    </tr>\n",
       "  </thead>\n",
       "  <tbody>\n",
       "    <tr>\n",
       "      <th>0</th>\n",
       "      <td>ENAL</td>\n",
       "      <td>2021-02-01 00:00:00</td>\n",
       "      <td>0.674246</td>\n",
       "      <td>-0.142505</td>\n",
       "      <td>-0.988241</td>\n",
       "      <td>-2.020470</td>\n",
       "    </tr>\n",
       "    <tr>\n",
       "      <th>1</th>\n",
       "      <td>ENAL</td>\n",
       "      <td>2021-02-01 01:00:00</td>\n",
       "      <td>0.741856</td>\n",
       "      <td>-0.132551</td>\n",
       "      <td>-0.990896</td>\n",
       "      <td>-2.024700</td>\n",
       "    </tr>\n",
       "    <tr>\n",
       "      <th>2</th>\n",
       "      <td>ENAL</td>\n",
       "      <td>2021-02-01 02:00:00</td>\n",
       "      <td>0.722562</td>\n",
       "      <td>-0.142115</td>\n",
       "      <td>-1.007742</td>\n",
       "      <td>-2.048903</td>\n",
       "    </tr>\n",
       "    <tr>\n",
       "      <th>3</th>\n",
       "      <td>ENAL</td>\n",
       "      <td>2021-02-01 03:00:00</td>\n",
       "      <td>0.712756</td>\n",
       "      <td>-0.143143</td>\n",
       "      <td>-1.009617</td>\n",
       "      <td>-2.053297</td>\n",
       "    </tr>\n",
       "    <tr>\n",
       "      <th>4</th>\n",
       "      <td>ENAL</td>\n",
       "      <td>2021-02-01 04:00:00</td>\n",
       "      <td>0.714990</td>\n",
       "      <td>-0.143143</td>\n",
       "      <td>-1.023506</td>\n",
       "      <td>-2.073764</td>\n",
       "    </tr>\n",
       "    <tr>\n",
       "      <th>...</th>\n",
       "      <td>...</td>\n",
       "      <td>...</td>\n",
       "      <td>...</td>\n",
       "      <td>...</td>\n",
       "      <td>...</td>\n",
       "      <td>...</td>\n",
       "    </tr>\n",
       "    <tr>\n",
       "      <th>10615</th>\n",
       "      <td>ENZV</td>\n",
       "      <td>2021-02-08 20:00:00</td>\n",
       "      <td>-1.100106</td>\n",
       "      <td>-0.143143</td>\n",
       "      <td>0.333510</td>\n",
       "      <td>0.143495</td>\n",
       "    </tr>\n",
       "    <tr>\n",
       "      <th>10616</th>\n",
       "      <td>ENZV</td>\n",
       "      <td>2021-02-08 21:00:00</td>\n",
       "      <td>-1.162741</td>\n",
       "      <td>-0.143143</td>\n",
       "      <td>0.350665</td>\n",
       "      <td>0.169367</td>\n",
       "    </tr>\n",
       "    <tr>\n",
       "      <th>10617</th>\n",
       "      <td>ENZV</td>\n",
       "      <td>2021-02-08 22:00:00</td>\n",
       "      <td>-1.194969</td>\n",
       "      <td>-0.143143</td>\n",
       "      <td>0.340567</td>\n",
       "      <td>0.153933</td>\n",
       "    </tr>\n",
       "    <tr>\n",
       "      <th>10618</th>\n",
       "      <td>ENZV</td>\n",
       "      <td>2021-02-08 23:00:00</td>\n",
       "      <td>-1.190568</td>\n",
       "      <td>-0.143143</td>\n",
       "      <td>0.321218</td>\n",
       "      <td>0.124821</td>\n",
       "    </tr>\n",
       "    <tr>\n",
       "      <th>10619</th>\n",
       "      <td>ENZV</td>\n",
       "      <td>2021-02-09 00:00:00</td>\n",
       "      <td>-0.987321</td>\n",
       "      <td>-0.143143</td>\n",
       "      <td>0.309788</td>\n",
       "      <td>0.107422</td>\n",
       "    </tr>\n",
       "  </tbody>\n",
       "</table>\n",
       "<p>10620 rows × 6 columns</p>\n",
       "</div>"
      ],
      "text/plain": [
       "      airport                 time  air_temperature_0m  fog_area_fraction  \\\n",
       "0        ENAL  2021-02-01 00:00:00            0.674246          -0.142505   \n",
       "1        ENAL  2021-02-01 01:00:00            0.741856          -0.132551   \n",
       "2        ENAL  2021-02-01 02:00:00            0.722562          -0.142115   \n",
       "3        ENAL  2021-02-01 03:00:00            0.712756          -0.143143   \n",
       "4        ENAL  2021-02-01 04:00:00            0.714990          -0.143143   \n",
       "...       ...                  ...                 ...                ...   \n",
       "10615    ENZV  2021-02-08 20:00:00           -1.100106          -0.143143   \n",
       "10616    ENZV  2021-02-08 21:00:00           -1.162741          -0.143143   \n",
       "10617    ENZV  2021-02-08 22:00:00           -1.194969          -0.143143   \n",
       "10618    ENZV  2021-02-08 23:00:00           -1.190568          -0.143143   \n",
       "10619    ENZV  2021-02-09 00:00:00           -0.987321          -0.143143   \n",
       "\n",
       "       surface_air_pressure  air_pressure_at_sea_level  \n",
       "0                 -0.988241                  -2.020470  \n",
       "1                 -0.990896                  -2.024700  \n",
       "2                 -1.007742                  -2.048903  \n",
       "3                 -1.009617                  -2.053297  \n",
       "4                 -1.023506                  -2.073764  \n",
       "...                     ...                        ...  \n",
       "10615              0.333510                   0.143495  \n",
       "10616              0.350665                   0.169367  \n",
       "10617              0.340567                   0.153933  \n",
       "10618              0.321218                   0.124821  \n",
       "10619              0.309788                   0.107422  \n",
       "\n",
       "[10620 rows x 6 columns]"
      ]
     },
     "execution_count": 561,
     "metadata": {},
     "output_type": "execute_result"
    }
   ],
   "source": [
    "training_data"
   ]
  },
  {
   "cell_type": "code",
   "execution_count": 562,
   "id": "dfab9674-5459-45aa-956f-8ef54be9dc99",
   "metadata": {},
   "outputs": [],
   "source": [
    "# Using label encoder to change the airport-column into integer labels\n",
    "label_encoder = LabelEncoder()\n",
    "training_data['airport_id'] = label_encoder.fit_transform(training_data['airport'])\n",
    "testing_data['airport_id'] = label_encoder.fit_transform(testing_data['airport'])"
   ]
  },
  {
   "cell_type": "code",
   "execution_count": 563,
   "id": "f92dd9b1-3e95-43f9-956a-8985cf067cbd",
   "metadata": {},
   "outputs": [
    {
     "data": {
      "text/html": [
       "<div>\n",
       "<style scoped>\n",
       "    .dataframe tbody tr th:only-of-type {\n",
       "        vertical-align: middle;\n",
       "    }\n",
       "\n",
       "    .dataframe tbody tr th {\n",
       "        vertical-align: top;\n",
       "    }\n",
       "\n",
       "    .dataframe thead th {\n",
       "        text-align: right;\n",
       "    }\n",
       "</style>\n",
       "<table border=\"1\" class=\"dataframe\">\n",
       "  <thead>\n",
       "    <tr style=\"text-align: right;\">\n",
       "      <th></th>\n",
       "      <th>airport</th>\n",
       "      <th>time</th>\n",
       "      <th>air_temperature_0m</th>\n",
       "      <th>fog_area_fraction</th>\n",
       "      <th>surface_air_pressure</th>\n",
       "      <th>air_pressure_at_sea_level</th>\n",
       "      <th>airport_id</th>\n",
       "    </tr>\n",
       "  </thead>\n",
       "  <tbody>\n",
       "    <tr>\n",
       "      <th>0</th>\n",
       "      <td>ENAL</td>\n",
       "      <td>2021-02-01 00:00:00</td>\n",
       "      <td>0.674246</td>\n",
       "      <td>-0.142505</td>\n",
       "      <td>-0.988241</td>\n",
       "      <td>-2.020470</td>\n",
       "      <td>0</td>\n",
       "    </tr>\n",
       "    <tr>\n",
       "      <th>1</th>\n",
       "      <td>ENAL</td>\n",
       "      <td>2021-02-01 01:00:00</td>\n",
       "      <td>0.741856</td>\n",
       "      <td>-0.132551</td>\n",
       "      <td>-0.990896</td>\n",
       "      <td>-2.024700</td>\n",
       "      <td>0</td>\n",
       "    </tr>\n",
       "    <tr>\n",
       "      <th>2</th>\n",
       "      <td>ENAL</td>\n",
       "      <td>2021-02-01 02:00:00</td>\n",
       "      <td>0.722562</td>\n",
       "      <td>-0.142115</td>\n",
       "      <td>-1.007742</td>\n",
       "      <td>-2.048903</td>\n",
       "      <td>0</td>\n",
       "    </tr>\n",
       "    <tr>\n",
       "      <th>3</th>\n",
       "      <td>ENAL</td>\n",
       "      <td>2021-02-01 03:00:00</td>\n",
       "      <td>0.712756</td>\n",
       "      <td>-0.143143</td>\n",
       "      <td>-1.009617</td>\n",
       "      <td>-2.053297</td>\n",
       "      <td>0</td>\n",
       "    </tr>\n",
       "    <tr>\n",
       "      <th>4</th>\n",
       "      <td>ENAL</td>\n",
       "      <td>2021-02-01 04:00:00</td>\n",
       "      <td>0.714990</td>\n",
       "      <td>-0.143143</td>\n",
       "      <td>-1.023506</td>\n",
       "      <td>-2.073764</td>\n",
       "      <td>0</td>\n",
       "    </tr>\n",
       "    <tr>\n",
       "      <th>...</th>\n",
       "      <td>...</td>\n",
       "      <td>...</td>\n",
       "      <td>...</td>\n",
       "      <td>...</td>\n",
       "      <td>...</td>\n",
       "      <td>...</td>\n",
       "      <td>...</td>\n",
       "    </tr>\n",
       "    <tr>\n",
       "      <th>10615</th>\n",
       "      <td>ENZV</td>\n",
       "      <td>2021-02-08 20:00:00</td>\n",
       "      <td>-1.100106</td>\n",
       "      <td>-0.143143</td>\n",
       "      <td>0.333510</td>\n",
       "      <td>0.143495</td>\n",
       "      <td>66</td>\n",
       "    </tr>\n",
       "    <tr>\n",
       "      <th>10616</th>\n",
       "      <td>ENZV</td>\n",
       "      <td>2021-02-08 21:00:00</td>\n",
       "      <td>-1.162741</td>\n",
       "      <td>-0.143143</td>\n",
       "      <td>0.350665</td>\n",
       "      <td>0.169367</td>\n",
       "      <td>66</td>\n",
       "    </tr>\n",
       "    <tr>\n",
       "      <th>10617</th>\n",
       "      <td>ENZV</td>\n",
       "      <td>2021-02-08 22:00:00</td>\n",
       "      <td>-1.194969</td>\n",
       "      <td>-0.143143</td>\n",
       "      <td>0.340567</td>\n",
       "      <td>0.153933</td>\n",
       "      <td>66</td>\n",
       "    </tr>\n",
       "    <tr>\n",
       "      <th>10618</th>\n",
       "      <td>ENZV</td>\n",
       "      <td>2021-02-08 23:00:00</td>\n",
       "      <td>-1.190568</td>\n",
       "      <td>-0.143143</td>\n",
       "      <td>0.321218</td>\n",
       "      <td>0.124821</td>\n",
       "      <td>66</td>\n",
       "    </tr>\n",
       "    <tr>\n",
       "      <th>10619</th>\n",
       "      <td>ENZV</td>\n",
       "      <td>2021-02-09 00:00:00</td>\n",
       "      <td>-0.987321</td>\n",
       "      <td>-0.143143</td>\n",
       "      <td>0.309788</td>\n",
       "      <td>0.107422</td>\n",
       "      <td>66</td>\n",
       "    </tr>\n",
       "  </tbody>\n",
       "</table>\n",
       "<p>10620 rows × 7 columns</p>\n",
       "</div>"
      ],
      "text/plain": [
       "      airport                 time  air_temperature_0m  fog_area_fraction  \\\n",
       "0        ENAL  2021-02-01 00:00:00            0.674246          -0.142505   \n",
       "1        ENAL  2021-02-01 01:00:00            0.741856          -0.132551   \n",
       "2        ENAL  2021-02-01 02:00:00            0.722562          -0.142115   \n",
       "3        ENAL  2021-02-01 03:00:00            0.712756          -0.143143   \n",
       "4        ENAL  2021-02-01 04:00:00            0.714990          -0.143143   \n",
       "...       ...                  ...                 ...                ...   \n",
       "10615    ENZV  2021-02-08 20:00:00           -1.100106          -0.143143   \n",
       "10616    ENZV  2021-02-08 21:00:00           -1.162741          -0.143143   \n",
       "10617    ENZV  2021-02-08 22:00:00           -1.194969          -0.143143   \n",
       "10618    ENZV  2021-02-08 23:00:00           -1.190568          -0.143143   \n",
       "10619    ENZV  2021-02-09 00:00:00           -0.987321          -0.143143   \n",
       "\n",
       "       surface_air_pressure  air_pressure_at_sea_level  airport_id  \n",
       "0                 -0.988241                  -2.020470           0  \n",
       "1                 -0.990896                  -2.024700           0  \n",
       "2                 -1.007742                  -2.048903           0  \n",
       "3                 -1.009617                  -2.053297           0  \n",
       "4                 -1.023506                  -2.073764           0  \n",
       "...                     ...                        ...         ...  \n",
       "10615              0.333510                   0.143495          66  \n",
       "10616              0.350665                   0.169367          66  \n",
       "10617              0.340567                   0.153933          66  \n",
       "10618              0.321218                   0.124821          66  \n",
       "10619              0.309788                   0.107422          66  \n",
       "\n",
       "[10620 rows x 7 columns]"
      ]
     },
     "execution_count": 563,
     "metadata": {},
     "output_type": "execute_result"
    }
   ],
   "source": [
    "training_data"
   ]
  },
  {
   "cell_type": "code",
   "execution_count": 564,
   "id": "c6a2ce49-9b57-4c49-9066-121bf331c884",
   "metadata": {},
   "outputs": [],
   "source": [
    "# Extract newest registered param values\n",
    "newest_training_data = training_data.groupby('airport_id').last()"
   ]
  },
  {
   "cell_type": "code",
   "execution_count": 565,
   "id": "405c3d08-6372-43c8-b19b-c3f9d5481d08",
   "metadata": {},
   "outputs": [],
   "source": [
    "newest_training_data = newest_training_data[data_params]"
   ]
  },
  {
   "cell_type": "code",
   "execution_count": 566,
   "id": "7c5f1bbc-a562-48d3-8873-936fac00593c",
   "metadata": {},
   "outputs": [],
   "source": [
    "airport_input = Input(shape=(1,), name='embed_airport_input')\n",
    "param_data_input = Input(shape=(4,), name='param_data_input')\n",
    "# newest_param_data_input = Input(shape=(4,), name='newest_param_data_input')"
   ]
  },
  {
   "cell_type": "code",
   "execution_count": 567,
   "id": "6d06beed-af2d-4973-8adc-08007e5acdb7",
   "metadata": {},
   "outputs": [],
   "source": [
    "# Prepare embedded layer and flatten\n",
    "embedding_airports = Embedding(input_dim=num_airports, output_dim=embed_dim_airports, input_length=1)(airport_input)\n",
    "flatten_airports = Flatten()(embedding_airports)"
   ]
  },
  {
   "cell_type": "code",
   "execution_count": 568,
   "id": "3619220f-0c23-4fae-9c90-e908c785d3fb",
   "metadata": {},
   "outputs": [],
   "source": [
    "concatenated_input = Concatenate()([flatten_airports, param_data_input])"
   ]
  },
  {
   "cell_type": "markdown",
   "id": "b1cdb230-c249-414e-8a54-53e2b52559de",
   "metadata": {},
   "source": [
    "## Model"
   ]
  },
  {
   "cell_type": "code",
   "execution_count": 569,
   "id": "7d02fd89-68ba-4fa4-bbc9-36effed087f1",
   "metadata": {},
   "outputs": [],
   "source": [
    "# Hidden layers\n",
    "dense_1 = Dense(units=64, activation='relu')(concatenated_input)\n",
    "dense_2 = Dense(units=32, activation='relu')(dense_1)\n",
    "#\n",
    "\n",
    "# Output layer\n",
    "output_layer = Dense(units=1, activation='sigmoid', name='output')(dense_2)\n",
    "\n",
    "# Create the model\n",
    "model = Model(inputs=[airport_input, param_data_input], outputs=output_layer)"
   ]
  },
  {
   "cell_type": "code",
   "execution_count": 570,
   "id": "18b156a6-05aa-4c26-81f8-83cbede99bf4",
   "metadata": {},
   "outputs": [],
   "source": [
    "# Compile the model\n",
    "model.compile(optimizer='adam', loss='binary_crossentropy', metrics=['accuracy'])"
   ]
  },
  {
   "cell_type": "code",
   "execution_count": 571,
   "id": "5666fd58-2d1d-41c1-9726-7aaa31b27e66",
   "metadata": {},
   "outputs": [
    {
     "name": "stdout",
     "output_type": "stream",
     "text": [
      "Model: \"model_14\"\n",
      "__________________________________________________________________________________________________\n",
      " Layer (type)                Output Shape                 Param #   Connected to                  \n",
      "==================================================================================================\n",
      " embed_airport_input (Input  [(None, 1)]                  0         []                            \n",
      " Layer)                                                                                           \n",
      "                                                                                                  \n",
      " embedding_44 (Embedding)    (None, 1, 32)                2144      ['embed_airport_input[0][0]'] \n",
      "                                                                                                  \n",
      " flatten_38 (Flatten)        (None, 32)                   0         ['embedding_44[0][0]']        \n",
      "                                                                                                  \n",
      " param_data_input (InputLay  [(None, 4)]                  0         []                            \n",
      " er)                                                                                              \n",
      "                                                                                                  \n",
      " concatenate_19 (Concatenat  (None, 36)                   0         ['flatten_38[0][0]',          \n",
      " e)                                                                  'param_data_input[0][0]']    \n",
      "                                                                                                  \n",
      " dense_65 (Dense)            (None, 64)                   2368      ['concatenate_19[0][0]']      \n",
      "                                                                                                  \n",
      " dense_66 (Dense)            (None, 32)                   2080      ['dense_65[0][0]']            \n",
      "                                                                                                  \n",
      " output (Dense)              (None, 1)                    33        ['dense_66[0][0]']            \n",
      "                                                                                                  \n",
      "==================================================================================================\n",
      "Total params: 6625 (25.88 KB)\n",
      "Trainable params: 6625 (25.88 KB)\n",
      "Non-trainable params: 0 (0.00 Byte)\n",
      "__________________________________________________________________________________________________\n"
     ]
    }
   ],
   "source": [
    "model.summary()"
   ]
  },
  {
   "cell_type": "code",
   "execution_count": 572,
   "id": "0b7677ea-fd79-4ed8-be91-c54312e15434",
   "metadata": {},
   "outputs": [],
   "source": [
    "y_train_num = y_train.astype(int)"
   ]
  },
  {
   "cell_type": "code",
   "execution_count": 573,
   "id": "c422bfe2-c28a-423f-a551-2052eb1fd343",
   "metadata": {},
   "outputs": [],
   "source": [
    "\n",
    "# Calculate class weights\n",
    "#class_weights_manual = {0: 50.0, 1: 100.0}\n",
    "\n",
    "# Use class weights during model training\n",
    "#model.fit({'embed_airport_input': training_data['airport_id'], 'param_data_input': training_data[data_params]}, y_train_num, class_weight=class_weights_manual,epochs=30, batch_size=128, validation_split=0.2)"
   ]
  },
  {
   "cell_type": "code",
   "execution_count": 574,
   "id": "f956d507-4042-4517-8708-ca6e566cfdec",
   "metadata": {},
   "outputs": [
    {
     "name": "stdout",
     "output_type": "stream",
     "text": [
      "Epoch 1/10\n",
      "266/266 [==============================] - 1s 2ms/step - loss: 0.1073 - accuracy: 0.9875 - val_loss: 0.0893 - val_accuracy: 0.9887\n",
      "Epoch 2/10\n",
      "266/266 [==============================] - 0s 1ms/step - loss: 0.0382 - accuracy: 0.9925 - val_loss: 0.0929 - val_accuracy: 0.9887\n",
      "Epoch 3/10\n",
      "266/266 [==============================] - 0s 1ms/step - loss: 0.0361 - accuracy: 0.9925 - val_loss: 0.1084 - val_accuracy: 0.9887\n",
      "Epoch 4/10\n",
      "266/266 [==============================] - 0s 1ms/step - loss: 0.0349 - accuracy: 0.9925 - val_loss: 0.1111 - val_accuracy: 0.9887\n",
      "Epoch 5/10\n",
      "266/266 [==============================] - 0s 1ms/step - loss: 0.0336 - accuracy: 0.9925 - val_loss: 0.0939 - val_accuracy: 0.9887\n",
      "Epoch 6/10\n",
      "266/266 [==============================] - 0s 1ms/step - loss: 0.0327 - accuracy: 0.9923 - val_loss: 0.1133 - val_accuracy: 0.9887\n",
      "Epoch 7/10\n",
      "266/266 [==============================] - 0s 1ms/step - loss: 0.0329 - accuracy: 0.9925 - val_loss: 0.1108 - val_accuracy: 0.9887\n",
      "Epoch 8/10\n",
      "266/266 [==============================] - 0s 1ms/step - loss: 0.0319 - accuracy: 0.9923 - val_loss: 0.1141 - val_accuracy: 0.9887\n",
      "Epoch 9/10\n",
      "266/266 [==============================] - 0s 1ms/step - loss: 0.0314 - accuracy: 0.9925 - val_loss: 0.1114 - val_accuracy: 0.9887\n",
      "Epoch 10/10\n",
      "266/266 [==============================] - 0s 1ms/step - loss: 0.0310 - accuracy: 0.9925 - val_loss: 0.1003 - val_accuracy: 0.9887\n"
     ]
    },
    {
     "data": {
      "text/plain": [
       "<keras.src.callbacks.History at 0x1516480ce280>"
      ]
     },
     "execution_count": 574,
     "metadata": {},
     "output_type": "execute_result"
    }
   ],
   "source": [
    "# Fit the model\n",
    "model.fit({'embed_airport_input': training_data['airport_id'], 'param_data_input': training_data[data_params]}, y_train, epochs=10, batch_size=32, validation_split=0.2)\n"
   ]
  },
  {
   "cell_type": "code",
   "execution_count": 576,
   "id": "3e8f6e8b-da64-4591-b6b0-b81b63624dec",
   "metadata": {},
   "outputs": [
    {
     "name": "stdout",
     "output_type": "stream",
     "text": [
      "335/335 [==============================] - 0s 705us/step\n"
     ]
    }
   ],
   "source": [
    "y_pred = model.predict({'embed_airport_input': testing_data['airport_id'], 'param_data_input': testing_data[data_params]})"
   ]
  },
  {
   "cell_type": "code",
   "execution_count": 577,
   "id": "5a1a83ce-9676-4c71-8fc7-773fe01d6fe4",
   "metadata": {},
   "outputs": [],
   "source": [
    "# Calculate accuracy\n",
    "accuracy = accuracy_score(y_test, y_pred)"
   ]
  },
  {
   "cell_type": "code",
   "execution_count": 578,
   "id": "f23179fd-8d7a-40a7-8f1e-c36b93b75d97",
   "metadata": {},
   "outputs": [
    {
     "data": {
      "text/plain": [
       "0.9923407435083131"
      ]
     },
     "execution_count": 578,
     "metadata": {},
     "output_type": "execute_result"
    }
   ],
   "source": [
    "accuracy"
   ]
  },
  {
   "cell_type": "code",
   "execution_count": 579,
   "id": "36a190a7-974b-4683-acda-0a4beb51924c",
   "metadata": {},
   "outputs": [],
   "source": [
    "conf_matrix = confusion_matrix(y_test_num, y_pred)"
   ]
  },
  {
   "cell_type": "code",
   "execution_count": 580,
   "id": "e5733bf5-91db-4d01-8fc8-638a238c48fa",
   "metadata": {},
   "outputs": [
    {
     "data": {
      "text/plain": [
       "array([[10624,     0],\n",
       "       [   82,     0]])"
      ]
     },
     "execution_count": 580,
     "metadata": {},
     "output_type": "execute_result"
    }
   ],
   "source": [
    "conf_matrix"
   ]
  },
  {
   "cell_type": "code",
   "execution_count": 417,
   "id": "6650c788-e63a-4b6f-80f7-75fc11b4853a",
   "metadata": {},
   "outputs": [
    {
     "data": {
      "image/png": "[encoded data removed]",
      "text/plain": [
       "<Figure size 800x600 with 2 Axes>"
      ]
     },
     "metadata": {},
     "output_type": "display_data"
    }
   ],
   "source": [
    "plt.figure(figsize=(8, 6))\n",
    "sns.heatmap(conf_matrix, annot=True, fmt='d', cmap='Blues', xticklabels=['False', 'True'], yticklabels=['False', 'True'])\n",
    "plt.title('Confusion Matrix')\n",
    "plt.xlabel('Predicted')\n",
    "plt.ylabel('True')\n",
    "plt.show()"
   ]
  }
 ],
 "metadata": {
  "kernelspec": {
   "display_name": "Python 3 (ipykernel)",
   "language": "python",
   "name": "python3"
  },
  "language_info": {
   "codemirror_mode": {
    "name": "ipython",
    "version": 3
   },
   "file_extension": ".py",
   "mimetype": "text/x-python",
   "name": "python",
   "nbconvert_exporter": "python",
   "pygments_lexer": "ipython3",
   "version": "3.9.13"
  }
 },
 "nbformat": 4,
 "nbformat_minor": 5
}
